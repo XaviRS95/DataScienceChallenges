{
 "cells": [
  {
   "cell_type": "code",
   "execution_count": 1,
   "id": "aee6b3e1-e711-4a15-9b77-7b8a78bbff52",
   "metadata": {},
   "outputs": [],
   "source": [
    "import numpy as np\n",
    "import pandas as pd\n",
    "pd.set_option('display.max_rows', None)\n",
    "pd.set_option('display.max_columns', None)\n",
    "from sklearn.model_selection import GridSearchCV\n",
    "from sklearn.metrics import f1_score, make_scorer\n",
    "from imblearn.over_sampling import RandomOverSampler\n",
    "from sklearn.preprocessing import MinMaxScaler, LabelEncoder\n",
    "\n",
    "from sklearn.svm import SVC\n",
    "from sklearn.model_selection import train_test_split\n",
    "from sklearn.ensemble import RandomForestClassifier, GradientBoostingClassifier\n",
    "from sklearn.metrics import precision_score, accuracy_score, f1_score, classification_report\n",
    "from sklearn.metrics import f1_score"
   ]
  },
  {
   "cell_type": "markdown",
   "id": "7b3be5a2-14d4-4e44-82ce-c9886ab31cb9",
   "metadata": {},
   "source": [
    "### Obtaining and understanding data:"
   ]
  },
  {
   "cell_type": "code",
   "execution_count": 2,
   "id": "7e4ecf79-b4f8-4405-8672-d7ebcdbef86c",
   "metadata": {},
   "outputs": [],
   "source": [
    "original_data = pd.read_csv('data/train.csv')\n",
    "additional_data = pd.read_csv('data/horse.csv')"
   ]
  },
  {
   "cell_type": "code",
   "execution_count": 3,
   "id": "ca817407-1514-4d88-b7f5-06bacf075ef5",
   "metadata": {},
   "outputs": [],
   "source": [
    "original_data.drop(['id'], axis = 1, inplace = True)\n",
    "raw_data = pd.concat([original_data, additional_data])\n",
    "raw_data.outcome = raw_data.outcome.map({'died': 0, 'euthanized': 1, 'lived': 2})"
   ]
  },
  {
   "cell_type": "code",
   "execution_count": 4,
   "id": "ae5f5238-1c51-4be0-b0bd-1126f9b4f8c6",
   "metadata": {},
   "outputs": [],
   "source": [
    "float_columns = raw_data.select_dtypes(include=['float64']).columns\n",
    "object_columns = raw_data.select_dtypes(include=['object']).columns"
   ]
  },
  {
   "cell_type": "code",
   "execution_count": 5,
   "id": "e468f284-222b-43c1-a3c9-95d857fe0cb8",
   "metadata": {},
   "outputs": [
    {
     "data": {
      "text/plain": [
       "rectal_temp               60\n",
       "pulse                     24\n",
       "respiratory_rate          58\n",
       "nasogastric_reflux_ph    246\n",
       "packed_cell_volume        29\n",
       "total_protein             33\n",
       "abdomo_protein           198\n",
       "dtype: int64"
      ]
     },
     "execution_count": 5,
     "metadata": {},
     "output_type": "execute_result"
    }
   ],
   "source": [
    "raw_data[float_columns].isnull().sum()"
   ]
  },
  {
   "cell_type": "code",
   "execution_count": 6,
   "id": "2ab42eb0-902f-4f3e-926a-d3c022afd726",
   "metadata": {},
   "outputs": [
    {
     "data": {
      "text/plain": [
       "surgery                    0\n",
       "age                        0\n",
       "temp_of_extremities       95\n",
       "peripheral_pulse         129\n",
       "mucous_membrane           68\n",
       "capillary_refill_time     38\n",
       "pain                      99\n",
       "peristalsis               64\n",
       "abdominal_distention      79\n",
       "nasogastric_tube         184\n",
       "nasogastric_reflux       127\n",
       "rectal_exam_feces        292\n",
       "abdomen                  331\n",
       "abdomo_appearance        213\n",
       "surgical_lesion            0\n",
       "cp_data                    0\n",
       "dtype: int64"
      ]
     },
     "execution_count": 6,
     "metadata": {},
     "output_type": "execute_result"
    }
   ],
   "source": [
    "raw_data[object_columns].isnull().sum()"
   ]
  },
  {
   "cell_type": "code",
   "execution_count": 7,
   "id": "6f4a45d9-fb17-455e-82c4-84b524278cb8",
   "metadata": {},
   "outputs": [
    {
     "data": {
      "text/plain": [
       "['hospital_number', 'lesion_1', 'lesion_2', 'lesion_3', 'outcome']"
      ]
     },
     "execution_count": 7,
     "metadata": {},
     "output_type": "execute_result"
    }
   ],
   "source": [
    "[column for column in raw_data.columns if column not in float_columns.tolist() + object_columns.tolist()]"
   ]
  },
  {
   "cell_type": "code",
   "execution_count": 8,
   "id": "4976c3f5-6687-4dac-9431-572f8adef2bd",
   "metadata": {},
   "outputs": [],
   "source": [
    "raw_target = raw_data['outcome']\n",
    "raw_data.drop(columns = ['hospital_number', 'abdomen', 'lesion_2', 'lesion_3', 'outcome'], axis =1, inplace = True)\n",
    "raw_data['lesion_1'] = raw_data['lesion_1'].astype(str)\n",
    "#Update columns:\n",
    "float_columns = raw_data.select_dtypes(include=['float64']).columns\n",
    "object_columns = raw_data.select_dtypes(include=['object']).columns\n"
   ]
  },
  {
   "cell_type": "markdown",
   "id": "c44821ef-d412-4496-8cc7-d28dcd166812",
   "metadata": {},
   "source": [
    "### Preprocessing the data"
   ]
  },
  {
   "cell_type": "code",
   "execution_count": 9,
   "id": "55033c96-bd80-41ff-9bf7-fffc074f2a5b",
   "metadata": {},
   "outputs": [],
   "source": [
    "def get_clean_data(clean_data, float_columns):\n",
    "\n",
    "    #clean_data.drop(columns = ['pain', 'age' , 'nasogastric_reflux', 'lesion_1', 'lesion_2', 'lesion_3', 'rectal_temp', 'mucous_membrane', 'cp_data', 'nasogastric_tube'], inplace = True)\n",
    "    clean_data['temp_of_extremities'].fillna('cool', inplace = True)\n",
    "    clean_data['mucous_membrane'].fillna('other', inplace = True)\n",
    "    clean_data['mucous_membrane'] = clean_data['mucous_membrane'].apply(lambda x: 'other' if x in ['absent', 'increased'] else x)\n",
    "    clean_data['capillary_refill_time'].fillna('less_3_sec', inplace = True)\n",
    "    clean_data['capillary_refill_time'] = clean_data['capillary_refill_time'].str.replace(pat = '3', repl = 'less_3_sec')\n",
    "    clean_data['pain'].fillna('pain', inplace = True)\n",
    "    clean_data['pain'] = clean_data['pain'].str.replace(pat = 'slight', repl = 'severe_pain')\n",
    "    clean_data['peristalsis'].fillna('absent', inplace = True)\n",
    "    clean_data['abdominal_distention'].fillna('severe', inplace = True)\n",
    "    clean_data['nasogastric_tube'].fillna('missing', inplace = True)\n",
    "    clean_data['nasogastric_reflux'] = clean_data['nasogastric_reflux'].str.replace(pat = 'slight', repl = 'missing')\n",
    "    clean_data['nasogastric_reflux'].fillna('missing', inplace = True)\n",
    "    clean_data['rectal_exam_feces'].fillna('missing', inplace = True)\n",
    "    clean_data['rectal_exam_feces'] = clean_data['rectal_exam_feces'].str.replace(pat = 'serosanguious', repl = 'missing')\n",
    "    clean_data['abdomo_appearance'].fillna('missing', inplace = True)\n",
    "\n",
    "    for column in float_columns:\n",
    "        clean_data[column].fillna(clean_data[column].median(skipna = True), inplace = True)\n",
    "\n",
    "    \n",
    "    return clean_data"
   ]
  },
  {
   "cell_type": "code",
   "execution_count": 10,
   "id": "83372e9d-474e-4016-87ed-822a169a1060",
   "metadata": {},
   "outputs": [],
   "source": [
    "clean_data = get_clean_data(raw_data, float_columns)\n",
    "minmax_scaler = MinMaxScaler()\n",
    "minmax_scaler.fit(clean_data[float_columns])\n",
    "label_encoders = {x: LabelEncoder() for x in object_columns}\n",
    "\n",
    "clean_data[float_columns] = minmax_scaler.transform(clean_data[float_columns])\n",
    "for column in object_columns:\n",
    "    label_encoders[column].fit(clean_data[column])\n",
    "    clean_data[column] = label_encoders[column].transform(clean_data[column])\n",
    "\n",
    "y_train = raw_target\n",
    "x_train = clean_data\n",
    "x_train = pd.get_dummies(x_train, columns = object_columns, dtype=np.int8)"
   ]
  },
  {
   "cell_type": "code",
   "execution_count": 11,
   "id": "83594e4b-f30a-4b47-8356-c224bb57ec6c",
   "metadata": {},
   "outputs": [],
   "source": [
    "ros = RandomOverSampler(random_state=42)\n",
    "X_res, y_res = ros.fit_resample(x_train, y_train)"
   ]
  },
  {
   "cell_type": "markdown",
   "id": "85a03fe8-2b63-4de1-aa45-9b8da933c9ae",
   "metadata": {},
   "source": [
    "### Model training and validation"
   ]
  },
  {
   "cell_type": "code",
   "execution_count": 12,
   "id": "f46570ae-43fe-443b-9235-eb3edaf426ec",
   "metadata": {},
   "outputs": [
    {
     "name": "stdout",
     "output_type": "stream",
     "text": [
      "RandomForest:\n",
      "              precision    recall  f1-score   support\n",
      "\n",
      "           0       0.91      0.82      0.86       182\n",
      "           1       0.88      0.86      0.87       140\n",
      "           2       0.73      0.84      0.78       130\n",
      "\n",
      "    accuracy                           0.84       452\n",
      "   macro avg       0.84      0.84      0.84       452\n",
      "weighted avg       0.85      0.84      0.84       452\n",
      "\n",
      "Micro F1-Score: 0.838495575221239\n"
     ]
    }
   ],
   "source": [
    "X_train, X_test, y_train, y_test = train_test_split(X_res, y_res, test_size=0.2)\n",
    "#Because of the low number of rows, bootstrap will be set to False.\n",
    "\n",
    "custom_scorer = make_scorer(f1_score, greater_is_better=True)\n",
    "param_grid = {'n_estimators': [50, 100, 150, 200, 250, 300],  # being the number of trees in the forest.\n",
    "                  'min_samples_leaf': [3, 5, 10, 20],  # number of minimum samples required at a leaf node.\n",
    "                  'min_samples_split': [3, 6, 9],  # number of minimum samples required to split an internal node.\n",
    "                  'criterion': ['entropy'],  # measures the quality of a split. Can use gini's impurity or entropy.\n",
    "                  # 'subsample':[0.5,0.8,1]#buscar con mas detalle\n",
    "                  # 'reg_lambda':[1,10,100]#buscar con mas detalle\n",
    "                  }\n",
    "\n",
    "clf = GridSearchCV(\n",
    "# Evaluates the performance of different groups of parameters for a model based on cross-validation.\n",
    "    RandomForestClassifier(class_weight='balanced', bootstrap=False, random_state=1234),\n",
    "    param_grid,  # dict of parameters.\n",
    "    cv=10,  # Specified number of folds in the Cross-Validation(K-Fold).\n",
    "    scoring='f1_micro')\n",
    "        # clf = GridSearchCV(DecisionTreeClassifier(max_leaf_nodes=3, random_state=0), param_grid2)\n",
    "clf.fit(X_train, y_train)\n",
    "        # print(\"Best estimator found by grid search:\")\n",
    "        # print(clf.best_estimator_)\n",
    "model = clf.best_estimator_  # Estimator that was chosen by the search, i.e. estimator which gave highest score (or smallest loss if specified) on the left out data        model.fit(X_train, y_train)\n",
    "\n",
    "\n",
    "print('RandomForest:')\n",
    "y_pred_rf = model.predict(X_test)\n",
    "print(classification_report(y_pred_rf, y_test))\n",
    "print('Micro F1-Score:', f1_score(y_test, y_pred_rf, average='micro'))"
   ]
  },
  {
   "cell_type": "code",
   "execution_count": null,
   "id": "1355aeea-eca9-4e7a-b3e2-8873c0e11f5c",
   "metadata": {},
   "outputs": [],
   "source": []
  }
 ],
 "metadata": {
  "kernelspec": {
   "display_name": "Python 3 (ipykernel)",
   "language": "python",
   "name": "python3"
  },
  "language_info": {
   "codemirror_mode": {
    "name": "ipython",
    "version": 3
   },
   "file_extension": ".py",
   "mimetype": "text/x-python",
   "name": "python",
   "nbconvert_exporter": "python",
   "pygments_lexer": "ipython3",
   "version": "3.10.12"
  }
 },
 "nbformat": 4,
 "nbformat_minor": 5
}
