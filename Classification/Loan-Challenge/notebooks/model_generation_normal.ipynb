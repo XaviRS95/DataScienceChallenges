{
 "cells": [
  {
   "cell_type": "code",
   "execution_count": 1,
   "id": "initial_id",
   "metadata": {
    "ExecuteTime": {
     "end_time": "2025-06-08T11:18:04.472828Z",
     "start_time": "2025-06-08T11:18:03.160164Z"
    }
   },
   "outputs": [],
   "source": [
    "import pandas as pd\n",
    "import mlflow\n",
    "import mlflow.sklearn\n",
    "from sklearn.model_selection import train_test_split\n",
    "from sklearn.metrics import classification_report\n",
    "from sklearn.ensemble import RandomForestClassifier, GradientBoostingClassifier\n",
    "from sklearn.linear_model import LogisticRegression\n",
    "from xgboost import XGBClassifier\n",
    "from sklearn.svm import SVC"
   ]
  },
  {
   "cell_type": "code",
   "execution_count": 2,
   "id": "8d03350ae469680e",
   "metadata": {},
   "outputs": [],
   "source": [
    "TEST_SIZE = 0.2\n",
    "RANDOM_STATE = 42\n",
    "MLFLOW_TRACKING_URI = 'http://127.0.0.1:5000'\n",
    "EXPERIMENT_NAME = 'Loan-Defaulters-Models-Vanilla'\n",
    "\n",
    "MODELS = {\n",
    "    'RandomForest': {\n",
    "        'model': RandomForestClassifier,\n",
    "        'params': {\n",
    "            'n_estimators': 150,\n",
    "            'class_weight': 'balanced',\n",
    "            'random_state': RANDOM_STATE,\n",
    "            'bootstrap': False\n",
    "        }\n",
    "    },\n",
    "    'LogisticRegression': {\n",
    "        'model': LogisticRegression,\n",
    "        'params': {\n",
    "            'solver': 'liblinear',\n",
    "            'class_weight': 'balanced',\n",
    "            'random_state': RANDOM_STATE\n",
    "        }\n",
    "    },\n",
    "    'GradientBoosting': {\n",
    "        'model': GradientBoostingClassifier,\n",
    "        'params': {\n",
    "            'n_estimators': 100,\n",
    "            'learning_rate': 0.1,\n",
    "            'max_depth': 3,\n",
    "            'random_state': RANDOM_STATE\n",
    "        }\n",
    "    },\n",
    "    'XGBoost': {\n",
    "        'model': XGBClassifier,\n",
    "        'params': {\n",
    "            'n_estimators': 100,\n",
    "            'learning_rate': 0.1,\n",
    "            'use_label_encoder': False,\n",
    "            'eval_metric': 'logloss',\n",
    "            'random_state': RANDOM_STATE\n",
    "        }\n",
    "    },\n",
    "    'SVC': {\n",
    "        'model': SVC,\n",
    "        'params': {\n",
    "            'probability': True,\n",
    "            'kernel': 'rbf',\n",
    "            'C': 1.0,\n",
    "            'class_weight': 'balanced',\n",
    "            'random_state': RANDOM_STATE\n",
    "        }\n",
    "    }\n",
    "}"
   ]
  },
  {
   "cell_type": "code",
   "execution_count": 3,
   "id": "68cab2d64f6b523e",
   "metadata": {},
   "outputs": [
    {
     "name": "stderr",
     "output_type": "stream",
     "text": [
      "2025/06/08 13:47:32 INFO mlflow.tracking.fluent: Experiment with name 'Loan-Defaulters-Models-Vanilla' does not exist. Creating a new experiment.\n"
     ]
    },
    {
     "data": {
      "text/plain": [
       "<Experiment: artifact_location='mlflow-artifacts:/937231393866999261', creation_time=1749383252995, experiment_id='937231393866999261', last_update_time=1749383252995, lifecycle_stage='active', name='Loan-Defaulters-Models-Vanilla', tags={}>"
      ]
     },
     "execution_count": 3,
     "metadata": {},
     "output_type": "execute_result"
    }
   ],
   "source": [
    "mlflow.set_tracking_uri(MLFLOW_TRACKING_URI)\n",
    "mlflow.set_experiment(EXPERIMENT_NAME)"
   ]
  },
  {
   "cell_type": "code",
   "execution_count": 4,
   "id": "a03e74340403f487",
   "metadata": {
    "ExecuteTime": {
     "end_time": "2025-06-08T11:18:10.448807Z",
     "start_time": "2025-06-08T11:18:10.115485Z"
    }
   },
   "outputs": [],
   "source": [
    "data = pd.read_csv('../training_data/balanced_training_data.csv')\n",
    "y = data['loan_status']\n",
    "X = data.drop('loan_status', axis = 1)\n",
    "X_train, X_test, y_train, y_test = train_test_split(X, y, test_size=TEST_SIZE)"
   ]
  },
  {
   "cell_type": "code",
   "execution_count": null,
   "id": "be8f690a888d4ccd",
   "metadata": {
    "ExecuteTime": {
     "start_time": "2025-06-08T11:20:13.316981Z"
    },
    "jupyter": {
     "is_executing": true
    }
   },
   "outputs": [
    {
     "name": "stdout",
     "output_type": "stream",
     "text": [
      "RandomForest\n"
     ]
    },
    {
     "name": "stderr",
     "output_type": "stream",
     "text": [
      "\u001b[31m2025/06/08 13:49:25 WARNING mlflow.models.model: Model logged without a signature and input example. Please set `input_example` parameter when logging the model to auto infer the model signature.\u001b[0m\n"
     ]
    },
    {
     "name": "stdout",
     "output_type": "stream",
     "text": [
      "🏃 View run RandomForest at: http://127.0.0.1:5000/#/experiments/937231393866999261/runs/8b7d3144dcd240d1922f0180cc355f7d\n",
      "🧪 View experiment at: http://127.0.0.1:5000/#/experiments/937231393866999261\n",
      "LogisticRegression\n"
     ]
    },
    {
     "name": "stderr",
     "output_type": "stream",
     "text": [
      "\u001b[31m2025/06/08 13:49:33 WARNING mlflow.models.model: Model logged without a signature and input example. Please set `input_example` parameter when logging the model to auto infer the model signature.\u001b[0m\n"
     ]
    },
    {
     "name": "stdout",
     "output_type": "stream",
     "text": [
      "🏃 View run LogisticRegression at: http://127.0.0.1:5000/#/experiments/937231393866999261/runs/dce3a5d3a0fc4fa9b989d4937f005e04\n",
      "🧪 View experiment at: http://127.0.0.1:5000/#/experiments/937231393866999261\n",
      "GradientBoosting\n"
     ]
    },
    {
     "name": "stderr",
     "output_type": "stream",
     "text": [
      "\u001b[31m2025/06/08 13:50:12 WARNING mlflow.models.model: Model logged without a signature and input example. Please set `input_example` parameter when logging the model to auto infer the model signature.\u001b[0m\n",
      "/home/kisara/PycharmProjects/DataScienceChallenges/.venv/lib/python3.11/site-packages/xgboost/training.py:183: UserWarning: [13:50:12] WARNING: /workspace/src/learner.cc:738: \n",
      "Parameters: { \"use_label_encoder\" } are not used.\n",
      "\n",
      "  bst.update(dtrain, iteration=i, fobj=obj)\n"
     ]
    },
    {
     "name": "stdout",
     "output_type": "stream",
     "text": [
      "🏃 View run GradientBoosting at: http://127.0.0.1:5000/#/experiments/937231393866999261/runs/8091c620f1de4ee49c4a09cf4a682a2b\n",
      "🧪 View experiment at: http://127.0.0.1:5000/#/experiments/937231393866999261\n",
      "XGBoost\n"
     ]
    },
    {
     "name": "stderr",
     "output_type": "stream",
     "text": [
      "\u001b[31m2025/06/08 13:50:43 WARNING mlflow.models.model: Model logged without a signature and input example. Please set `input_example` parameter when logging the model to auto infer the model signature.\u001b[0m\n"
     ]
    },
    {
     "name": "stdout",
     "output_type": "stream",
     "text": [
      "🏃 View run XGBoost at: http://127.0.0.1:5000/#/experiments/937231393866999261/runs/c42ae69a080f409691c9d0a920d775b0\n",
      "🧪 View experiment at: http://127.0.0.1:5000/#/experiments/937231393866999261\n",
      "SVC\n"
     ]
    }
   ],
   "source": [
    "for model_name, config in MODELS.items():\n",
    "    print(model_name)\n",
    "    with mlflow.start_run(run_name=model_name):\n",
    "        ModelClass = config['model']\n",
    "        params = config['params']\n",
    "\n",
    "        model = ModelClass(**params)\n",
    "        model.fit(X_train, y_train)\n",
    "\n",
    "        y_pred = model.predict(X_test)\n",
    "        y_proba = model.predict_proba(X_test)[:, 1] if hasattr(model, 'predict_proba') else None\n",
    "\n",
    "        report_dict = classification_report(y_test, y_pred, output_dict=True)\n",
    "        \n",
    "        # Log\n",
    "        mlflow.log_params(params)\n",
    "        mlflow.sklearn.log_model(model, artifact_path=f\"{model_name}_model\")\n",
    "        mlflow.log_metrics(\n",
    "            {\n",
    "                'accuracy': report_dict['accuracy'],\n",
    "                'recall_class_0': report_dict['0']['recall'],\n",
    "                'recall_class_1': report_dict['1']['recall'],\n",
    "                'precision_class_0': report_dict['0']['precision'],\n",
    "                'precision_class_1': report_dict['1']['precision'],\n",
    "                'f1_score_macro': report_dict['macro avg']['f1-score'],\n",
    "            }\n",
    "        )\n",
    "        \n"
   ]
  }
 ],
 "metadata": {
  "kernelspec": {
   "display_name": "Python 3 (ipykernel)",
   "language": "python",
   "name": "python3"
  },
  "language_info": {
   "codemirror_mode": {
    "name": "ipython",
    "version": 3
   },
   "file_extension": ".py",
   "mimetype": "text/x-python",
   "name": "python",
   "nbconvert_exporter": "python",
   "pygments_lexer": "ipython3",
   "version": "3.11.1"
  }
 },
 "nbformat": 4,
 "nbformat_minor": 5
}
