{
 "cells": [
  {
   "cell_type": "code",
   "id": "initial_id",
   "metadata": {
    "ExecuteTime": {
     "end_time": "2025-06-08T11:18:04.472828Z",
     "start_time": "2025-06-08T11:18:03.160164Z"
    }
   },
   "source": [
    "import pandas as pd\n",
    "import mlflow\n",
    "import mlflow.sklearn\n",
    "from sklearn.model_selection import train_test_split\n",
    "from sklearn.metrics import classification_report\n",
    "from sklearn.ensemble import RandomForestClassifier, GradientBoostingClassifier\n",
    "from sklearn.linear_model import LogisticRegression\n",
    "from xgboost import XGBClassifier\n",
    "from sklearn.svm import SVC"
   ],
   "outputs": [],
   "execution_count": 1
  },
  {
   "metadata": {},
   "cell_type": "code",
   "outputs": [],
   "execution_count": null,
   "source": [
    "TEST_SIZE = 0.2\n",
    "RANDOM_STATE = 42\n",
    "MLFLOW_TRACKING_URI = 'http://127.0.0.1:5000'\n",
    "EXPERIMENT_NAME = 'Loan-Defaulters-Models-Vanilla'\n",
    "\n",
    "MODELS = {\n",
    "    'RandomForest': {\n",
    "        'model': RandomForestClassifier,\n",
    "        'params': {\n",
    "            'n_estimators': 150,\n",
    "            'class_weight': 'balanced',\n",
    "            'random_state': RANDOM_STATE,\n",
    "            'bootstrap': False\n",
    "        }\n",
    "    },\n",
    "    'LogisticRegression': {\n",
    "        'model': LogisticRegression,\n",
    "        'params': {\n",
    "            'solver': 'liblinear',\n",
    "            'class_weight': 'balanced',\n",
    "            'random_state': RANDOM_STATE\n",
    "        }\n",
    "    },\n",
    "    'GradientBoosting': {\n",
    "        'model': GradientBoostingClassifier,\n",
    "        'params': {\n",
    "            'n_estimators': 100,\n",
    "            'learning_rate': 0.1,\n",
    "            'max_depth': 3,\n",
    "            'random_state': RANDOM_STATE\n",
    "        }\n",
    "    },\n",
    "    'XGBoost': {\n",
    "        'model': XGBClassifier,\n",
    "        'params': {\n",
    "            'n_estimators': 100,\n",
    "            'learning_rate': 0.1,\n",
    "            'use_label_encoder': False,\n",
    "            'eval_metric': 'logloss',\n",
    "            'random_state': RANDOM_STATE\n",
    "        }\n",
    "    },\n",
    "    'SVC': {\n",
    "        'model': SVC,\n",
    "        'params': {\n",
    "            'probability': True,\n",
    "            'kernel': 'rbf',\n",
    "            'C': 1.0,\n",
    "            'class_weight': 'balanced',\n",
    "            'random_state': RANDOM_STATE\n",
    "        }\n",
    "    }\n",
    "}"
   ],
   "id": "8d03350ae469680e"
  },
  {
   "metadata": {},
   "cell_type": "code",
   "outputs": [],
   "execution_count": null,
   "source": [
    "mlflow.set_tracking_uri(MLFLOW_TRACKING_URI)\n",
    "mlflow.set_experiment(EXPERIMENT_NAME)"
   ],
   "id": "68cab2d64f6b523e"
  },
  {
   "cell_type": "code",
   "id": "a03e74340403f487",
   "metadata": {
    "ExecuteTime": {
     "end_time": "2025-06-08T11:18:10.448807Z",
     "start_time": "2025-06-08T11:18:10.115485Z"
    }
   },
   "source": [
    "data = pd.read_csv('../training_data/balanced_training_data.csv')\n",
    "y = data['loan_status']\n",
    "X = data.drop('loan_status', axis = 1)\n",
    "X_train, X_test, y_train, y_test = train_test_split(X, y, test_size=TEST_SIZE)"
   ],
   "outputs": [],
   "execution_count": 4
  },
  {
   "metadata": {
    "jupyter": {
     "is_executing": true
    },
    "ExecuteTime": {
     "start_time": "2025-06-08T11:20:13.316981Z"
    }
   },
   "cell_type": "code",
   "source": [
    "for model_name, config in MODELS.items():\n",
    "    print(model_name)\n",
    "    with mlflow.start_run(run_name=model_name):\n",
    "        ModelClass = config['model']\n",
    "        params = config['params']\n",
    "\n",
    "        model = ModelClass(**params)\n",
    "        model.fit(X_train, y_train)\n",
    "\n",
    "        y_pred = model.predict(X_test)\n",
    "        y_proba = model.predict_proba(X_test)[:, 1] if hasattr(model, 'predict_proba') else None\n",
    "\n",
    "        report_dict = classification_report(y_test, y_pred, output_dict=True)\n",
    "        \n",
    "        # Log\n",
    "        mlflow.log_params(params)\n",
    "        mlflow.sklearn.log_model(model, artifact_path=f\"{model_name}_model\")\n",
    "        mlflow.log_metrics(\n",
    "            {\n",
    "                'accuracy': report_dict['accuracy'],\n",
    "                'recall_class_0': report_dict['0']['recall'],\n",
    "                'recall_class_1': report_dict['1']['recall'],\n",
    "                'precision_class_0': report_dict['0']['precision'],\n",
    "                'precision_class_1': report_dict['1']['precision'],\n",
    "                'f1_score_macro': report_dict['macro avg']['f1-score'],\n",
    "            }\n",
    "        )\n",
    "        \n"
   ],
   "id": "be8f690a888d4ccd",
   "outputs": [
    {
     "name": "stderr",
     "output_type": "stream",
     "text": [
      "\u001B[31m2025/06/08 13:21:43 WARNING mlflow.models.model: Model logged without a signature and input example. Please set `input_example` parameter when logging the model to auto infer the model signature.\u001B[0m\n"
     ]
    },
    {
     "name": "stdout",
     "output_type": "stream",
     "text": [
      "🏃 View run RandomForest at: http://127.0.0.1:5000/#/experiments/950572948222677592/runs/2cfd6578bf864a0f8daa60eefb255ffb\n",
      "🧪 View experiment at: http://127.0.0.1:5000/#/experiments/950572948222677592\n"
     ]
    },
    {
     "name": "stderr",
     "output_type": "stream",
     "text": [
      "\u001B[31m2025/06/08 13:21:51 WARNING mlflow.models.model: Model logged without a signature and input example. Please set `input_example` parameter when logging the model to auto infer the model signature.\u001B[0m\n"
     ]
    },
    {
     "name": "stdout",
     "output_type": "stream",
     "text": [
      "🏃 View run LogisticRegression at: http://127.0.0.1:5000/#/experiments/950572948222677592/runs/2884a234811943c5bd198cb19bb5ed6f\n",
      "🧪 View experiment at: http://127.0.0.1:5000/#/experiments/950572948222677592\n"
     ]
    },
    {
     "name": "stderr",
     "output_type": "stream",
     "text": [
      "\u001B[31m2025/06/08 13:22:28 WARNING mlflow.models.model: Model logged without a signature and input example. Please set `input_example` parameter when logging the model to auto infer the model signature.\u001B[0m\n",
      "/home/kisara/PycharmProjects/DataScienceChallenges/.venv/lib/python3.11/site-packages/xgboost/training.py:183: UserWarning: [13:22:28] WARNING: /workspace/src/learner.cc:738: \n",
      "Parameters: { \"use_label_encoder\" } are not used.\n",
      "\n",
      "  bst.update(dtrain, iteration=i, fobj=obj)\n"
     ]
    },
    {
     "name": "stdout",
     "output_type": "stream",
     "text": [
      "🏃 View run GradientBoosting at: http://127.0.0.1:5000/#/experiments/950572948222677592/runs/594d0f7b795641ccbefe212e37a90785\n",
      "🧪 View experiment at: http://127.0.0.1:5000/#/experiments/950572948222677592\n"
     ]
    },
    {
     "name": "stderr",
     "output_type": "stream",
     "text": [
      "\u001B[31m2025/06/08 13:22:48 WARNING mlflow.models.model: Model logged without a signature and input example. Please set `input_example` parameter when logging the model to auto infer the model signature.\u001B[0m\n"
     ]
    },
    {
     "name": "stdout",
     "output_type": "stream",
     "text": [
      "🏃 View run XGBoost at: http://127.0.0.1:5000/#/experiments/950572948222677592/runs/2764de6857fb4b26b3874c8523be7949\n",
      "🧪 View experiment at: http://127.0.0.1:5000/#/experiments/950572948222677592\n"
     ]
    }
   ],
   "execution_count": null
  },
  {
   "metadata": {},
   "cell_type": "code",
   "outputs": [],
   "execution_count": null,
   "source": "",
   "id": "bc7ff514251b812b"
  }
 ],
 "metadata": {
  "kernelspec": {
   "display_name": "Python 3 (ipykernel)",
   "language": "python",
   "name": "python3"
  },
  "language_info": {
   "codemirror_mode": {
    "name": "ipython",
    "version": 3
   },
   "file_extension": ".py",
   "mimetype": "text/x-python",
   "name": "python",
   "nbconvert_exporter": "python",
   "pygments_lexer": "ipython3",
   "version": "3.11.1"
  }
 },
 "nbformat": 4,
 "nbformat_minor": 5
}
