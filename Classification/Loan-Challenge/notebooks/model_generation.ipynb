{
 "cells": [
  {
   "cell_type": "code",
   "id": "initial_id",
   "metadata": {
    "collapsed": true,
    "ExecuteTime": {
     "end_time": "2025-06-07T18:15:50.444526Z",
     "start_time": "2025-06-07T18:15:50.442310Z"
    }
   },
   "source": [
    "import pandas as pd\n",
    "import mlflow\n",
    "import mlflow.sklearn\n",
    "from sklearn.model_selection import train_test_split\n",
    "from sklearn.metrics import (\n",
    "    accuracy_score,\n",
    "    precision_score,\n",
    "    recall_score,\n",
    "    f1_score,\n",
    "    roc_auc_score,\n",
    "    confusion_matrix\n",
    ")\n",
    "from sklearn.ensemble import RandomForestClassifier, GradientBoostingClassifier\n",
    "from sklearn.linear_model import LogisticRegression\n",
    "from xgboost import XGBClassifier\n",
    "from sklearn.svm import SVC"
   ],
   "outputs": [],
   "execution_count": 43
  },
  {
   "metadata": {
    "ExecuteTime": {
     "end_time": "2025-06-07T18:15:50.877099Z",
     "start_time": "2025-06-07T18:15:50.873896Z"
    }
   },
   "cell_type": "code",
   "source": [
    "TEST_SIZE = 0.2\n",
    "RANDOM_STATE = 42\n",
    "MLFLOW_TRACKING_URI = 'http://127.0.0.1:5000'\n",
    "EXPERIMENT_NAME = 'Loan-Defaulters-Models'\n",
    "\n",
    "MODELS = {\n",
    "    'RandomForest': {\n",
    "        'model': RandomForestClassifier,\n",
    "        'params': {\n",
    "            'n_estimators': 150,\n",
    "            'class_weight': 'balanced',\n",
    "            'random_state': RANDOM_STATE,\n",
    "            'bootstrap': False\n",
    "        }\n",
    "    },\n",
    "    'LogisticRegression': {\n",
    "        'model': LogisticRegression,\n",
    "        'params': {\n",
    "            'solver': 'liblinear',\n",
    "            'class_weight': 'balanced',\n",
    "            'random_state': RANDOM_STATE\n",
    "        }\n",
    "    },\n",
    "    'GradientBoosting': {\n",
    "        'model': GradientBoostingClassifier,\n",
    "        'params': {\n",
    "            'n_estimators': 100,\n",
    "            'learning_rate': 0.1,\n",
    "            'max_depth': 3,\n",
    "            'random_state': RANDOM_STATE\n",
    "        }\n",
    "    },\n",
    "    'XGBoost': {\n",
    "        'model': XGBClassifier,\n",
    "        'params': {\n",
    "            'n_estimators': 100,\n",
    "            'learning_rate': 0.1,\n",
    "            'use_label_encoder': False,\n",
    "            'eval_metric': 'logloss',\n",
    "            'random_state': RANDOM_STATE\n",
    "        }\n",
    "    },\n",
    "    'SVC': {\n",
    "        'model': SVC,\n",
    "        'params': {\n",
    "            'probability': True,\n",
    "            'kernel': 'rbf',\n",
    "            'C': 1.0,\n",
    "            'class_weight': 'balanced',\n",
    "            'random_state': RANDOM_STATE\n",
    "        }\n",
    "    }\n",
    "}"
   ],
   "id": "63da973eae510ccc",
   "outputs": [],
   "execution_count": 44
  },
  {
   "metadata": {
    "ExecuteTime": {
     "end_time": "2025-06-07T18:15:51.287927Z",
     "start_time": "2025-06-07T18:15:51.281433Z"
    }
   },
   "cell_type": "code",
   "source": [
    "mlflow.set_tracking_uri(MLFLOW_TRACKING_URI)\n",
    "mlflow.set_experiment(EXPERIMENT_NAME)"
   ],
   "id": "e9ead597355b5f2b",
   "outputs": [
    {
     "data": {
      "text/plain": [
       "<Experiment: artifact_location='mlflow-artifacts:/213950789839913881', creation_time=1749320142393, experiment_id='213950789839913881', last_update_time=1749320142393, lifecycle_stage='active', name='Loan-Defaulters-Models', tags={}>"
      ]
     },
     "execution_count": 45,
     "metadata": {},
     "output_type": "execute_result"
    }
   ],
   "execution_count": 45
  },
  {
   "metadata": {
    "ExecuteTime": {
     "end_time": "2025-06-07T18:15:55.651908Z",
     "start_time": "2025-06-07T18:15:55.364329Z"
    }
   },
   "cell_type": "code",
   "source": [
    "data = pd.read_csv('../training_data/balanced_training_data.csv')\n",
    "y = data['loan_status']\n",
    "X = data.drop('loan_status', axis = 1)\n",
    "X_train, X_test, y_train, y_test = train_test_split(X, y, test_size=TEST_SIZE)"
   ],
   "id": "a03e74340403f487",
   "outputs": [],
   "execution_count": 46
  },
  {
   "metadata": {
    "jupyter": {
     "is_executing": true
    },
    "ExecuteTime": {
     "start_time": "2025-06-07T18:16:20.932744Z"
    }
   },
   "cell_type": "code",
   "source": [
    "for model_name, config in MODELS.items():\n",
    "    with mlflow.start_run(run_name=model_name):\n",
    "        ModelClass = config['model']\n",
    "        params = config['params']\n",
    "\n",
    "        model = ModelClass(**params)\n",
    "        model.fit(X_train, y_train)\n",
    "\n",
    "        y_pred = model.predict(X_test)\n",
    "        y_proba = model.predict_proba(X_test)[:, 1] if hasattr(model, 'predict_proba') else None\n",
    "\n",
    "        # Metrics\n",
    "        acc = accuracy_score(y_test, y_pred)\n",
    "        prec = precision_score(y_test, y_pred)\n",
    "        rec = recall_score(y_test, y_pred)\n",
    "        f1 = f1_score(y_test, y_pred)\n",
    "        roc_auc = roc_auc_score(y_test, y_proba) if y_proba is not None else None\n",
    "\n",
    "        tn, fp, fn, tp = confusion_matrix(y_test, y_pred).ravel()\n",
    "        specificity = tn / (tn + fp)\n",
    "\n",
    "        # Log\n",
    "        mlflow.log_params(params)\n",
    "        metrics = {\n",
    "            'accuracy': acc,\n",
    "            'precision': prec,\n",
    "            'recall': rec,\n",
    "            'specificity': specificity,\n",
    "            'f1_score': f1,\n",
    "            'true_positives': tp,\n",
    "            'false_positives': fp,\n",
    "            'true_negatives': tn,\n",
    "            'false_negatives': fn\n",
    "        }\n",
    "        if roc_auc is not None:\n",
    "            metrics['roc_auc'] = roc_auc\n",
    "        mlflow.log_metrics(metrics)\n",
    "\n",
    "        mlflow.sklearn.log_model(model, artifact_path=f\"{model_name}_model\")"
   ],
   "id": "a33ab1cedf6cd260",
   "outputs": [
    {
     "name": "stderr",
     "output_type": "stream",
     "text": [
      "\u001B[31m2025/06/07 20:17:42 WARNING mlflow.models.model: Model logged without a signature and input example. Please set `input_example` parameter when logging the model to auto infer the model signature.\u001B[0m\n"
     ]
    },
    {
     "name": "stdout",
     "output_type": "stream",
     "text": [
      "🏃 View run RandomForest at: http://127.0.0.1:5000/#/experiments/213950789839913881/runs/bd90d4ad6c434bd48738aa05261f4d49\n",
      "🧪 View experiment at: http://127.0.0.1:5000/#/experiments/213950789839913881\n"
     ]
    },
    {
     "name": "stderr",
     "output_type": "stream",
     "text": [
      "\u001B[31m2025/06/07 20:17:49 WARNING mlflow.models.model: Model logged without a signature and input example. Please set `input_example` parameter when logging the model to auto infer the model signature.\u001B[0m\n"
     ]
    },
    {
     "name": "stdout",
     "output_type": "stream",
     "text": [
      "🏃 View run LogisticRegression at: http://127.0.0.1:5000/#/experiments/213950789839913881/runs/a7cad9ff3e764e9b9931776a12a1c8e1\n",
      "🧪 View experiment at: http://127.0.0.1:5000/#/experiments/213950789839913881\n"
     ]
    },
    {
     "name": "stderr",
     "output_type": "stream",
     "text": [
      "\u001B[31m2025/06/07 20:18:22 WARNING mlflow.models.model: Model logged without a signature and input example. Please set `input_example` parameter when logging the model to auto infer the model signature.\u001B[0m\n",
      "/home/kisara/PycharmProjects/DataScienceChallenges/.venv/lib/python3.11/site-packages/xgboost/training.py:183: UserWarning: [20:18:23] WARNING: /workspace/src/learner.cc:738: \n",
      "Parameters: { \"use_label_encoder\" } are not used.\n",
      "\n",
      "  bst.update(dtrain, iteration=i, fobj=obj)\n"
     ]
    },
    {
     "name": "stdout",
     "output_type": "stream",
     "text": [
      "🏃 View run GradientBoosting at: http://127.0.0.1:5000/#/experiments/213950789839913881/runs/8fdde5e7ddd24876a9a90251aa0f3063\n",
      "🧪 View experiment at: http://127.0.0.1:5000/#/experiments/213950789839913881\n"
     ]
    },
    {
     "name": "stderr",
     "output_type": "stream",
     "text": [
      "\u001B[31m2025/06/07 20:18:24 WARNING mlflow.models.model: Model logged without a signature and input example. Please set `input_example` parameter when logging the model to auto infer the model signature.\u001B[0m\n"
     ]
    },
    {
     "name": "stdout",
     "output_type": "stream",
     "text": [
      "🏃 View run XGBoost at: http://127.0.0.1:5000/#/experiments/213950789839913881/runs/e1843085fde94008856a4ae6fcd46f01\n",
      "🧪 View experiment at: http://127.0.0.1:5000/#/experiments/213950789839913881\n"
     ]
    }
   ],
   "execution_count": null
  }
 ],
 "metadata": {
  "kernelspec": {
   "display_name": "Python 3",
   "language": "python",
   "name": "python3"
  },
  "language_info": {
   "codemirror_mode": {
    "name": "ipython",
    "version": 2
   },
   "file_extension": ".py",
   "mimetype": "text/x-python",
   "name": "python",
   "nbconvert_exporter": "python",
   "pygments_lexer": "ipython2",
   "version": "2.7.6"
  }
 },
 "nbformat": 4,
 "nbformat_minor": 5
}
