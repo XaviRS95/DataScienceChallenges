{
 "cells": [
  {
   "cell_type": "code",
   "execution_count": 29,
   "id": "84f3612d-a239-4c63-91e2-8dd7d9f2db2d",
   "metadata": {},
   "outputs": [],
   "source": [
    "import numpy as np\n",
    "import pandas as pd\n",
    "from sklearn.preprocessing import MinMaxScaler, LabelEncoder"
   ]
  },
  {
   "cell_type": "code",
   "execution_count": 23,
   "id": "0b931adf-cb8d-4ea8-ae4b-64cc34b471ca",
   "metadata": {},
   "outputs": [],
   "source": [
    "data = pd.read_csv('train.csv')\n",
    "\n",
    "data.drop(['id', 'hospital_number'], axis = 1, inplace = True)"
   ]
  },
  {
   "cell_type": "markdown",
   "id": "b64fd893-e0ec-47cb-9a96-0febbc653f77",
   "metadata": {},
   "source": [
    "### Structure of the data:"
   ]
  },
  {
   "cell_type": "code",
   "execution_count": 24,
   "id": "e84c7f7a-416d-4061-a11c-b930250f877b",
   "metadata": {},
   "outputs": [
    {
     "data": {
      "text/plain": [
       "(1235, 27)"
      ]
     },
     "execution_count": 24,
     "metadata": {},
     "output_type": "execute_result"
    }
   ],
   "source": [
    "data.shape"
   ]
  },
  {
   "cell_type": "code",
   "execution_count": 25,
   "id": "d58ffa43-a6f2-4372-8abc-fb6449e4611f",
   "metadata": {},
   "outputs": [
    {
     "data": {
      "text/plain": [
       "surgery                    0\n",
       "age                        0\n",
       "rectal_temp                0\n",
       "pulse                      0\n",
       "respiratory_rate           0\n",
       "temp_of_extremities       39\n",
       "peripheral_pulse          60\n",
       "mucous_membrane           21\n",
       "capillary_refill_time      6\n",
       "pain                      44\n",
       "peristalsis               20\n",
       "abdominal_distention      23\n",
       "nasogastric_tube          80\n",
       "nasogastric_reflux        21\n",
       "nasogastric_reflux_ph      0\n",
       "rectal_exam_feces        190\n",
       "abdomen                  213\n",
       "packed_cell_volume         0\n",
       "total_protein              0\n",
       "abdomo_appearance         48\n",
       "abdomo_protein             0\n",
       "surgical_lesion            0\n",
       "lesion_1                   0\n",
       "lesion_2                   0\n",
       "lesion_3                   0\n",
       "cp_data                    0\n",
       "outcome                    0\n",
       "dtype: int64"
      ]
     },
     "execution_count": 25,
     "metadata": {},
     "output_type": "execute_result"
    }
   ],
   "source": [
    "data.isna().sum()"
   ]
  },
  {
   "cell_type": "code",
   "execution_count": 26,
   "id": "40ebb8a4-e74b-4aff-81b1-39564c9b870b",
   "metadata": {},
   "outputs": [
    {
     "data": {
      "text/plain": [
       "surgery                   object\n",
       "age                       object\n",
       "rectal_temp              float64\n",
       "pulse                    float64\n",
       "respiratory_rate         float64\n",
       "temp_of_extremities       object\n",
       "peripheral_pulse          object\n",
       "mucous_membrane           object\n",
       "capillary_refill_time     object\n",
       "pain                      object\n",
       "peristalsis               object\n",
       "abdominal_distention      object\n",
       "nasogastric_tube          object\n",
       "nasogastric_reflux        object\n",
       "nasogastric_reflux_ph    float64\n",
       "rectal_exam_feces         object\n",
       "abdomen                   object\n",
       "packed_cell_volume       float64\n",
       "total_protein            float64\n",
       "abdomo_appearance         object\n",
       "abdomo_protein           float64\n",
       "surgical_lesion           object\n",
       "lesion_1                   int64\n",
       "lesion_2                   int64\n",
       "lesion_3                   int64\n",
       "cp_data                   object\n",
       "outcome                   object\n",
       "dtype: object"
      ]
     },
     "execution_count": 26,
     "metadata": {},
     "output_type": "execute_result"
    }
   ],
   "source": [
    "data.dtypes"
   ]
  },
  {
   "cell_type": "markdown",
   "id": "fbf38cbc-6296-496c-8a1a-ff8cf083aea7",
   "metadata": {},
   "source": [
    "### Current Work"
   ]
  },
  {
   "cell_type": "markdown",
   "id": "3c95567a-fb9a-4c54-81b4-e88ab3598812",
   "metadata": {
    "jp-MarkdownHeadingCollapsed": true
   },
   "source": [
    "#### Each row has a record of a horse, its data and its outcome. There can be 1+ row per horse, meaning that a horse might have gone through multiple encounters"
   ]
  },
  {
   "cell_type": "markdown",
   "id": "d482ee1e-c8b2-45ad-8936-20f7d26a3a0a",
   "metadata": {},
   "source": [
    "##### Hypothesis 1: Should hospital_number be dropped then?"
   ]
  },
  {
   "cell_type": "code",
   "execution_count": 14,
   "id": "71c4961f-e480-45aa-9db6-f531a71b7182",
   "metadata": {},
   "outputs": [],
   "source": [
    "#data['hospital_number'].value_counts()"
   ]
  },
  {
   "cell_type": "markdown",
   "id": "eb978b3b-cda1-4b5c-8b1d-d536b725f2b2",
   "metadata": {
    "jp-MarkdownHeadingCollapsed": true
   },
   "source": [
    "#### Data Cleaning:"
   ]
  },
  {
   "cell_type": "code",
   "execution_count": 35,
   "id": "20a0eaa9-1680-45d9-ae0a-9a5c1605f80e",
   "metadata": {},
   "outputs": [
    {
     "name": "stdout",
     "output_type": "stream",
     "text": [
      "surgery\n",
      "age\n",
      "temp_of_extremities\n",
      "peripheral_pulse\n",
      "mucous_membrane\n",
      "capillary_refill_time\n",
      "pain\n",
      "peristalsis\n",
      "abdominal_distention\n",
      "nasogastric_tube\n",
      "nasogastric_reflux\n",
      "rectal_exam_feces\n",
      "abdomen\n",
      "abdomo_appearance\n",
      "surgical_lesion\n",
      "cp_data\n",
      "outcome\n"
     ]
    }
   ],
   "source": [
    "float_columns = data.select_dtypes(include=['float64']).columns\n",
    "object_columns = data.select_dtypes(include=['object']).columns\n",
    "\n",
    "for column in float_columns:\n",
    "    data[column].fillna(data[column].median(skipna = True), inplace = True)\n",
    "\n",
    "for column in object_columns:\n",
    "    data[column].fillna('missing', inplace = True)\n",
    "\n",
    "minmax_scaler = MinMaxScaler()\n",
    "minmax_scaler.fit(data[float_columns])\n",
    "data[float_columns] = minmax_scaler.transform(data[float_columns])\n",
    "\n",
    "label_encoders = {x: LabelEncoder() for x in object_columns}\n",
    "\n",
    "for column in object_columns:\n",
    "    label_encoders[column].fit(data[column])\n",
    "    data[column] = label_encoders[column].transform(data[column])\n",
    "\n"
   ]
  },
  {
   "cell_type": "markdown",
   "id": "9945f316-b79c-41e8-bf59-b8875eb172b6",
   "metadata": {},
   "source": [
    "#### Model training"
   ]
  },
  {
   "cell_type": "code",
   "execution_count": 37,
   "id": "470c7891-b80c-4ef2-bfb8-ea97a35be498",
   "metadata": {},
   "outputs": [],
   "source": [
    "from sklearn.neighbors import KNeighborsClassifier\n",
    "from sklearn.linear_model import LogisticRegression\n",
    "from sklearn.model_selection import train_test_split\n",
    "from sklearn.ensemble import RandomForestClassifier, GradientBoostingClassifier\n",
    "from sklearn.metrics import precision_score, accuracy_score, f1_score, classification_report"
   ]
  },
  {
   "cell_type": "code",
   "execution_count": null,
   "id": "53ceb375-618a-40b1-ae2d-68a2c36d5fc1",
   "metadata": {},
   "outputs": [],
   "source": []
  }
 ],
 "metadata": {
  "kernelspec": {
   "display_name": "Python 3 (ipykernel)",
   "language": "python",
   "name": "python3"
  },
  "language_info": {
   "codemirror_mode": {
    "name": "ipython",
    "version": 3
   },
   "file_extension": ".py",
   "mimetype": "text/x-python",
   "name": "python",
   "nbconvert_exporter": "python",
   "pygments_lexer": "ipython3",
   "version": "3.10.12"
  }
 },
 "nbformat": 4,
 "nbformat_minor": 5
}
