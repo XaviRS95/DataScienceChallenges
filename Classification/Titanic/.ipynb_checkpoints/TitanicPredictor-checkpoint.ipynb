{
 "cells": [
  {
   "cell_type": "code",
   "execution_count": 1,
   "id": "92b52a87-4f18-467b-8158-2ac32e90a579",
   "metadata": {},
   "outputs": [],
   "source": [
    "import pandas as pd\n",
    "import numpy as np\n",
    "import matplotlib.pyplot as plt\n",
    "from imblearn.over_sampling import RandomOverSampler\n",
    "from sklearn.model_selection import train_test_split"
   ]
  },
  {
   "cell_type": "code",
   "execution_count": 2,
   "id": "b7c081c4-2608-444d-9d4e-0dcc7b397dc9",
   "metadata": {},
   "outputs": [],
   "source": [
    "train_data = pd.read_csv('Titanic/train.csv')\n",
    "columns_to_eliminate = ['PassengerId','Name','Ticket','Cabin']\n",
    "train_data.drop(columns_to_eliminate, axis=1, inplace=True)\n",
    "train_data['Sex'] = train_data['Sex'].apply(lambda x: 0 if x=='male' else 1)\n",
    "train_data['Embarked'] = train_data['Embarked'].apply(lambda x: 0 if x == 'S' else 1 if x == 'C' else 2)"
   ]
  },
  {
   "cell_type": "code",
   "execution_count": 83,
   "id": "756c57a7-6221-4e9a-92b4-13caf2860f91",
   "metadata": {},
   "outputs": [],
   "source": [
    "#for column in train_data.columns:\n",
    "#    print(column, train_data[column].isna().sum())"
   ]
  },
  {
   "cell_type": "markdown",
   "id": "9cafc3d1-b9ab-4289-b7ef-d8cb195bcaed",
   "metadata": {},
   "source": [
    "## Data cleaning and preprocessing"
   ]
  },
  {
   "cell_type": "markdown",
   "id": "1eb5bc44-ad78-4bfe-bf6a-3825267e90a8",
   "metadata": {},
   "source": [
    "### Data Cleaning"
   ]
  },
  {
   "cell_type": "code",
   "execution_count": 3,
   "id": "dea1cba1-eb63-480b-9e14-2b8d986e831a",
   "metadata": {},
   "outputs": [],
   "source": [
    "train_data['Embarked'].dropna(inplace=True)\n",
    "train_data.query('Parch <= 2', inplace=True)\n",
    "train_data.query('Fare <= 100', inplace=True)"
   ]
  },
  {
   "cell_type": "code",
   "execution_count": 4,
   "id": "66371790-9f19-4739-bcb6-f53cb72bf1b8",
   "metadata": {},
   "outputs": [],
   "source": [
    "age_na_train = train_data[train_data['Age'].isna()]\n",
    "X = train_data[['Sex', 'Pclass', 'Fare' ,'Age']].dropna()\n",
    "y = X['Age'].astype(int)\n",
    "X = X.drop('Age', axis=1)\n",
    "X_train, X_test, y_train, y_test = train_test_split(X, y, test_size=0.2, random_state=42)"
   ]
  },
  {
   "cell_type": "markdown",
   "id": "b2557991-8cfa-4aa0-9f32-e5e5de7db915",
   "metadata": {},
   "source": [
    "### Filling the NA using a model"
   ]
  },
  {
   "cell_type": "code",
   "execution_count": 5,
   "id": "bfd88413-357b-4a52-a89e-4682cd2f98ce",
   "metadata": {},
   "outputs": [],
   "source": [
    "from sklearn.linear_model import LinearRegression\n",
    "from sklearn.ensemble import RandomForestRegressor\n",
    "from sklearn.metrics import mean_squared_error"
   ]
  },
  {
   "cell_type": "code",
   "execution_count": 6,
   "id": "506b751e-72f7-4708-aaed-b2677a6eb11c",
   "metadata": {},
   "outputs": [],
   "source": [
    "linear_regression_age = LinearRegression().fit(X_train, y_train)\n",
    "random_forest_age = RandomForestRegressor().fit(X_train, y_train)"
   ]
  },
  {
   "cell_type": "code",
   "execution_count": 7,
   "id": "316cd54d-6978-4811-85da-f35095fdfc92",
   "metadata": {},
   "outputs": [],
   "source": [
    "LR_predictions = linear_regression_age.predict(X_test)\n",
    "RF_predictions = random_forest_age.predict(X_test)"
   ]
  },
  {
   "cell_type": "code",
   "execution_count": 8,
   "id": "44b4a070-ecb8-4bae-92ff-6f614f4d616e",
   "metadata": {},
   "outputs": [],
   "source": [
    "rmse_lr = np.sqrt(mean_squared_error(y_test, LR_predictions))\n",
    "rmse_rf = np.sqrt(mean_squared_error(y_test, RF_predictions))"
   ]
  },
  {
   "cell_type": "code",
   "execution_count": 9,
   "id": "74405e55-649a-4fd8-b224-68d146c972d4",
   "metadata": {},
   "outputs": [
    {
     "data": {
      "text/plain": [
       "(15.165118157681931, 15.843187422267643)"
      ]
     },
     "execution_count": 9,
     "metadata": {},
     "output_type": "execute_result"
    }
   ],
   "source": [
    "rmse_lr, rmse_rf"
   ]
  },
  {
   "cell_type": "markdown",
   "id": "bd4cbe92-df23-4d92-b70b-5b40942749aa",
   "metadata": {},
   "source": [
    "### Filling the NA using mean"
   ]
  },
  {
   "cell_type": "code",
   "execution_count": 10,
   "id": "7c53d545-3f25-417c-9d50-24dad160db9f",
   "metadata": {},
   "outputs": [
    {
     "name": "stderr",
     "output_type": "stream",
     "text": [
      "/tmp/ipykernel_45160/2652913271.py:11: SettingWithCopyWarning: \n",
      "A value is trying to be set on a copy of a slice from a DataFrame\n",
      "\n",
      "See the caveats in the documentation: https://pandas.pydata.org/pandas-docs/stable/user_guide/indexing.html#returning-a-view-versus-a-copy\n",
      "  aux_data.fillna(int(mean), inplace=True)\n"
     ]
    }
   ],
   "source": [
    "sexes = [0, 1]\n",
    "classes = [1,2,3]\n",
    "\n",
    "aux_dataframe = pd.DataFrame()\n",
    "not_na_train = train_data.dropna()\n",
    "for sex in sexes:\n",
    "    for class_ in classes:\n",
    "        #Need to find out the index of the \n",
    "        aux_data = not_na_train.query('Pclass == '+str(class_)+' & Sex == '+str(sex))\n",
    "        mean = aux_data['Age'].mean(skipna=True)\n",
    "        aux_data.fillna(int(mean), inplace=True)\n",
    "        aux_dataframe = pd.concat([aux_dataframe, aux_data])"
   ]
  },
  {
   "cell_type": "code",
   "execution_count": 11,
   "id": "0451435b-0672-47bb-b877-e5f25d1825af",
   "metadata": {},
   "outputs": [],
   "source": [
    "rules_rmse = np.sqrt(mean_squared_error(not_na_train['Age'], aux_dataframe['Age']))"
   ]
  },
  {
   "cell_type": "code",
   "execution_count": 12,
   "id": "133b6ffd-6528-433a-9b10-cb47a823dd4a",
   "metadata": {},
   "outputs": [
    {
     "data": {
      "text/plain": [
       "20.461619623269367"
      ]
     },
     "execution_count": 12,
     "metadata": {},
     "output_type": "execute_result"
    }
   ],
   "source": [
    "rules_rmse"
   ]
  },
  {
   "cell_type": "markdown",
   "id": "b8b8a1a3-62d7-4581-b0ba-7c83e084ab8a",
   "metadata": {},
   "source": [
    "### Using the LR predicted values to fill the missing ages"
   ]
  },
  {
   "cell_type": "code",
   "execution_count": 13,
   "id": "2850079f-1e00-46dc-84f1-7f90cbb38d63",
   "metadata": {},
   "outputs": [
    {
     "name": "stderr",
     "output_type": "stream",
     "text": [
      "/tmp/ipykernel_45160/1529663355.py:3: SettingWithCopyWarning: \n",
      "A value is trying to be set on a copy of a slice from a DataFrame.\n",
      "Try using .loc[row_indexer,col_indexer] = value instead\n",
      "\n",
      "See the caveats in the documentation: https://pandas.pydata.org/pandas-docs/stable/user_guide/indexing.html#returning-a-view-versus-a-copy\n",
      "  age_na_train['Age'] = linear_regression_age.predict(X).astype(int)\n"
     ]
    }
   ],
   "source": [
    "age_na_train = train_data[train_data['Age'].isna()]\n",
    "X = age_na_train[['Sex', 'Pclass', 'Fare']]\n",
    "age_na_train['Age'] = linear_regression_age.predict(X).astype(int)\n",
    "clean_train = pd.concat([age_na_train,train_data.dropna()])"
   ]
  },
  {
   "cell_type": "markdown",
   "id": "e1db6a8f-6a7a-4f9d-8bad-e97aa4f02058",
   "metadata": {},
   "source": [
    "### Addressing the imbalance of Survivors/Deceased:"
   ]
  },
  {
   "cell_type": "code",
   "execution_count": 14,
   "id": "9ceda4f1-1eea-4f6a-8461-d6298cd2a74b",
   "metadata": {},
   "outputs": [],
   "source": [
    "y = clean_train['Survived']\n",
    "X = clean_train.drop('Survived', axis=1)\n",
    "oversample = RandomOverSampler(sampling_strategy='minority')\n",
    "# fit and apply the transform\n",
    "X_over, y_over = oversample.fit_resample(X, y)"
   ]
  },
  {
   "cell_type": "markdown",
   "id": "fc682729-659b-4256-abd0-447faf8b28a0",
   "metadata": {},
   "source": [
    "### Scaling the data"
   ]
  },
  {
   "cell_type": "code",
   "execution_count": 15,
   "id": "985ce8d7-bb8b-470a-8b2e-a43cfa350dff",
   "metadata": {},
   "outputs": [],
   "source": [
    "from sklearn.preprocessing import MinMaxScaler\n",
    "scaler = MinMaxScaler()\n",
    "scaler.fit(X_over)\n",
    "MinMaxScaler()\n",
    "scaled_features = scaler.transform(X_over)"
   ]
  },
  {
   "cell_type": "markdown",
   "id": "89e69ca3-f046-48dc-bcb1-466d6046c55c",
   "metadata": {},
   "source": [
    "## Training the binary classification models"
   ]
  },
  {
   "cell_type": "code",
   "execution_count": 16,
   "id": "d88a239c-434d-450a-9a29-0a91d573cff2",
   "metadata": {},
   "outputs": [],
   "source": [
    "X_train, X_test, y_train, y_test = train_test_split(scaled_features, y_over, test_size=0.2, random_state=42)\n",
    "from sklearn.metrics import accuracy_score\n",
    "from sklearn.metrics import recall_score\n",
    "from sklearn.metrics import precision_score\n",
    "from sklearn.metrics import f1_score"
   ]
  },
  {
   "cell_type": "code",
   "execution_count": 45,
   "id": "bdbfdc7b-0b31-4c68-9a63-facfd99ab5a6",
   "metadata": {},
   "outputs": [
    {
     "name": "stdout",
     "output_type": "stream",
     "text": [
      "Accuracy: 77.61904761904762 %\n",
      "Recall: 72.11538461538461 %\n",
      "Precision: 80.64516129032258 %\n",
      "F1 Score: 76.14213197969544 %\n"
     ]
    }
   ],
   "source": [
    "from sklearn.linear_model import LogisticRegression\n",
    "lr = LogisticRegression(max_iter = 1000)\n",
    "lr.fit(X_train, y_train)\n",
    "y_pred = lr.predict(X_test)\n",
    "print('Accuracy:',accuracy_score(y_test, y_pred)*100,'%')\n",
    "print('Recall:', recall_score(y_test, y_pred)*100,'%')\n",
    "print('Precision:', precision_score(y_test, y_pred)*100,'%')\n",
    "print('F1 Score:', f1_score(y_test, y_pred)*100,'%')"
   ]
  },
  {
   "cell_type": "code",
   "execution_count": 47,
   "id": "3423f3f4-0076-45b6-b809-8cb1f220d32d",
   "metadata": {},
   "outputs": [
    {
     "name": "stdout",
     "output_type": "stream",
     "text": [
      "Accuracy: 86.19047619047619 %\n",
      "Recall: 88.46153846153845 %\n",
      "Precision: 84.40366972477065 %\n",
      "F1 Score: 86.3849765258216 %\n"
     ]
    }
   ],
   "source": [
    "from sklearn.ensemble import RandomForestClassifier\n",
    "rf = RandomForestClassifier()\n",
    "rf.fit(X_train, y_train)\n",
    "y_pred = rf.predict(X_test)\n",
    "print('Accuracy:',accuracy_score(y_test, y_pred)*100,'%')\n",
    "print('Recall:', recall_score(y_test, y_pred)*100,'%')\n",
    "print('Precision:', precision_score(y_test, y_pred)*100,'%')\n",
    "print('F1 Score:', f1_score(y_test, y_pred)*100,'%')"
   ]
  },
  {
   "cell_type": "code",
   "execution_count": 48,
   "id": "79b64272-c270-470f-91cb-0f7c637b93b0",
   "metadata": {},
   "outputs": [
    {
     "name": "stdout",
     "output_type": "stream",
     "text": [
      "Accuracy: 86.19047619047619 %\n",
      "Recall: 88.46153846153845 %\n",
      "Precision: 84.40366972477065 %\n",
      "F1 Score: 86.3849765258216 %\n"
     ]
    }
   ],
   "source": [
    "from sklearn.neighbors import KNeighborsClassifier\n",
    "knn = KNeighborsClassifier(n_neighbors=2) \n",
    "knn.fit(X_train, y_train)\n",
    "y_predict = knn.predict(X_test)\n",
    "print('Accuracy:',accuracy_score(y_test, y_pred)*100,'%')\n",
    "print('Recall:', recall_score(y_test, y_pred)*100,'%')\n",
    "print('Precision:', precision_score(y_test, y_pred)*100,'%')\n",
    "print('F1 Score:', f1_score(y_test, y_pred)*100,'%')"
   ]
  },
  {
   "cell_type": "markdown",
   "id": "7aec277a-f237-4e9d-86f4-e6ca31ccf6a4",
   "metadata": {},
   "source": [
    "## Preparing the testing data"
   ]
  },
  {
   "cell_type": "code",
   "execution_count": 59,
   "id": "557ad2ba-6133-414b-bdbc-1de1cb7bc0a8",
   "metadata": {},
   "outputs": [
    {
     "name": "stderr",
     "output_type": "stream",
     "text": [
      "/tmp/ipykernel_45160/796778557.py:6: FutureWarning: Setting an item of incompatible dtype is deprecated and will raise in a future error of pandas. Value '2' has dtype incompatible with float64, please explicitly cast to a compatible dtype first.\n",
      "  test_data['Embarked'].fillna('2', inplace=True)\n"
     ]
    }
   ],
   "source": [
    "test_data = pd.read_csv('Titanic/test.csv')\n",
    "columns_to_eliminate = ['Name','Ticket','Cabin']\n",
    "test_data.drop(columns_to_eliminate, axis=1, inplace=True)\n",
    "test_data['Sex'] = test_data['Sex'].apply(lambda x: 0 if x=='male' else 1)\n",
    "test_data['Embarked'] = train_data['Embarked'].apply(lambda x: 0 if x == 'S' else 1 if x == 'C' else 2)\n",
    "test_data['Embarked'].fillna('2', inplace=True)\n",
    "test_data['Fare'].fillna(test_data['Fare'].median(), inplace=True)"
   ]
  },
  {
   "cell_type": "code",
   "execution_count": 60,
   "id": "f76b0fa9-a0e2-45b3-bbc1-9080fd4055f7",
   "metadata": {},
   "outputs": [],
   "source": [
    "age_na_test = test_data[test_data['Age'].isna()]\n",
    "age_na_test_passenger_id = age_na_test['PassengerId']\n",
    "age_na_test = age_na_test[['Sex', 'Pclass', 'Fare' ,'Age']]\n",
    "full_age_test = test_data.dropna()\n",
    "\n",
    "\n",
    "X = age_na_test.drop('Age', axis=1)\n",
    "age_na_test['Age'] = linear_regression_age.predict(X).astype(int)\n",
    "age_na_test['PassengerId'] = age_na_test_passenger_id\n",
    "prepared_test = pd.concat([age_na_test, full_age_test])\n",
    "prepared_test['Age'] = prepared_test['Age'].astype(int)\n",
    "\n",
    "\n",
    "prepared_test = prepared_test.set_index('PassengerId').join(\n",
    "    test_data[['PassengerId', 'SibSp', 'Parch', 'Embarked']].set_index('PassengerId'), \n",
    "    lsuffix='_l', \n",
    "    rsuffix='', \n",
    "    on='PassengerId')\n",
    "\n",
    "\n",
    "prepared_test.drop(['SibSp_l', 'Parch_l', 'Embarked_l'], axis = 1, inplace=True)\n",
    "\n",
    "\n",
    "scaled_test = scaler.transform(prepared_test[clean_train.columns[1:]])\n",
    "\n",
    "\n",
    "final_dataset = pd.DataFrame()\n",
    "final_dataset['PassengerId'] = prepared_test.index\n",
    "final_dataset['Survived'] = rf.predict(scaled_test)\n",
    "\n",
    "\n",
    "final_dataset.sort_values(by=['PassengerId'], inplace=True)\n",
    "\n",
    "\n",
    "final_dataset.to_csv('Titanic/results.csv', index=False)"
   ]
  },
  {
   "cell_type": "code",
   "execution_count": null,
   "id": "03c4d55d-27e4-45d9-b4a8-790122bb745d",
   "metadata": {},
   "outputs": [],
   "source": []
  }
 ],
 "metadata": {
  "kernelspec": {
   "display_name": "Python 3 (ipykernel)",
   "language": "python",
   "name": "python3"
  },
  "language_info": {
   "codemirror_mode": {
    "name": "ipython",
    "version": 3
   },
   "file_extension": ".py",
   "mimetype": "text/x-python",
   "name": "python",
   "nbconvert_exporter": "python",
   "pygments_lexer": "ipython3",
   "version": "3.10.12"
  }
 },
 "nbformat": 4,
 "nbformat_minor": 5
}
