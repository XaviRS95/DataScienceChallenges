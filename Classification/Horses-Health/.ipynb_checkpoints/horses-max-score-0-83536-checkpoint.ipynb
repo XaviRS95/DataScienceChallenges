{
 "cells": [
  {
   "cell_type": "markdown",
   "metadata": {
    "_cell_guid": "b1076dfc-b9ad-4769-8c92-a6c4dae69d19",
    "_uuid": "8f2839f25d086af736a60e9eeb907d3b93b6e0e5",
    "execution": {
     "iopub.execute_input": "2023-09-21T14:44:54.274013Z",
     "iopub.status.busy": "2023-09-21T14:44:54.273604Z",
     "iopub.status.idle": "2023-09-21T14:44:54.285213Z",
     "shell.execute_reply": "2023-09-21T14:44:54.283601Z",
     "shell.execute_reply.started": "2023-09-21T14:44:54.273982Z"
    }
   },
   "source": [
    "**this is my first dataset and my first competition , I would be immensely grateful if you could take a moment to review my notebook and share any feedback or advice you may have. Your insights and suggestions would be incredibly valuable to me as I continue to improve my data science skills.** ♥♥"
   ]
  },
  {
   "cell_type": "code",
   "execution_count": 1,
   "metadata": {},
   "outputs": [],
   "source": [
    "#https://www.kaggle.com/code/ziadaymantesla/horses-max-score-0-83536/notebook#EDA-and-preprocessing"
   ]
  },
  {
   "cell_type": "markdown",
   "metadata": {},
   "source": [
    "**some articles i read to understand  a couple of features  : https://my.clevelandclinic.org/health/diseases/22795-hypovolemic-shock\n",
    "\n",
    "https://minivetguide.com/pcvtp-how-to-get-the-most-out-of-this-simple-test/\n",
    "\n",
    "https://aaep.org/sites/default/files/issues/proceedings-11proceedings-318.PDF\n",
    "\n",
    "https://horse-canada.com/magazine/health/shock-when-the-body-shuts-down/#:~:text=Horses%20suffer%20shock%20for%20a,fear%2C%20blood%20loss%20and%20dehydration.**"
   ]
  },
  {
   "cell_type": "markdown",
   "metadata": {},
   "source": [
    "![Image](https://images.inc.com/uploaded_files/image/1920x1080/getty_492499085_347227.jpg)"
   ]
  },
  {
   "cell_type": "markdown",
   "metadata": {},
   "source": [
    "# imports"
   ]
  },
  {
   "cell_type": "code",
   "execution_count": null,
   "metadata": {
    "execution": {
     "iopub.execute_input": "2023-09-26T06:37:49.447574Z",
     "iopub.status.busy": "2023-09-26T06:37:49.447306Z",
     "iopub.status.idle": "2023-09-26T06:37:59.104425Z",
     "shell.execute_reply": "2023-09-26T06:37:59.103389Z",
     "shell.execute_reply.started": "2023-09-26T06:37:49.447548Z"
    }
   },
   "outputs": [],
   "source": [
    "from sklearn.metrics import get_scorer_names\n",
    "import optuna \n",
    "import xgboost as xgb\n",
    "from sklearn.model_selection import train_test_split, GridSearchCV\n",
    "from sklearn.metrics import roc_auc_score\n",
    "from sklearn.model_selection import learning_curve\n",
    "\n",
    "#############################\n",
    "import lightgbm as lgb\n",
    "import numpy as np \n",
    "import pandas as pd\n",
    "import seaborn as sns\n",
    "import matplotlib.pyplot as plt\n",
    "from sklearn.preprocessing import StandardScaler, MinMaxScaler, LabelEncoder\n",
    "from scipy import stats\n",
    "from statsmodels.stats.outliers_influence import variance_inflation_factor\n",
    "#################################\n",
    "from sklearn.metrics import accuracy_score, precision_score, recall_score, f1_score\n",
    "from sklearn.datasets import load_iris\n",
    "from sklearn.feature_selection import SelectKBest, chi2\n",
    "import warnings\n",
    "warnings.filterwarnings('ignore')\n",
    "import missingno as msno\n",
    "\n",
    "from sklearn.decomposition import PCA\n",
    "from sklearn.ensemble import RandomForestClassifier\n",
    "from sklearn.inspection import permutation_importance\n",
    "from sklearn.impute import KNNImputer\n",
    "from sklearn.feature_selection import SelectKBest, f_classif"
   ]
  },
  {
   "cell_type": "markdown",
   "metadata": {},
   "source": [
    "# Data loading"
   ]
  },
  {
   "cell_type": "code",
   "execution_count": null,
   "metadata": {
    "execution": {
     "iopub.execute_input": "2023-09-26T06:37:59.108493Z",
     "iopub.status.busy": "2023-09-26T06:37:59.10703Z",
     "iopub.status.idle": "2023-09-26T06:37:59.18488Z",
     "shell.execute_reply": "2023-09-26T06:37:59.183888Z",
     "shell.execute_reply.started": "2023-09-26T06:37:59.108464Z"
    }
   },
   "outputs": [],
   "source": [
    "trainx = pd.read_csv('../input/playground-series-s3e22/train.csv')\n",
    "test = pd.read_csv('../input/playground-series-s3e22/test.csv')\n",
    "original = pd.read_csv('../input/horse-survival-dataset/horse.csv')\n",
    "submission = pd.read_csv('../input/playground-series-s3e22/sample_submission.csv')"
   ]
  },
  {
   "cell_type": "code",
   "execution_count": null,
   "metadata": {
    "execution": {
     "iopub.execute_input": "2023-09-26T06:37:59.186923Z",
     "iopub.status.busy": "2023-09-26T06:37:59.186494Z",
     "iopub.status.idle": "2023-09-26T06:37:59.231985Z",
     "shell.execute_reply": "2023-09-26T06:37:59.230977Z",
     "shell.execute_reply.started": "2023-09-26T06:37:59.186887Z"
    }
   },
   "outputs": [],
   "source": [
    "train = pd.concat([trainx, original], ignore_index=True)\n",
    "train.drop_duplicates(inplace=True)\n",
    "total = pd.concat([train, test], ignore_index=True)\n",
    "target='outcome'"
   ]
  },
  {
   "cell_type": "markdown",
   "metadata": {},
   "source": [
    "concatenating  the train dataset with the original dataset for later analysis to later check if it would positively affect the model performance ( update : it did )  "
   ]
  },
  {
   "cell_type": "code",
   "execution_count": null,
   "metadata": {
    "execution": {
     "iopub.execute_input": "2023-09-26T06:37:59.235181Z",
     "iopub.status.busy": "2023-09-26T06:37:59.234773Z",
     "iopub.status.idle": "2023-09-26T06:37:59.241007Z",
     "shell.execute_reply": "2023-09-26T06:37:59.239912Z",
     "shell.execute_reply.started": "2023-09-26T06:37:59.235151Z"
    }
   },
   "outputs": [],
   "source": [
    "print('The dimension of the total dataset is:', total.shape)\n",
    "print('The dimension of the test dataset is:', test.shape)\n",
    "print('The dimension of the original train dataset is:', original.shape)\n",
    "print('The dimension of the train dataset is:', trainx.shape)"
   ]
  },
  {
   "cell_type": "markdown",
   "metadata": {},
   "source": [
    "# EDA and preprocessing"
   ]
  },
  {
   "cell_type": "code",
   "execution_count": null,
   "metadata": {
    "execution": {
     "iopub.execute_input": "2023-09-26T06:37:59.243425Z",
     "iopub.status.busy": "2023-09-26T06:37:59.243021Z",
     "iopub.status.idle": "2023-09-26T06:37:59.555924Z",
     "shell.execute_reply": "2023-09-26T06:37:59.554918Z",
     "shell.execute_reply.started": "2023-09-26T06:37:59.243392Z"
    }
   },
   "outputs": [],
   "source": [
    "\n",
    "filtered_data = train[(train['peripheral_pulse'] =='reduced') ]\n",
    "\n",
    "\n",
    "print(filtered_data['outcome'])\n",
    "plt.figure(figsize=(8, 6))  \n",
    "sns.countplot(data=filtered_data, x='outcome')\n",
    "\n",
    "\n",
    "plt.xlabel('Outcome')\n",
    "plt.ylabel('Count')\n",
    "plt.title('Count Plot of Outcome for Filtered Data')\n",
    "\n",
    "\n",
    "plt.show()"
   ]
  },
  {
   "cell_type": "code",
   "execution_count": null,
   "metadata": {
    "execution": {
     "iopub.execute_input": "2023-09-26T06:37:59.558855Z",
     "iopub.status.busy": "2023-09-26T06:37:59.557336Z",
     "iopub.status.idle": "2023-09-26T06:37:59.567728Z",
     "shell.execute_reply": "2023-09-26T06:37:59.566623Z",
     "shell.execute_reply.started": "2023-09-26T06:37:59.55882Z"
    }
   },
   "outputs": [],
   "source": [
    "total.drop('id',axis=1,inplace=True)\n"
   ]
  },
  {
   "cell_type": "code",
   "execution_count": null,
   "metadata": {
    "execution": {
     "iopub.execute_input": "2023-09-26T06:37:59.569963Z",
     "iopub.status.busy": "2023-09-26T06:37:59.569665Z",
     "iopub.status.idle": "2023-09-26T06:37:59.809704Z",
     "shell.execute_reply": "2023-09-26T06:37:59.808673Z",
     "shell.execute_reply.started": "2023-09-26T06:37:59.569938Z"
    }
   },
   "outputs": [],
   "source": [
    "sns.countplot(data = total, x = 'outcome')\n",
    "plt.ylabel('Frequency');"
   ]
  },
  {
   "cell_type": "markdown",
   "metadata": {},
   "source": [
    "0->died\n",
    "\n",
    "1->euthanized\n",
    "\n",
    "2->lived"
   ]
  },
  {
   "cell_type": "code",
   "execution_count": null,
   "metadata": {
    "execution": {
     "iopub.execute_input": "2023-09-26T06:37:59.812835Z",
     "iopub.status.busy": "2023-09-26T06:37:59.811051Z",
     "iopub.status.idle": "2023-09-26T06:37:59.817942Z",
     "shell.execute_reply": "2023-09-26T06:37:59.816862Z",
     "shell.execute_reply.started": "2023-09-26T06:37:59.8128Z"
    },
    "jupyter": {
     "source_hidden": true
    }
   },
   "outputs": [],
   "source": [
    "\n",
    "# # Criteria 1: Normal in abdominal_distention and severe in abdominal appearance\n",
    "# criteria1_count = len(total[(total['abdominal_distention'] == 'slight') & (total['abdomo_appearance'] == 'clear')])\n",
    "\n",
    "# # Criteria 2: Normal in abdominal_distention and cloudy in abdominal appearance\n",
    "# criteria2_count = len(total[(total['abdominal_distention'] == 'normal') & (total['abdomo_appearance'] == 'cloudy')])\n",
    "\n",
    "# # Criteria 3: Normal in abdominal_distention and serosanguinous in abdominal appearance\n",
    "# criteria3_count = len(total[(total['abdominal_distention'] == 'severe') & (total['abdomo_appearance'] == 'serosanguinous')])\n",
    "\n",
    "# # Print the outcomes\n",
    "# print(f\"Number of rows with 'slight' in abdominal_distention and 'clear' in abdominal appearance: {criteria1_count}\")\n",
    "# print(f\"Number of rows with 'Normal' in abdominal_distention and 'Cloudy' in abdominal appearance: {criteria2_count}\")\n",
    "# print(f\"Number of rows with 'severe' in abdominal_distention and 'Serosanguinous' in abdominal appearance: {criteria3_count}\")"
   ]
  },
  {
   "cell_type": "code",
   "execution_count": null,
   "metadata": {
    "execution": {
     "iopub.execute_input": "2023-09-26T06:37:59.821749Z",
     "iopub.status.busy": "2023-09-26T06:37:59.821366Z",
     "iopub.status.idle": "2023-09-26T06:37:59.830813Z",
     "shell.execute_reply": "2023-09-26T06:37:59.829838Z",
     "shell.execute_reply.started": "2023-09-26T06:37:59.821722Z"
    },
    "jupyter": {
     "source_hidden": true
    }
   },
   "outputs": [],
   "source": [
    "# # Assuming your DataFrame is named 'total' and the target variable is 'outcome'\n",
    "\n",
    "# # Filter rows based on criteria\n",
    "# filtered_rows = train[(train['abdominal_distention'] == 'severe') & (train['abdomo_appearance'] == 'cloudy')]\n",
    "\n",
    "# # Create a histogram of the 'outcome' variable for the filtered rows\n",
    "# plt.figure(figsize=(8, 6))\n",
    "# sns.histplot(data=filtered_rows, x='outcome', bins=2, discrete=True)\n",
    "# plt.xlabel(\"Outcome\")\n",
    "# plt.ylabel(\"Frequency\")\n",
    "# plt.title(\"Histogram of 'Outcome' Variable for Filtered Rows\")\n",
    "# plt.xticks([0, 1 ,2])  # Assuming binary outcome (0 and 1)\n",
    "# plt.show()"
   ]
  },
  {
   "cell_type": "code",
   "execution_count": null,
   "metadata": {
    "execution": {
     "iopub.execute_input": "2023-09-26T06:37:59.838412Z",
     "iopub.status.busy": "2023-09-26T06:37:59.838133Z",
     "iopub.status.idle": "2023-09-26T06:37:59.843486Z",
     "shell.execute_reply": "2023-09-26T06:37:59.842751Z",
     "shell.execute_reply.started": "2023-09-26T06:37:59.838391Z"
    }
   },
   "outputs": [],
   "source": [
    "\n",
    "# total.drop('cp_data',axis=1,inplace=True)"
   ]
  },
  {
   "cell_type": "markdown",
   "metadata": {},
   "source": [
    "***removing CP data has worsen the model , which i expected after analysing the data , CP data has effectively helped with deciding if the horse needed to be euthanized or not ***"
   ]
  },
  {
   "cell_type": "code",
   "execution_count": null,
   "metadata": {
    "execution": {
     "iopub.execute_input": "2023-09-26T06:37:59.84568Z",
     "iopub.status.busy": "2023-09-26T06:37:59.844969Z",
     "iopub.status.idle": "2023-09-26T06:37:59.859759Z",
     "shell.execute_reply": "2023-09-26T06:37:59.858811Z",
     "shell.execute_reply.started": "2023-09-26T06:37:59.845647Z"
    }
   },
   "outputs": [],
   "source": [
    "categorical_feats=[]\n"
   ]
  },
  {
   "cell_type": "code",
   "execution_count": null,
   "metadata": {
    "execution": {
     "iopub.execute_input": "2023-09-26T06:37:59.862909Z",
     "iopub.status.busy": "2023-09-26T06:37:59.862205Z",
     "iopub.status.idle": "2023-09-26T06:37:59.87182Z",
     "shell.execute_reply": "2023-09-26T06:37:59.870677Z",
     "shell.execute_reply.started": "2023-09-26T06:37:59.862879Z"
    }
   },
   "outputs": [],
   "source": [
    "for column in total.columns:\n",
    "  \n",
    "    if total[column].dtype == 'object':\n",
    "        \n",
    "        categorical_feats.append(column)\n",
    "\n",
    "\n",
    "print(categorical_feats)"
   ]
  },
  {
   "cell_type": "code",
   "execution_count": null,
   "metadata": {
    "execution": {
     "iopub.execute_input": "2023-09-26T06:37:59.873871Z",
     "iopub.status.busy": "2023-09-26T06:37:59.873259Z",
     "iopub.status.idle": "2023-09-26T06:37:59.88214Z",
     "shell.execute_reply": "2023-09-26T06:37:59.881425Z",
     "shell.execute_reply.started": "2023-09-26T06:37:59.87384Z"
    }
   },
   "outputs": [],
   "source": [
    "categorical_feats.remove('outcome')"
   ]
  },
  {
   "cell_type": "code",
   "execution_count": null,
   "metadata": {
    "execution": {
     "iopub.execute_input": "2023-09-26T06:37:59.884589Z",
     "iopub.status.busy": "2023-09-26T06:37:59.883735Z",
     "iopub.status.idle": "2023-09-26T06:37:59.898212Z",
     "shell.execute_reply": "2023-09-26T06:37:59.896993Z",
     "shell.execute_reply.started": "2023-09-26T06:37:59.884557Z"
    }
   },
   "outputs": [],
   "source": [
    "numerical_features = []\n",
    "\n",
    "\n",
    "for column in total.columns:\n",
    "    \n",
    "    if pd.api.types.is_numeric_dtype(total[column]):\n",
    "     \n",
    "        numerical_features.append(column)\n",
    "\n",
    "\n",
    "print(numerical_features)"
   ]
  },
  {
   "cell_type": "code",
   "execution_count": null,
   "metadata": {
    "execution": {
     "iopub.execute_input": "2023-09-26T06:37:59.900048Z",
     "iopub.status.busy": "2023-09-26T06:37:59.899691Z",
     "iopub.status.idle": "2023-09-26T06:37:59.913391Z",
     "shell.execute_reply": "2023-09-26T06:37:59.912465Z",
     "shell.execute_reply.started": "2023-09-26T06:37:59.900015Z"
    }
   },
   "outputs": [],
   "source": [
    "total[\"outcome\"] = total[\"outcome\"].map({'euthanized':0,'died':1,'lived':2 })"
   ]
  },
  {
   "cell_type": "code",
   "execution_count": null,
   "metadata": {
    "execution": {
     "iopub.execute_input": "2023-09-26T06:37:59.915106Z",
     "iopub.status.busy": "2023-09-26T06:37:59.914743Z",
     "iopub.status.idle": "2023-09-26T06:37:59.926181Z",
     "shell.execute_reply": "2023-09-26T06:37:59.925311Z",
     "shell.execute_reply.started": "2023-09-26T06:37:59.915064Z"
    }
   },
   "outputs": [],
   "source": [
    "pd.options.display.float_format = '{:,.2f}'.format\n",
    "def summary(df):\n",
    "    print(f'data shape: {df.shape}')\n",
    "    summ = pd.DataFrame(df.dtypes, columns=['data type'])\n",
    "    summ['#missing'] = df.isnull().sum().values \n",
    "    summ['%missing'] = df.isnull().sum().values / len(df) * 100\n",
    "    summ['#unique'] = df.nunique().values\n",
    "    desc = pd.DataFrame(df.describe(include='all').transpose())\n",
    "    summ['min'] = desc['min'].values\n",
    "    summ['max'] = desc['max'].values\n",
    "    summ['average'] = desc['mean'].values\n",
    "    summ['standard_deviation'] = desc['std'].values\n",
    "    summ['first value'] = df.loc[0].values\n",
    "    summ['second value'] = df.loc[1].values\n",
    "    summ['third value'] = df.loc[2].values\n",
    "    \n",
    "    return summ"
   ]
  },
  {
   "cell_type": "code",
   "execution_count": null,
   "metadata": {
    "execution": {
     "iopub.execute_input": "2023-09-26T06:37:59.929275Z",
     "iopub.status.busy": "2023-09-26T06:37:59.92861Z",
     "iopub.status.idle": "2023-09-26T06:38:00.104503Z",
     "shell.execute_reply": "2023-09-26T06:38:00.103517Z",
     "shell.execute_reply.started": "2023-09-26T06:37:59.929244Z"
    }
   },
   "outputs": [],
   "source": [
    "summary(total).style.background_gradient(cmap='YlOrBr')"
   ]
  },
  {
   "cell_type": "code",
   "execution_count": null,
   "metadata": {
    "execution": {
     "iopub.execute_input": "2023-09-26T06:38:00.106131Z",
     "iopub.status.busy": "2023-09-26T06:38:00.105692Z",
     "iopub.status.idle": "2023-09-26T06:38:04.499486Z",
     "shell.execute_reply": "2023-09-26T06:38:04.49844Z",
     "shell.execute_reply.started": "2023-09-26T06:38:00.106097Z"
    }
   },
   "outputs": [],
   "source": [
    "plt.figure(figsize=(14, len(categorical_feats)*2.5))\n",
    "\n",
    "for idx, column in enumerate(categorical_feats):\n",
    "    plt.subplot(len(categorical_feats)//2 + len(categorical_feats) % 2, 2, idx+1)\n",
    "    ax = sns.countplot(x=column, data=train, hue='outcome', palette='YlOrRd')\n",
    "    plt.title(f\"{column} Countplot by outcome\")\n",
    "    plt.ylim(0, train[column].value_counts().max() + 10)\n",
    "\n",
    "    for p in ax.patches:\n",
    "        height = p.get_height()\n",
    "        plt.text(p.get_x() + p.get_width()/2., height + 2, height, ha=\"center\")\n",
    "\n",
    "    # Remove duplicate legend\n",
    "    if idx != 0:\n",
    "        ax.get_legend().remove()\n",
    "\n",
    "plt.tight_layout()\n",
    "plt.show()"
   ]
  },
  {
   "cell_type": "code",
   "execution_count": null,
   "metadata": {
    "execution": {
     "iopub.execute_input": "2023-09-26T06:38:04.500803Z",
     "iopub.status.busy": "2023-09-26T06:38:04.50046Z",
     "iopub.status.idle": "2023-09-26T06:38:08.420491Z",
     "shell.execute_reply": "2023-09-26T06:38:08.419465Z",
     "shell.execute_reply.started": "2023-09-26T06:38:04.50077Z"
    }
   },
   "outputs": [],
   "source": [
    "plt.figure(figsize=(14, len(categorical_feats)*2.5))\n",
    "\n",
    "for idx, column in enumerate(categorical_feats):\n",
    "    plt.subplot(len(categorical_feats)//2 + len(categorical_feats) % 2, 2, idx+1)\n",
    "    sns.countplot(x=column, data=test, palette='YlOrRd')\n",
    "    plt.title(f\"{column} Countplot\")\n",
    "\n",
    "    plt.ylim(0, test[column].value_counts().max() + 10)\n",
    "\n",
    "    # Add count labels above each rectangular bar\n",
    "    for p in sns.countplot(x=column, data=test, palette='YlOrRd').patches:\n",
    "        height = p.get_height()\n",
    "        plt.text(p.get_x() + p.get_width()/2., height + 2, height, ha=\"center\")\n",
    "\n",
    "plt.tight_layout()\n",
    "plt.show()"
   ]
  },
  {
   "cell_type": "markdown",
   "metadata": {},
   "source": [
    "****there are some inconsistencies in the train data and test  , for example in pain there is slight  which doesnt exist in test data ( there is moderate instead )\n",
    "rectal exam feces , there is serosanguious ( only 1 case ) which doesn't exist in test data ****"
   ]
  },
  {
   "cell_type": "code",
   "execution_count": null,
   "metadata": {
    "execution": {
     "iopub.execute_input": "2023-09-26T06:38:08.422673Z",
     "iopub.status.busy": "2023-09-26T06:38:08.422276Z",
     "iopub.status.idle": "2023-09-26T06:38:08.43732Z",
     "shell.execute_reply": "2023-09-26T06:38:08.436256Z",
     "shell.execute_reply.started": "2023-09-26T06:38:08.422639Z"
    }
   },
   "outputs": [],
   "source": [
    "total[\"rectal_exam_feces\"] = np.where(total[\"rectal_exam_feces\"].isin([\"serosanguious\"]), total[\"rectal_exam_feces\"].mode()[0], \n",
    "                                              total[\"rectal_exam_feces\"])\n",
    "total[\"pain\"] = np.where(total[\"pain\"].isin([\"slight\"]), \"mild_pain\", total[\"pain\"])\n",
    "total[\"peristalsis\"] = np.where(total[\"peristalsis\"].isin([\"distend_small\"]), total[\"peristalsis\"].mode()[0], \n",
    "                                              total[\"peristalsis\"])\n",
    "\n",
    "total[\"nasogastric_reflux\"] = np.where(total[\"nasogastric_reflux\"].isin([\"slight\"]), \n",
    "                                               total[\"nasogastric_reflux\"].mode()[0],\n",
    "                                               total[\"nasogastric_reflux\"])\n",
    "\n"
   ]
  },
  {
   "cell_type": "code",
   "execution_count": null,
   "metadata": {
    "execution": {
     "iopub.execute_input": "2023-09-26T06:38:08.43958Z",
     "iopub.status.busy": "2023-09-26T06:38:08.439108Z",
     "iopub.status.idle": "2023-09-26T06:38:08.448475Z",
     "shell.execute_reply": "2023-09-26T06:38:08.447635Z",
     "shell.execute_reply.started": "2023-09-26T06:38:08.439445Z"
    }
   },
   "outputs": [],
   "source": [
    "total['frequency'] = total['hospital_number'].map(total['hospital_number'].value_counts())"
   ]
  },
  {
   "cell_type": "markdown",
   "metadata": {},
   "source": [
    "****as the original data states , hospital number is merely an indicator for how many times did a horse visit the hosipital ( it still doesn't make sense to me because after analysing the data  , alot of  hospital numbers has many cases marked dead , how can a horse die more than one time ? ) ****"
   ]
  },
  {
   "cell_type": "code",
   "execution_count": null,
   "metadata": {
    "execution": {
     "iopub.execute_input": "2023-09-26T06:38:08.450411Z",
     "iopub.status.busy": "2023-09-26T06:38:08.45009Z",
     "iopub.status.idle": "2023-09-26T06:38:08.461663Z",
     "shell.execute_reply": "2023-09-26T06:38:08.460704Z",
     "shell.execute_reply.started": "2023-09-26T06:38:08.450382Z"
    }
   },
   "outputs": [],
   "source": [
    "total.drop('hospital_number' , axis =1 , inplace = True )"
   ]
  },
  {
   "cell_type": "code",
   "execution_count": null,
   "metadata": {
    "execution": {
     "iopub.execute_input": "2023-09-26T06:38:08.464337Z",
     "iopub.status.busy": "2023-09-26T06:38:08.463657Z",
     "iopub.status.idle": "2023-09-26T06:38:08.478508Z",
     "shell.execute_reply": "2023-09-26T06:38:08.477441Z",
     "shell.execute_reply.started": "2023-09-26T06:38:08.464303Z"
    }
   },
   "outputs": [],
   "source": [
    "total['frequency']"
   ]
  },
  {
   "cell_type": "code",
   "execution_count": null,
   "metadata": {
    "execution": {
     "iopub.execute_input": "2023-09-26T06:38:08.481392Z",
     "iopub.status.busy": "2023-09-26T06:38:08.480743Z",
     "iopub.status.idle": "2023-09-26T06:38:44.832284Z",
     "shell.execute_reply": "2023-09-26T06:38:44.830158Z",
     "shell.execute_reply.started": "2023-09-26T06:38:08.481344Z"
    }
   },
   "outputs": [],
   "source": [
    "sns.pairplot(data=train[numerical_features+[target]], hue=target , corner=True)"
   ]
  },
  {
   "cell_type": "code",
   "execution_count": null,
   "metadata": {
    "execution": {
     "iopub.execute_input": "2023-09-26T06:38:44.834402Z",
     "iopub.status.busy": "2023-09-26T06:38:44.833815Z",
     "iopub.status.idle": "2023-09-26T06:38:47.146706Z",
     "shell.execute_reply": "2023-09-26T06:38:47.145648Z",
     "shell.execute_reply.started": "2023-09-26T06:38:44.834368Z"
    }
   },
   "outputs": [],
   "source": [
    "fig, axes = plt.subplots(nrows=6, ncols=2, figsize=(12, 16))\n",
    "\n",
    "for i, feature in enumerate(numerical_features):\n",
    "    row = i // 2\n",
    "    col = i % 2\n",
    "    sns.boxplot(ax=axes[row, col], data=train, x='outcome', y=feature)\n",
    "    axes[row, col].set_title(f'Boxplot of {feature}')\n",
    "    axes[row, col].set_xlabel('Outcome')\n",
    "    axes[row, col].set_ylabel(feature)\n",
    "\n",
    "# Remove empty subplots if the number of features is not divisible by 2\n",
    "if len(numerical_features) % 2 != 0:\n",
    "    axes[-1, -1].remove()\n",
    "\n",
    "plt.tight_layout()\n",
    "plt.show()"
   ]
  },
  {
   "cell_type": "code",
   "execution_count": null,
   "metadata": {
    "execution": {
     "iopub.execute_input": "2023-09-26T06:38:47.148762Z",
     "iopub.status.busy": "2023-09-26T06:38:47.148396Z",
     "iopub.status.idle": "2023-09-26T06:38:49.387323Z",
     "shell.execute_reply": "2023-09-26T06:38:49.386254Z",
     "shell.execute_reply.started": "2023-09-26T06:38:47.148731Z"
    }
   },
   "outputs": [],
   "source": [
    "fig, axes = plt.subplots(nrows=6, ncols=2, figsize=(12, 16))\n",
    "\n",
    "for i, feature in enumerate(numerical_features):\n",
    "    row = i // 2\n",
    "    col = i % 2\n",
    "    sns.boxplot(ax=axes[row, col], data=test,  y=feature)\n",
    "    axes[row, col].set_title(f'Boxplot of {feature}')\n",
    "    axes[row, col].set_xlabel('Outcome')\n",
    "    axes[row, col].set_ylabel(feature)\n",
    "\n",
    "# Remove empty subplots if the number of features is not divisible by 2\n",
    "if len(numerical_features) % 2 != 0:\n",
    "    axes[-1, -1].remove()\n",
    "\n",
    "plt.tight_layout()\n",
    "plt.show()"
   ]
  },
  {
   "cell_type": "markdown",
   "metadata": {},
   "source": [
    "****respiratory rate doesn't seem very good in influencing the outcome state for horses  \n",
    "lesion 2 , lesion 3 are probably going to just add noise \n",
    "can work in total protein and packed cell volume to construct a feature which would be usefull , they seem some what well distributed ( if i have time i will work on this , if not i will just add my research  findings at the top i hope you find it useful :) )  \n",
    "pulse is very solid as it seems , will probably be very effective indicator ****\n",
    "\n",
    "****outliers on the other hand i can't seem to find a good solution for it (yet ) becuase for most features , there are too many of them everywhere in every category  to be considered \"outliers\" , tell me what you think **** "
   ]
  },
  {
   "cell_type": "code",
   "execution_count": null,
   "metadata": {
    "execution": {
     "iopub.execute_input": "2023-09-26T06:38:49.38947Z",
     "iopub.status.busy": "2023-09-26T06:38:49.389137Z",
     "iopub.status.idle": "2023-09-26T06:38:49.61544Z",
     "shell.execute_reply": "2023-09-26T06:38:49.614532Z",
     "shell.execute_reply.started": "2023-09-26T06:38:49.38944Z"
    }
   },
   "outputs": [],
   "source": [
    "\n",
    "# Scatter plot for PCV vs. Target Variable\n",
    "plt.scatter(train['packed_cell_volume'], train['outcome'], alpha=0.5)\n",
    "plt.xlabel('packed_cell_volume')\n",
    "plt.ylabel('outcome')\n",
    "plt.title('Scatter Plot: PCV vs. Target Variable')\n",
    "plt.show()"
   ]
  },
  {
   "cell_type": "code",
   "execution_count": null,
   "metadata": {
    "execution": {
     "iopub.execute_input": "2023-09-26T06:38:49.624242Z",
     "iopub.status.busy": "2023-09-26T06:38:49.623959Z",
     "iopub.status.idle": "2023-09-26T06:38:49.848504Z",
     "shell.execute_reply": "2023-09-26T06:38:49.847497Z",
     "shell.execute_reply.started": "2023-09-26T06:38:49.624218Z"
    }
   },
   "outputs": [],
   "source": [
    "plt.scatter(train['total_protein'], train['outcome'], alpha=0.5)\n",
    "plt.xlabel('total_protein')\n",
    "plt.ylabel('outcome')\n",
    "plt.title('Scatter Plot: TP vs. Target Variable')\n",
    "plt.show()\n"
   ]
  },
  {
   "cell_type": "code",
   "execution_count": null,
   "metadata": {
    "execution": {
     "iopub.execute_input": "2023-09-26T06:38:49.850152Z",
     "iopub.status.busy": "2023-09-26T06:38:49.849788Z",
     "iopub.status.idle": "2023-09-26T06:38:49.859528Z",
     "shell.execute_reply": "2023-09-26T06:38:49.858293Z",
     "shell.execute_reply.started": "2023-09-26T06:38:49.850118Z"
    }
   },
   "outputs": [],
   "source": [
    "correlation_matrix = total[['packed_cell_volume', 'total_protein', 'outcome']].corr()"
   ]
  },
  {
   "cell_type": "code",
   "execution_count": null,
   "metadata": {
    "execution": {
     "iopub.execute_input": "2023-09-26T06:38:49.86225Z",
     "iopub.status.busy": "2023-09-26T06:38:49.861532Z",
     "iopub.status.idle": "2023-09-26T06:38:50.176443Z",
     "shell.execute_reply": "2023-09-26T06:38:50.175551Z",
     "shell.execute_reply.started": "2023-09-26T06:38:49.862215Z"
    }
   },
   "outputs": [],
   "source": [
    "sns.heatmap(correlation_matrix, annot=True, cmap='coolwarm')\n",
    "plt.title('Correlation Heatmap')\n",
    "plt.show()\n"
   ]
  },
  {
   "cell_type": "code",
   "execution_count": null,
   "metadata": {
    "execution": {
     "iopub.execute_input": "2023-09-26T06:38:50.178239Z",
     "iopub.status.busy": "2023-09-26T06:38:50.177867Z",
     "iopub.status.idle": "2023-09-26T06:38:50.18348Z",
     "shell.execute_reply": "2023-09-26T06:38:50.182312Z",
     "shell.execute_reply.started": "2023-09-26T06:38:50.178207Z"
    }
   },
   "outputs": [],
   "source": [
    "# trainpl['Combined_Feature'] = trainpl['packed_cell_volume'] + trainpl['total_protein']"
   ]
  },
  {
   "cell_type": "code",
   "execution_count": null,
   "metadata": {
    "execution": {
     "iopub.execute_input": "2023-09-26T06:38:50.185447Z",
     "iopub.status.busy": "2023-09-26T06:38:50.185105Z",
     "iopub.status.idle": "2023-09-26T06:38:50.194857Z",
     "shell.execute_reply": "2023-09-26T06:38:50.193926Z",
     "shell.execute_reply.started": "2023-09-26T06:38:50.185414Z"
    }
   },
   "outputs": [],
   "source": [
    "# plt.scatter(total['Combined_Feature'], total['outcome'], alpha=0.5)\n",
    "# plt.xlabel('Combined Feature')\n",
    "# plt.ylabel('Target_Variable')\n",
    "# plt.title('Scatter Plot: Combined Feature vs. Target Variable')\n",
    "# plt.show()"
   ]
  },
  {
   "cell_type": "code",
   "execution_count": null,
   "metadata": {
    "execution": {
     "iopub.execute_input": "2023-09-26T06:38:50.198282Z",
     "iopub.status.busy": "2023-09-26T06:38:50.197998Z",
     "iopub.status.idle": "2023-09-26T06:38:50.206736Z",
     "shell.execute_reply": "2023-09-26T06:38:50.205882Z",
     "shell.execute_reply.started": "2023-09-26T06:38:50.198259Z"
    }
   },
   "outputs": [],
   "source": [
    "# correlation_matrix2 = trainpl[['Combined_Feature', 'outcome']].corr()"
   ]
  },
  {
   "cell_type": "code",
   "execution_count": null,
   "metadata": {
    "execution": {
     "iopub.execute_input": "2023-09-26T06:38:50.208532Z",
     "iopub.status.busy": "2023-09-26T06:38:50.208153Z",
     "iopub.status.idle": "2023-09-26T06:38:50.220523Z",
     "shell.execute_reply": "2023-09-26T06:38:50.219723Z",
     "shell.execute_reply.started": "2023-09-26T06:38:50.208502Z"
    }
   },
   "outputs": [],
   "source": [
    "# sns.heatmap(correlation_matrix2, annot=True, cmap='coolwarm')\n",
    "# plt.title('Correlation Heatmap')\n",
    "# plt.show()\n"
   ]
  },
  {
   "cell_type": "code",
   "execution_count": null,
   "metadata": {
    "execution": {
     "iopub.execute_input": "2023-09-26T06:38:50.223717Z",
     "iopub.status.busy": "2023-09-26T06:38:50.221673Z",
     "iopub.status.idle": "2023-09-26T06:38:50.240617Z",
     "shell.execute_reply": "2023-09-26T06:38:50.239757Z",
     "shell.execute_reply.started": "2023-09-26T06:38:50.223689Z"
    }
   },
   "outputs": [],
   "source": [
    "def IQR(col):\n",
    "    q1 = np.percentile(col, 25)\n",
    "    q3 = np.percentile(col, 75)\n",
    "    iqr = q3 - q1\n",
    "    upper_bound = q3 + (1.5 * iqr)\n",
    "    upper_outliers = col > upper_bound\n",
    "\n",
    "    # Replace outliers with upper bound values\n",
    "    col = np.where(upper_outliers, round(upper_bound, 2), col)  \n",
    "    return col\n",
    "\n",
    "\n",
    "total[\"total_protein\"] = IQR(total[\"total_protein\"])\n",
    "\n"
   ]
  },
  {
   "cell_type": "code",
   "execution_count": null,
   "metadata": {
    "execution": {
     "iopub.execute_input": "2023-09-26T06:38:50.241716Z",
     "iopub.status.busy": "2023-09-26T06:38:50.24143Z",
     "iopub.status.idle": "2023-09-26T06:38:50.255945Z",
     "shell.execute_reply": "2023-09-26T06:38:50.255107Z",
     "shell.execute_reply.started": "2023-09-26T06:38:50.241694Z"
    }
   },
   "outputs": [],
   "source": [
    "# total['pcv_tp_ratio']=total['packed_cell_volume']/total['total_protein']"
   ]
  },
  {
   "cell_type": "code",
   "execution_count": null,
   "metadata": {
    "execution": {
     "iopub.execute_input": "2023-09-26T06:38:50.257592Z",
     "iopub.status.busy": "2023-09-26T06:38:50.257293Z",
     "iopub.status.idle": "2023-09-26T06:38:50.846403Z",
     "shell.execute_reply": "2023-09-26T06:38:50.845518Z",
     "shell.execute_reply.started": "2023-09-26T06:38:50.257556Z"
    }
   },
   "outputs": [],
   "source": [
    "plt.figure(figsize=(10, 6))\n",
    "sns.boxplot(x='outcome', y='rectal_temp', data=train)\n",
    "plt.title('Box Plot of Rectal Temperature vs Outcome')\n",
    "plt.xlabel('Outcome')\n",
    "plt.ylabel('Rectal Temperature')\n",
    "plt.show()\n",
    "\n",
    "# Create a violin plot\n",
    "plt.figure(figsize=(10, 6))\n",
    "sns.violinplot(x='outcome', y='rectal_temp', data=total)\n",
    "plt.title('Violin Plot of Rectal Temperature vs Outcome')\n",
    "plt.xlabel('Outcome')\n",
    "plt.ylabel('Rectal Temperature')\n",
    "plt.show()"
   ]
  },
  {
   "cell_type": "code",
   "execution_count": null,
   "metadata": {
    "execution": {
     "iopub.execute_input": "2023-09-26T06:38:50.848838Z",
     "iopub.status.busy": "2023-09-26T06:38:50.847657Z",
     "iopub.status.idle": "2023-09-26T06:38:50.852743Z",
     "shell.execute_reply": "2023-09-26T06:38:50.85187Z",
     "shell.execute_reply.started": "2023-09-26T06:38:50.848805Z"
    }
   },
   "outputs": [],
   "source": [
    "# print(train[train['lesion_1'] ==11300 ]['outcome'].value_counts())"
   ]
  },
  {
   "cell_type": "code",
   "execution_count": null,
   "metadata": {
    "execution": {
     "iopub.execute_input": "2023-09-26T06:38:50.854923Z",
     "iopub.status.busy": "2023-09-26T06:38:50.854267Z",
     "iopub.status.idle": "2023-09-26T06:38:50.866451Z",
     "shell.execute_reply": "2023-09-26T06:38:50.865449Z",
     "shell.execute_reply.started": "2023-09-26T06:38:50.854888Z"
    }
   },
   "outputs": [],
   "source": [
    "# train[train['lesion_1'] > 9999]['lesion_1'].value_counts()"
   ]
  },
  {
   "cell_type": "code",
   "execution_count": null,
   "metadata": {
    "_kg_hide-output": false,
    "execution": {
     "iopub.execute_input": "2023-09-26T06:38:50.868333Z",
     "iopub.status.busy": "2023-09-26T06:38:50.868008Z",
     "iopub.status.idle": "2023-09-26T06:38:50.921064Z",
     "shell.execute_reply": "2023-09-26T06:38:50.920245Z",
     "shell.execute_reply.started": "2023-09-26T06:38:50.868302Z"
    }
   },
   "outputs": [],
   "source": [
    "\n",
    "total['lesion_1'] = total['lesion_1'].astype(str)\n",
    "site_of_lesion_mapping = {\n",
    "    '1': 'gastric',\n",
    "    '2': 'small intestine',\n",
    "    '3': 'large colon',\n",
    "    '4': 'large colon and cecum',\n",
    "    '5': 'cecum',\n",
    "    '6': 'transverse colon',\n",
    "    '7': 'rectum/descending colon',\n",
    "    '8': 'uterus',\n",
    "    '9': 'bladder',\n",
    "    '11': 'all intestinal sites',\n",
    "    '0': 'none',\n",
    "}\n",
    "\n",
    "type_mapping = {\n",
    "    '1': 'simple',\n",
    "    '2': 'strangulation',\n",
    "    '3': 'inflammation',\n",
    "    '4': 'other',\n",
    "}\n",
    "\n",
    "subtype_mapping = {\n",
    "    '1': 'mechanical',\n",
    "    '2': 'paralytic',\n",
    "    '0': 'n/a',\n",
    "}\n",
    "\n",
    "specific_code_mapping = {\n",
    "    '1': 'obturation',\n",
    "    '2': 'intrinsic',\n",
    "    '3': 'extrinsic',\n",
    "    '4': 'adynamic',\n",
    "    '5': 'volvulus/torsion',\n",
    "    '6': 'intussusception',\n",
    "    '7': 'thromboembolic',\n",
    "    '8': 'hernia',\n",
    "    '9': 'lipoma/splenic incarceration',\n",
    "    '10': 'displacement',\n",
    "    '0': 'n/a',\n",
    "}\n",
    "\n",
    "\n",
    "total['site'] = total['lesion_1'].str[0].map(site_of_lesion_mapping)\n",
    "total['type'] = total['lesion_1'].str[1].map(type_mapping)\n",
    "total['subtype'] = total['lesion_1'].str[2].map(subtype_mapping)\n",
    "total['specific_code'] = total['lesion_1'].str[3].map(specific_code_mapping)\n",
    "special_cases = {\n",
    "    '31110': ('large colon', 'simple', 'mechanical', 'displacement'),\n",
    "    '12208': ('small intestine', 'strangulation', 'n/a', 'hernia'),\n",
    "    '11300': ('gastric', 'simple', 'n/a', 'n/a'),\n",
    "    '11400': ('all intestinal sites', 'other', 'n/a', 'n/a'),\n",
    "    '11124': ('all intestinal sites', 'simple', 'paralytic', 'adynamic'),\n",
    "    '21110': ('small intestine', 'simple', 'mechanical', 'displacement'),\n",
    "    '41110': ('large colon and cecum', 'simple', 'mechanical', 'displacement'),\n",
    "}\n",
    "\n",
    "\n",
    "for case, (site, type, subtype, specific_code) in special_cases.items():\n",
    "    total.loc[total['lesion_1'] == case, 'site'] = site\n",
    "    total.loc[total['lesion_1'] == case, 'type'] = type\n",
    "    total.loc[total['lesion_1'] == case, 'subtype'] = subtype\n",
    "    total.loc[total['lesion_1'] == case, 'specific_code'] = specific_code\n",
    "\n",
    "total.drop(['lesion_1', 'lesion_2', 'lesion_3'], axis=1, inplace=True)\n"
   ]
  },
  {
   "cell_type": "markdown",
   "metadata": {},
   "source": [
    "****decoding lesion as the original dataset  clarified  ( update : subtype doesn't seem to be relevant to the outcome , dropping it proved to be worth , as for lesion 2 and 3  they have very little cases ) ****"
   ]
  },
  {
   "cell_type": "code",
   "execution_count": null,
   "metadata": {
    "execution": {
     "iopub.execute_input": "2023-09-26T06:38:50.922709Z",
     "iopub.status.busy": "2023-09-26T06:38:50.922386Z",
     "iopub.status.idle": "2023-09-26T06:38:50.930995Z",
     "shell.execute_reply": "2023-09-26T06:38:50.929943Z",
     "shell.execute_reply.started": "2023-09-26T06:38:50.92268Z"
    }
   },
   "outputs": [],
   "source": [
    "total['site'].value_counts()"
   ]
  },
  {
   "cell_type": "code",
   "execution_count": null,
   "metadata": {
    "execution": {
     "iopub.execute_input": "2023-09-26T06:38:50.933459Z",
     "iopub.status.busy": "2023-09-26T06:38:50.932635Z",
     "iopub.status.idle": "2023-09-26T06:38:50.947654Z",
     "shell.execute_reply": "2023-09-26T06:38:50.946499Z",
     "shell.execute_reply.started": "2023-09-26T06:38:50.933425Z"
    }
   },
   "outputs": [],
   "source": [
    "categorical_feats = []\n",
    "for column in total.columns:\n",
    "   \n",
    "    if total[column].dtype == 'object':\n",
    "    \n",
    "        categorical_feats.append(column)\n",
    "\n",
    "\n",
    "print(categorical_feats)"
   ]
  },
  {
   "cell_type": "code",
   "execution_count": null,
   "metadata": {
    "execution": {
     "iopub.execute_input": "2023-09-26T06:38:50.949434Z",
     "iopub.status.busy": "2023-09-26T06:38:50.949015Z",
     "iopub.status.idle": "2023-09-26T06:38:50.96104Z",
     "shell.execute_reply": "2023-09-26T06:38:50.960032Z",
     "shell.execute_reply.started": "2023-09-26T06:38:50.949402Z"
    }
   },
   "outputs": [],
   "source": [
    "numerical_features = []\n",
    "\n",
    "\n",
    "for column in total.columns:\n",
    "    \n",
    "    if pd.api.types.is_numeric_dtype(total[column]):\n",
    "     \n",
    "        numerical_features.append(column)\n",
    "\n",
    "\n",
    "print(numerical_features)"
   ]
  },
  {
   "cell_type": "code",
   "execution_count": null,
   "metadata": {
    "execution": {
     "iopub.execute_input": "2023-09-26T06:38:50.962578Z",
     "iopub.status.busy": "2023-09-26T06:38:50.96229Z",
     "iopub.status.idle": "2023-09-26T06:38:50.9753Z",
     "shell.execute_reply": "2023-09-26T06:38:50.974317Z",
     "shell.execute_reply.started": "2023-09-26T06:38:50.962537Z"
    }
   },
   "outputs": [],
   "source": [
    "def plot_correlation_matrix(data, numerical_features):\n",
    "    # Select the numerical features\n",
    "    numerical_data = data[numerical_features]\n",
    "\n",
    "    # Compute the correlation matrix\n",
    "    correlation_matrix = numerical_data.corr()\n",
    "\n",
    "    # Generate a mask for the upper triangle to hide redundant values\n",
    "    mask = np.triu(np.ones_like(correlation_matrix, dtype=bool))\n",
    "\n",
    "    # Set up the matplotlib figure\n",
    "    fig, ax = plt.subplots(figsize=(10, 8))\n",
    "\n",
    "    # Create a custom colormap\n",
    "    cmap = sns.diverging_palette(230, 20, as_cmap=True)\n",
    "\n",
    "    # Plot the correlation matrix\n",
    "    sns.heatmap(correlation_matrix, mask=mask, cmap=cmap, center=0, annot=True,\n",
    "                square=True, linewidths=0.5, cbar_kws={\"shrink\": 0.8})\n",
    "\n",
    "    # Customize the plot\n",
    "    plt.title(\"Correlation Matrix of Numerical Features\")\n",
    "    plt.xticks(rotation=45, ha='right')\n",
    "    plt.yticks(rotation=0)\n",
    "    plt.tight_layout()\n",
    "\n",
    "    # Show the plot\n",
    "    plt.show()"
   ]
  },
  {
   "cell_type": "code",
   "execution_count": null,
   "metadata": {
    "execution": {
     "iopub.execute_input": "2023-09-26T06:38:50.977517Z",
     "iopub.status.busy": "2023-09-26T06:38:50.976971Z",
     "iopub.status.idle": "2023-09-26T06:38:51.563495Z",
     "shell.execute_reply": "2023-09-26T06:38:51.562527Z",
     "shell.execute_reply.started": "2023-09-26T06:38:50.977478Z"
    }
   },
   "outputs": [],
   "source": [
    "plot_correlation_matrix(total, numerical_features)"
   ]
  },
  {
   "cell_type": "code",
   "execution_count": null,
   "metadata": {
    "execution": {
     "iopub.execute_input": "2023-09-26T06:38:51.565741Z",
     "iopub.status.busy": "2023-09-26T06:38:51.564799Z",
     "iopub.status.idle": "2023-09-26T06:38:51.570763Z",
     "shell.execute_reply": "2023-09-26T06:38:51.569493Z",
     "shell.execute_reply.started": "2023-09-26T06:38:51.565708Z"
    }
   },
   "outputs": [],
   "source": [
    "numerical_features.remove('outcome')"
   ]
  },
  {
   "cell_type": "code",
   "execution_count": null,
   "metadata": {
    "execution": {
     "iopub.execute_input": "2023-09-26T06:38:51.572849Z",
     "iopub.status.busy": "2023-09-26T06:38:51.572242Z",
     "iopub.status.idle": "2023-09-26T06:38:51.698627Z",
     "shell.execute_reply": "2023-09-26T06:38:51.697183Z",
     "shell.execute_reply.started": "2023-09-26T06:38:51.572818Z"
    }
   },
   "outputs": [],
   "source": [
    "for col in categorical_feats:\n",
    "    total[col] = total[col].fillna(total[col].mode()[0])\n",
    "\n",
    "imputer = KNNImputer(n_neighbors=8)  \n",
    "total[numerical_features] = imputer.fit_transform(total[numerical_features])"
   ]
  },
  {
   "cell_type": "markdown",
   "metadata": {},
   "source": [
    "****would be better to use KNN imputer  ( will try in later vesrion ) ****"
   ]
  },
  {
   "cell_type": "code",
   "execution_count": null,
   "metadata": {
    "execution": {
     "iopub.execute_input": "2023-09-26T06:38:51.700785Z",
     "iopub.status.busy": "2023-09-26T06:38:51.70021Z",
     "iopub.status.idle": "2023-09-26T06:38:51.705513Z",
     "shell.execute_reply": "2023-09-26T06:38:51.704516Z",
     "shell.execute_reply.started": "2023-09-26T06:38:51.700752Z"
    },
    "jupyter": {
     "source_hidden": true
    }
   },
   "outputs": [],
   "source": [
    "# def chi_squared_test(df, input_var, target_var, significance_level=0.05):\n",
    "#     contingency_table = pd.crosstab(df[input_var], df[target_var])\n",
    "    \n",
    "    \n",
    "#     chi2, p, _, _ = stats.chi2_contingency(contingency_table)\n",
    "    \n",
    "#     if p < significance_level:\n",
    "#         print(f'\\033[32m{input_var} has a significant relationship with the target variable.\\033[0m') \n",
    "#     else:\n",
    "#         print(f'\\033[31m{input_var} does not have a significant relationship with the target variable.\\033[0m')  \n",
    "    \n",
    "# for i in categorical_feats:\n",
    "#     chi_squared_test(total, i, target)"
   ]
  },
  {
   "cell_type": "code",
   "execution_count": null,
   "metadata": {
    "execution": {
     "iopub.execute_input": "2023-09-26T06:38:51.707656Z",
     "iopub.status.busy": "2023-09-26T06:38:51.707012Z",
     "iopub.status.idle": "2023-09-26T06:38:51.726498Z",
     "shell.execute_reply": "2023-09-26T06:38:51.725635Z",
     "shell.execute_reply.started": "2023-09-26T06:38:51.707623Z"
    }
   },
   "outputs": [],
   "source": [
    "total['mucous_membrane'].unique()"
   ]
  },
  {
   "cell_type": "code",
   "execution_count": null,
   "metadata": {
    "execution": {
     "iopub.execute_input": "2023-09-26T06:38:51.72861Z",
     "iopub.status.busy": "2023-09-26T06:38:51.728006Z",
     "iopub.status.idle": "2023-09-26T06:38:51.865612Z",
     "shell.execute_reply": "2023-09-26T06:38:51.864649Z",
     "shell.execute_reply.started": "2023-09-26T06:38:51.728567Z"
    }
   },
   "outputs": [],
   "source": [
    "\n",
    "pulse_threshold = 80  \n",
    "mucous_membrane_colors = ['pale_cyanotic', 'dark_cyanotic']\n",
    "capillary_refill_criteria = 'more_3_sec'\n",
    "pain_levels = ['severe_pain']\n",
    "respiratory_rate_threshold = 25  \n",
    "temperature_of_extremities_criteria = ['cold']  \n",
    "perpulse = ['absent']\n",
    "abdominal_distention = ['severe']\n",
    "rectal = 36\n",
    "\n",
    "\n",
    "pulse_weight = 0.3\n",
    "mucous_membrane_weight = 0.25\n",
    "capillary_refill_weight = 0.15\n",
    "pain_weight = 0.2\n",
    "respiratory_rate_weight = 0.15  \n",
    "temperature_of_extremities_weight = 0.15 \n",
    "peripheral_pulse_weight = 0.15\n",
    "abdominal_distention_weight = 0.15\n",
    "rectal_weight = 0.05\n",
    "\n",
    "\n",
    "\n",
    "def calculate_shock_probability(row):\n",
    "    \n",
    "    probability = 0  \n",
    "\n",
    "   \n",
    "    if row['pulse'] > pulse_threshold:\n",
    "        probability += pulse_weight\n",
    "    if row['mucous_membrane'] in mucous_membrane_colors:\n",
    "        probability += mucous_membrane_weight\n",
    "    if row['capillary_refill_time'] == capillary_refill_criteria:\n",
    "        probability += capillary_refill_weight\n",
    "    if row['pain'] in pain_levels:\n",
    "        probability += pain_weight\n",
    "    if row['respiratory_rate'] > respiratory_rate_threshold:\n",
    "        probability += respiratory_rate_weight\n",
    "    if row['temp_of_extremities'] == temperature_of_extremities_criteria:\n",
    "        probability += temperature_of_extremities_weight\n",
    "        \n",
    "    if row['peripheral_pulse'] == perpulse:\n",
    "        probability += peripheral_pulse_weight   \n",
    "    if row['abdominal_distention'] == abdominal_distention:\n",
    "        probability += abdominal_distention_weight      \n",
    "\n",
    "    if row['rectal_temp'] < rectal:\n",
    "        probability += rectal_weight   \n",
    "       \n",
    "  \n",
    "    probability = min(max(probability, 0), 1)\n",
    "\n",
    "    return probability\n",
    "\n",
    "\n",
    "total['shock_probability'] = total.apply(calculate_shock_probability, axis=1)\n",
    "\n",
    "\n",
    "print(total['shock_probability'].describe())"
   ]
  },
  {
   "cell_type": "code",
   "execution_count": null,
   "metadata": {
    "execution": {
     "iopub.execute_input": "2023-09-26T06:38:51.867904Z",
     "iopub.status.busy": "2023-09-26T06:38:51.866892Z",
     "iopub.status.idle": "2023-09-26T06:38:51.873138Z",
     "shell.execute_reply": "2023-09-26T06:38:51.872234Z",
     "shell.execute_reply.started": "2023-09-26T06:38:51.867857Z"
    }
   },
   "outputs": [],
   "source": [
    "total[\"rectal_temp\"] = (total[\"rectal_temp\"] - 37.8).abs()"
   ]
  },
  {
   "cell_type": "markdown",
   "metadata": {},
   "source": [
    "****its better to calculate the deviation rather than the values itselt ****"
   ]
  },
  {
   "cell_type": "code",
   "execution_count": null,
   "metadata": {
    "execution": {
     "iopub.execute_input": "2023-09-26T06:38:51.874739Z",
     "iopub.status.busy": "2023-09-26T06:38:51.87439Z",
     "iopub.status.idle": "2023-09-26T06:38:51.926299Z",
     "shell.execute_reply": "2023-09-26T06:38:51.924654Z",
     "shell.execute_reply.started": "2023-09-26T06:38:51.874707Z"
    }
   },
   "outputs": [],
   "source": [
    "encodings = {\n",
    "    ('none', 'clear'): 11,\n",
    "    ('slight', 'clear'): 10,\n",
    "    ('none', 'cloudy'): 9,\n",
    "    ('slight', 'cloudy'): 8,\n",
    "    ('moderate', 'clear'): 7,\n",
    "    ('moderate', 'cloudy'): 6,\n",
    "    ('severe', 'clear'): 5,\n",
    "    ('severe', 'cloudy'): 4,\n",
    "    ('none', 'serosanguious'): 3,\n",
    "    ('slight', 'serosanguious'): 2,\n",
    "    ('moderate', 'serosanguious'): 1,\n",
    "    ('severe', 'serosanguious'): 0\n",
    "}\n",
    "\n",
    "# Create the new encoded feature using the combinations\n",
    "total['encoded_combination'] = total.apply(lambda row: encodings[(row['abdominal_distention'], row['abdomo_appearance'])], axis=1)\n",
    "\n",
    "# Print the updated DataFrame to see the new feature\n",
    "print(total['encoded_combination'].value_counts())"
   ]
  },
  {
   "cell_type": "markdown",
   "metadata": {},
   "source": [
    "****after trying various plots , these are my findings about possible abdominal_distention and  abdomo_appearance  ( arranged them from worst to best where 0 is the worst ****"
   ]
  },
  {
   "cell_type": "code",
   "execution_count": null,
   "metadata": {
    "execution": {
     "iopub.execute_input": "2023-09-26T06:38:51.928482Z",
     "iopub.status.busy": "2023-09-26T06:38:51.927438Z",
     "iopub.status.idle": "2023-09-26T06:38:51.936226Z",
     "shell.execute_reply": "2023-09-26T06:38:51.935241Z",
     "shell.execute_reply.started": "2023-09-26T06:38:51.92845Z"
    }
   },
   "outputs": [],
   "source": [
    "total.drop(['abdominal_distention', 'abdomo_appearance'], axis=1, inplace=True)"
   ]
  },
  {
   "cell_type": "code",
   "execution_count": null,
   "metadata": {
    "execution": {
     "iopub.execute_input": "2023-09-26T06:38:51.938341Z",
     "iopub.status.busy": "2023-09-26T06:38:51.937806Z",
     "iopub.status.idle": "2023-09-26T06:38:51.96935Z",
     "shell.execute_reply": "2023-09-26T06:38:51.968351Z",
     "shell.execute_reply.started": "2023-09-26T06:38:51.93824Z"
    }
   },
   "outputs": [],
   "source": [
    "total[\"temp_of_extremities\"] = total[\"temp_of_extremities\"].map({'cool':0,'cold':1,'warm':2,'normal':3 })\n",
    "total[\"peripheral_pulse\"] = total[\"peripheral_pulse\"].map({'absent':0,'reduced':1,'increased':2,'normal':3})\n",
    "total[\"capillary_refill_time\"] = total[\"capillary_refill_time\"].map({'more_3_sec':0,'3':1,'less_3_sec':2})\n",
    "total[\"pain\"] = total[\"pain\"].map({'severe_pain':0.0,'extreme_pain':1.0,'depressed':2.0,'moderate':3.0,'mild_pain':4.0,'alert':5.0})\n",
    "total[\"peristalsis\"] = total[\"peristalsis\"].map({'absent':0,'hypermotile':1,'hypomotile':2,'normal':3})\n",
    "\n",
    "total[\"nasogastric_reflux\"] = total[\"nasogastric_reflux\"].map({'more_1_liter':0,'less_1_liter':1,'none':2})\n",
    "total[\"rectal_exam_feces\"] = total[\"rectal_exam_feces\"].map({\"absent\":0,'decreased':1,'increased':2,'normal':3})\n",
    "total[\"nasogastric_tube\"] = total[\"nasogastric_tube\"].map({'significant':0,'slight':1,'none':2})\n",
    "# total[\"abdominal_distention\"] = total[\"abdominal_distention\"].map({'none':0,'slight':1,'moderate':2,'severe':3})\n",
    "# total[\"abdomo_appearance\"] = total[\"abdomo_appearance\"].map({'serosanguious':0,'cloudy':1,'clear':2})\n",
    "total[\"abdomen\"] = total[\"abdomen\"].map({'distend_large':0,'distend_small':1,'firm':2,'other':3,'normal':4})\n",
    "total[\"site\"] = total[\"site\"].map({'gastric':0,'small intestine':1,'large colon':2,'large colon and cecum':4,'cecum':3 , 'transverse colon':5,'rectum/descending colon':6,'uterus':7, 'bladder':8 ,'all intestinal sites':10 ,'none':9 })\n",
    "total[\"type\"] = total[\"type\"].map({'simple':3,'inflammation':2,'strangulation':1,'other':0})\n",
    "# total[\"subtype\"] = total[\"subtype\"].map({'paralytic':0,'mechanical':1,'n/a':2})\n",
    "total[\"specific_code\"] = total[\"specific_code\"].map({'lipoma/splenic incarceration':0,'hernia':1,'adynamic':2,'volvulus/torsion':4,'obturation':3 , 'thromboembolic':5,'intussusception':6,'extrinsic':7, 'intrinsic':8 ,'n/a':9 ,'displacement':10 })\n",
    "# total[\"mucous_membrane\"] = total[\"mucous_membrane\"].map({'dark_cyanotic' : 0 , 'pale_cyanotic' : 1 , 'bright_red':2 , 'pale_pink' : 4 , 'bright_pink': 3 , 'normal_pink' : 5})\n",
    "total[\"surgery\"] = total[\"surgery\"].map({'yes':0,'no':1})\n",
    "total[\"age\"] = total[\"age\"].map({'young':0,'adult':1})\n",
    "total[\"surgical_lesion\"] = total[\"surgical_lesion\"].map({'yes':0,'no':1})\n",
    "total[\"cp_data\"] = total[\"cp_data\"].map({'no':0,'yes':1})"
   ]
  },
  {
   "cell_type": "code",
   "execution_count": null,
   "metadata": {
    "execution": {
     "iopub.execute_input": "2023-09-26T06:38:51.97131Z",
     "iopub.status.busy": "2023-09-26T06:38:51.970638Z",
     "iopub.status.idle": "2023-09-26T06:38:51.981687Z",
     "shell.execute_reply": "2023-09-26T06:38:51.980577Z",
     "shell.execute_reply.started": "2023-09-26T06:38:51.971277Z"
    }
   },
   "outputs": [],
   "source": [
    "categorical_feats = []\n",
    "for column in total.columns:\n",
    "   \n",
    "    if total[column].dtype == 'object':\n",
    "       \n",
    "        categorical_feats.append(column)\n",
    "\n",
    "\n",
    "print(categorical_feats)"
   ]
  },
  {
   "cell_type": "code",
   "execution_count": null,
   "metadata": {
    "execution": {
     "iopub.execute_input": "2023-09-26T06:38:51.983467Z",
     "iopub.status.busy": "2023-09-26T06:38:51.98313Z",
     "iopub.status.idle": "2023-09-26T06:38:51.99554Z",
     "shell.execute_reply": "2023-09-26T06:38:51.994616Z",
     "shell.execute_reply.started": "2023-09-26T06:38:51.983436Z"
    }
   },
   "outputs": [],
   "source": [
    "numerical_features = []\n",
    "\n",
    "\n",
    "for column in total.columns:\n",
    "    \n",
    "    if pd.api.types.is_numeric_dtype(total[column]):\n",
    "     \n",
    "        numerical_features.append(column)\n",
    "\n",
    "\n",
    "print(numerical_features)"
   ]
  },
  {
   "cell_type": "code",
   "execution_count": null,
   "metadata": {
    "execution": {
     "iopub.execute_input": "2023-09-26T06:38:51.997584Z",
     "iopub.status.busy": "2023-09-26T06:38:51.997191Z",
     "iopub.status.idle": "2023-09-26T06:38:52.004807Z",
     "shell.execute_reply": "2023-09-26T06:38:52.00394Z",
     "shell.execute_reply.started": "2023-09-26T06:38:51.997504Z"
    }
   },
   "outputs": [],
   "source": [
    "encfeats=['surgery','age','surgical_lesion','cp_data','mucous_membrane']"
   ]
  },
  {
   "cell_type": "code",
   "execution_count": null,
   "metadata": {
    "execution": {
     "iopub.execute_input": "2023-09-26T06:38:52.006514Z",
     "iopub.status.busy": "2023-09-26T06:38:52.006067Z",
     "iopub.status.idle": "2023-09-26T06:38:52.025795Z",
     "shell.execute_reply": "2023-09-26T06:38:52.024901Z",
     "shell.execute_reply.started": "2023-09-26T06:38:52.006482Z"
    }
   },
   "outputs": [],
   "source": [
    "total_ohe = pd.get_dummies(total, columns=encfeats)\n"
   ]
  },
  {
   "cell_type": "code",
   "execution_count": null,
   "metadata": {
    "execution": {
     "iopub.execute_input": "2023-09-26T06:38:52.028095Z",
     "iopub.status.busy": "2023-09-26T06:38:52.027444Z",
     "iopub.status.idle": "2023-09-26T06:38:52.039279Z",
     "shell.execute_reply": "2023-09-26T06:38:52.038338Z",
     "shell.execute_reply.started": "2023-09-26T06:38:52.028064Z"
    }
   },
   "outputs": [],
   "source": [
    "total_ohe.columns"
   ]
  },
  {
   "cell_type": "code",
   "execution_count": null,
   "metadata": {
    "execution": {
     "iopub.execute_input": "2023-09-26T06:38:52.042713Z",
     "iopub.status.busy": "2023-09-26T06:38:52.04232Z",
     "iopub.status.idle": "2023-09-26T06:38:52.050713Z",
     "shell.execute_reply": "2023-09-26T06:38:52.049838Z",
     "shell.execute_reply.started": "2023-09-26T06:38:52.042689Z"
    }
   },
   "outputs": [],
   "source": [
    "total_ohe.drop(['cp_data_0', 'age_0', 'surgical_lesion_0','surgery_0', 'subtype','mucous_membrane_bright_pink'], axis=1, inplace=True)"
   ]
  },
  {
   "cell_type": "code",
   "execution_count": null,
   "metadata": {
    "execution": {
     "iopub.execute_input": "2023-09-26T06:38:52.052584Z",
     "iopub.status.busy": "2023-09-26T06:38:52.052244Z",
     "iopub.status.idle": "2023-09-26T06:38:52.06441Z",
     "shell.execute_reply": "2023-09-26T06:38:52.063471Z",
     "shell.execute_reply.started": "2023-09-26T06:38:52.052538Z"
    }
   },
   "outputs": [],
   "source": [
    "total_ohe.drop(['respiratory_rate' , 'abdomo_protein'], axis=1, inplace=True)"
   ]
  },
  {
   "cell_type": "code",
   "execution_count": null,
   "metadata": {
    "execution": {
     "iopub.execute_input": "2023-09-26T06:38:52.066417Z",
     "iopub.status.busy": "2023-09-26T06:38:52.066073Z",
     "iopub.status.idle": "2023-09-26T06:38:52.084664Z",
     "shell.execute_reply": "2023-09-26T06:38:52.083619Z",
     "shell.execute_reply.started": "2023-09-26T06:38:52.066385Z"
    }
   },
   "outputs": [],
   "source": [
    "total.isna().sum()"
   ]
  },
  {
   "cell_type": "code",
   "execution_count": null,
   "metadata": {
    "execution": {
     "iopub.execute_input": "2023-09-26T06:38:52.086643Z",
     "iopub.status.busy": "2023-09-26T06:38:52.086245Z",
     "iopub.status.idle": "2023-09-26T06:38:52.097371Z",
     "shell.execute_reply": "2023-09-26T06:38:52.096302Z",
     "shell.execute_reply.started": "2023-09-26T06:38:52.086612Z"
    }
   },
   "outputs": [],
   "source": [
    "train_l = total_ohe[total_ohe[target].notnull()]\n",
    "test_l = total_ohe[total_ohe[target].isnull()].drop(columns=[target])"
   ]
  },
  {
   "cell_type": "code",
   "execution_count": null,
   "metadata": {
    "execution": {
     "iopub.execute_input": "2023-09-26T06:38:52.099334Z",
     "iopub.status.busy": "2023-09-26T06:38:52.09896Z",
     "iopub.status.idle": "2023-09-26T06:38:52.107721Z",
     "shell.execute_reply": "2023-09-26T06:38:52.106847Z",
     "shell.execute_reply.started": "2023-09-26T06:38:52.099301Z"
    }
   },
   "outputs": [],
   "source": [
    "\n",
    "X_train = train_l.drop(columns=['outcome'])\n",
    "y_train = train_l['outcome']  "
   ]
  },
  {
   "cell_type": "code",
   "execution_count": null,
   "metadata": {
    "execution": {
     "iopub.execute_input": "2023-09-26T06:38:52.109506Z",
     "iopub.status.busy": "2023-09-26T06:38:52.109132Z",
     "iopub.status.idle": "2023-09-26T06:38:52.131058Z",
     "shell.execute_reply": "2023-09-26T06:38:52.13016Z",
     "shell.execute_reply.started": "2023-09-26T06:38:52.109476Z"
    }
   },
   "outputs": [],
   "source": [
    "scaler = StandardScaler()\n",
    "X_train_scaled = scaler.fit_transform(X_train)\n",
    "X_test_scaled = scaler.transform(test_l)"
   ]
  },
  {
   "cell_type": "code",
   "execution_count": null,
   "metadata": {
    "execution": {
     "iopub.execute_input": "2023-09-26T06:38:52.132807Z",
     "iopub.status.busy": "2023-09-26T06:38:52.132349Z",
     "iopub.status.idle": "2023-09-26T06:38:52.137828Z",
     "shell.execute_reply": "2023-09-26T06:38:52.136666Z",
     "shell.execute_reply.started": "2023-09-26T06:38:52.132777Z"
    }
   },
   "outputs": [],
   "source": [
    "X_train_scaled = pd.DataFrame(X_train_scaled, columns=X_train.columns)\n",
    "X_test_scaled = pd.DataFrame(X_test_scaled, columns=test_l.columns)"
   ]
  },
  {
   "cell_type": "code",
   "execution_count": null,
   "metadata": {
    "execution": {
     "iopub.execute_input": "2023-09-26T06:38:52.139537Z",
     "iopub.status.busy": "2023-09-26T06:38:52.13909Z",
     "iopub.status.idle": "2023-09-26T06:38:52.149697Z",
     "shell.execute_reply": "2023-09-26T06:38:52.148961Z",
     "shell.execute_reply.started": "2023-09-26T06:38:52.139507Z"
    }
   },
   "outputs": [],
   "source": [
    "# # Fit PCA to your data\n",
    "# pca = PCA()\n",
    "# pca.fit(X_train_scaled)\n",
    "\n",
    "# # Plot explained variance\n",
    "# explained_variance_ratio = pca.explained_variance_ratio_\n",
    "# cumulative_explained_variance = np.cumsum(explained_variance_ratio)\n",
    "# target_variance = 0.99999999999999\n",
    "\n",
    "# # Find the number of components to retain\n",
    "# num_components = np.argmax(cumulative_explained_variance >= target_variance) + 1  # Adding 1 to convert to number of components\n",
    "\n",
    "# print(\"Number of components to retain:\", num_components)\n",
    "# # Get the indices of the components sorted by their explained variance\n",
    "# component_indices = np.argsort(pca.explained_variance_ratio_)[::-1]\n",
    "\n",
    "# # Get the component names for the selected components in the correct order\n",
    "# selected_component_names = [X_train.columns[i] for i in component_indices[:num_components]]\n",
    "\n",
    "\n",
    "# # Print the component names\n",
    "# print(\"Selected Component Names:\")\n",
    "# for component_name in selected_component_names:\n",
    "#     print(component_name)\n",
    "\n",
    "# # Plot explained variance\n",
    "# plt.figure(figsize=(8, 6))\n",
    "# plt.plot(range(1, len(cumulative_explained_variance) + 1), cumulative_explained_variance, marker='o', linestyle='--')\n",
    "# plt.xlabel('Number of Components')\n",
    "# plt.ylabel('Cumulative Explained Variance')\n",
    "# plt.title('Explained Variance vs. Number of Components')\n",
    "# plt.grid(True)\n",
    "# plt.show()"
   ]
  },
  {
   "cell_type": "markdown",
   "metadata": {},
   "source": [
    "****i left the code for PCA and Random Forest Classifier for feature selection ( use it if you see fit it fits your preprocessing needs ) ****"
   ]
  },
  {
   "cell_type": "code",
   "execution_count": null,
   "metadata": {
    "execution": {
     "iopub.execute_input": "2023-09-26T06:38:52.151844Z",
     "iopub.status.busy": "2023-09-26T06:38:52.150826Z",
     "iopub.status.idle": "2023-09-26T06:38:52.162783Z",
     "shell.execute_reply": "2023-09-26T06:38:52.161777Z",
     "shell.execute_reply.started": "2023-09-26T06:38:52.151815Z"
    }
   },
   "outputs": [],
   "source": [
    "# X_train_pca_selected = X_train_scaled[selected_component_names]"
   ]
  },
  {
   "cell_type": "code",
   "execution_count": null,
   "metadata": {
    "execution": {
     "iopub.execute_input": "2023-09-26T06:38:52.164468Z",
     "iopub.status.busy": "2023-09-26T06:38:52.164003Z",
     "iopub.status.idle": "2023-09-26T06:38:52.174531Z",
     "shell.execute_reply": "2023-09-26T06:38:52.173522Z",
     "shell.execute_reply.started": "2023-09-26T06:38:52.164435Z"
    }
   },
   "outputs": [],
   "source": [
    "\n",
    "# X_test_pca_selected = X_test_scaled[selected_component_names]"
   ]
  },
  {
   "cell_type": "code",
   "execution_count": null,
   "metadata": {
    "execution": {
     "iopub.execute_input": "2023-09-26T06:38:52.176853Z",
     "iopub.status.busy": "2023-09-26T06:38:52.176181Z",
     "iopub.status.idle": "2023-09-26T06:38:52.184659Z",
     "shell.execute_reply": "2023-09-26T06:38:52.183787Z",
     "shell.execute_reply.started": "2023-09-26T06:38:52.176822Z"
    }
   },
   "outputs": [],
   "source": [
    "\n",
    "# rf_classifier = RandomForestClassifier(random_state=42)\n",
    "\n",
    "\n",
    "# rf_classifier.fit(X_train_scaled, y_train)"
   ]
  },
  {
   "cell_type": "code",
   "execution_count": null,
   "metadata": {
    "execution": {
     "iopub.execute_input": "2023-09-26T06:38:52.188046Z",
     "iopub.status.busy": "2023-09-26T06:38:52.187765Z",
     "iopub.status.idle": "2023-09-26T06:38:52.197333Z",
     "shell.execute_reply": "2023-09-26T06:38:52.19645Z",
     "shell.execute_reply.started": "2023-09-26T06:38:52.188023Z"
    }
   },
   "outputs": [],
   "source": [
    "\n",
    "# feature_importances = rf_classifier.feature_importances_\n",
    "\n",
    "\n",
    "\n",
    "\n",
    "# sorted_indices = (-feature_importances).argsort()\n",
    "\n",
    "\n",
    "# top_n = 62  # Adjust as needed\n",
    "# top_feature_names = [selected_component_names[i] for i in sorted_indices[:top_n]]\n",
    "# top_feature_importances = feature_importances[sorted_indices[:top_n]]\n",
    "\n",
    "\n",
    "# plt.figure(figsize=(10, 6))\n",
    "# plt.barh(range(top_n), top_feature_importances, align='center')\n",
    "# plt.yticks(range(top_n), top_feature_names)\n",
    "# plt.xlabel('Feature Importance')\n",
    "# plt.title('Top {} Feature Importances'.format(top_n))\n",
    "# plt.gca().invert_yaxis()  # Invert y-axis to display the most important feature at the top\n",
    "# plt.show()"
   ]
  },
  {
   "cell_type": "code",
   "execution_count": null,
   "metadata": {
    "execution": {
     "iopub.execute_input": "2023-09-26T06:38:52.200213Z",
     "iopub.status.busy": "2023-09-26T06:38:52.199553Z",
     "iopub.status.idle": "2023-09-26T06:38:52.214185Z",
     "shell.execute_reply": "2023-09-26T06:38:52.213209Z",
     "shell.execute_reply.started": "2023-09-26T06:38:52.200184Z"
    }
   },
   "outputs": [],
   "source": [
    "# X_train_lst = X_train_pca_selected.iloc[: , sorted_indices[:top_n]]"
   ]
  },
  {
   "cell_type": "code",
   "execution_count": null,
   "metadata": {
    "execution": {
     "iopub.execute_input": "2023-09-26T06:38:52.216365Z",
     "iopub.status.busy": "2023-09-26T06:38:52.215697Z",
     "iopub.status.idle": "2023-09-26T06:38:52.224489Z",
     "shell.execute_reply": "2023-09-26T06:38:52.223646Z",
     "shell.execute_reply.started": "2023-09-26T06:38:52.216335Z"
    }
   },
   "outputs": [],
   "source": [
    "# X_test_lst = X_test_pca_selected.iloc[: , sorted_indices[:top_n]]"
   ]
  },
  {
   "cell_type": "code",
   "execution_count": null,
   "metadata": {
    "execution": {
     "iopub.execute_input": "2023-09-26T06:38:52.227964Z",
     "iopub.status.busy": "2023-09-26T06:38:52.227683Z",
     "iopub.status.idle": "2023-09-26T06:38:52.237119Z",
     "shell.execute_reply": "2023-09-26T06:38:52.236101Z",
     "shell.execute_reply.started": "2023-09-26T06:38:52.227941Z"
    }
   },
   "outputs": [],
   "source": [
    "# X_test_last = X_test_pca_selected.iloc[: , sorted_indices[:top_n]]"
   ]
  },
  {
   "cell_type": "code",
   "execution_count": null,
   "metadata": {
    "execution": {
     "iopub.execute_input": "2023-09-26T06:38:52.240621Z",
     "iopub.status.busy": "2023-09-26T06:38:52.240333Z",
     "iopub.status.idle": "2023-09-26T06:38:52.249113Z",
     "shell.execute_reply": "2023-09-26T06:38:52.248064Z",
     "shell.execute_reply.started": "2023-09-26T06:38:52.240586Z"
    }
   },
   "outputs": [],
   "source": [
    "X = X_train_scaled\n",
    "y = y_train.astype(int)"
   ]
  },
  {
   "cell_type": "code",
   "execution_count": null,
   "metadata": {
    "execution": {
     "iopub.execute_input": "2023-09-26T06:38:52.250662Z",
     "iopub.status.busy": "2023-09-26T06:38:52.250343Z",
     "iopub.status.idle": "2023-09-26T06:38:52.2624Z",
     "shell.execute_reply": "2023-09-26T06:38:52.26122Z",
     "shell.execute_reply.started": "2023-09-26T06:38:52.250633Z"
    }
   },
   "outputs": [],
   "source": [
    "X.shape"
   ]
  },
  {
   "cell_type": "code",
   "execution_count": null,
   "metadata": {
    "execution": {
     "iopub.execute_input": "2023-09-26T06:38:52.264484Z",
     "iopub.status.busy": "2023-09-26T06:38:52.26361Z",
     "iopub.status.idle": "2023-09-26T06:38:52.273386Z",
     "shell.execute_reply": "2023-09-26T06:38:52.272314Z",
     "shell.execute_reply.started": "2023-09-26T06:38:52.264451Z"
    }
   },
   "outputs": [],
   "source": [
    "y.shape"
   ]
  },
  {
   "cell_type": "code",
   "execution_count": null,
   "metadata": {
    "execution": {
     "iopub.execute_input": "2023-09-26T06:38:52.277975Z",
     "iopub.status.busy": "2023-09-26T06:38:52.27624Z",
     "iopub.status.idle": "2023-09-26T06:38:52.289085Z",
     "shell.execute_reply": "2023-09-26T06:38:52.288043Z",
     "shell.execute_reply.started": "2023-09-26T06:38:52.277942Z"
    }
   },
   "outputs": [],
   "source": [
    "y.value_counts()"
   ]
  },
  {
   "cell_type": "markdown",
   "metadata": {},
   "source": [
    "# model creation"
   ]
  },
  {
   "cell_type": "markdown",
   "metadata": {},
   "source": [
    "# decision tree"
   ]
  },
  {
   "cell_type": "code",
   "execution_count": null,
   "metadata": {
    "execution": {
     "iopub.execute_input": "2023-09-26T06:38:52.291123Z",
     "iopub.status.busy": "2023-09-26T06:38:52.290534Z",
     "iopub.status.idle": "2023-09-26T06:38:52.298326Z",
     "shell.execute_reply": "2023-09-26T06:38:52.297003Z",
     "shell.execute_reply.started": "2023-09-26T06:38:52.291088Z"
    }
   },
   "outputs": [],
   "source": [
    "\n",
    "# from sklearn.model_selection import train_test_split\n",
    "# from sklearn.tree import DecisionTreeClassifier\n",
    "# from sklearn.metrics import accuracy_score\n",
    "# from sklearn.model_selection import GridSearchCV\n",
    "\n",
    "\n",
    "\n",
    "# # Split the dataset into training and testing sets\n",
    "# X_train, X_test, y_train, y_test = train_test_split(X, y, test_size=0.3, random_state=42)\n",
    "\n",
    "# # Create a decision tree classifier\n",
    "# clf = DecisionTreeClassifier()\n",
    "\n",
    "# # Define a grid of hyperparameters to search over\n",
    "# param_grid = {\n",
    "#     'criterion': ['gini', 'entropy'],\n",
    "#     'max_depth': [None, 10, 20, 30],  # You can adjust the depth values\n",
    "#     'min_samples_split': [2, 5, 10],\n",
    "#     'min_samples_leaf': [1, 2, 4],\n",
    "#     'max_features': ['sqrt', 'log2', None],  # You can adjust this based on the number of features\n",
    "#     'random_state': [42]\n",
    "# }\n",
    "\n",
    "# # Perform grid search with cross-validation to find the best hyperparameters\n",
    "# grid_search = GridSearchCV(estimator=clf, param_grid=param_grid, cv=5, scoring='accuracy')\n",
    "# grid_search.fit(X_train, y_train)\n",
    "\n",
    "# # Get the best hyperparameters from the grid search\n",
    "# best_params = grid_search.best_params_\n",
    "# print(\"Best Hyperparameters:\", best_params)\n",
    "\n",
    "# # Create a decision tree classifier with the best hyperparameters\n",
    "# best_clf = DecisionTreeClassifier(**best_params)\n",
    "\n",
    "# # Fit the classifier to the training data\n",
    "# best_clf.fit(X_train, y_train)\n",
    "\n",
    "# # Make predictions on the test data\n",
    "# y_pred = best_clf.predict(X_test)\n",
    "\n",
    "# # Calculate the accuracy of the model\n",
    "# accuracy = accuracy_score(y_test, y_pred)\n",
    "# print(f\"Accuracy: {accuracy}\")"
   ]
  },
  {
   "cell_type": "markdown",
   "metadata": {},
   "source": [
    "# light GBM with grid search"
   ]
  },
  {
   "cell_type": "code",
   "execution_count": null,
   "metadata": {
    "_kg_hide-output": true,
    "execution": {
     "iopub.execute_input": "2023-09-26T06:38:52.300943Z",
     "iopub.status.busy": "2023-09-26T06:38:52.300104Z",
     "iopub.status.idle": "2023-09-26T06:38:52.315983Z",
     "shell.execute_reply": "2023-09-26T06:38:52.314831Z",
     "shell.execute_reply.started": "2023-09-26T06:38:52.300911Z"
    }
   },
   "outputs": [],
   "source": [
    "\n",
    "\n",
    "# # Split the dataset into training and testing sets\n",
    "# X_train, X_test, y_train, y_test = train_test_split(X, y, test_size=0.3, random_state=42)\n",
    "\n",
    "# # Create a LightGBM dataset\n",
    "# train_data = lgb.Dataset(X_train, label=y_train)\n",
    "\n",
    "# # Define hyperparameters for tuning\n",
    "# param_grid = {\n",
    "#     'objective': ['multiclass'],\n",
    "#     'num_class': [3],\n",
    "#     'boosting_type': ['gbdt'],\n",
    "#     'metric': ['multi_logloss'],\n",
    "#     'num_leaves': [31, 50, 100],   \n",
    "#     'max_depth': [-1],             \n",
    "#     'learning_rate': [0.05, 0.1],  \n",
    "#     'feature_fraction': [1.0],     \n",
    "#     'bagging_fraction': [0.8],    \n",
    "#     'bagging_freq': [5],\n",
    "#     'verbose': [-1],\n",
    "#     'seed': [42],\n",
    "# }\n",
    "\n",
    "\n",
    "# clf = lgb.LGBMClassifier()\n",
    "\n",
    "# # Perform grid search with cross-validation to find the best hyperparameters\n",
    "# grid_search = GridSearchCV(estimator=clf, param_grid=param_grid, cv=5, scoring='accuracy')\n",
    "# grid_search.fit(X_train, y_train)\n",
    "\n",
    "# # Get the best hyperparameters from the grid search\n",
    "# best_params = grid_search.best_params_\n",
    "# print(\"Best Hyperparameters:\", best_params)\n",
    "\n",
    "# # Create a LightGBM classifier with the best hyperparameters\n",
    "# best_clf = lgb.LGBMClassifier(**best_params)\n",
    "\n",
    "# # Train the classifier on the training data\n",
    "# best_clf.fit(X_train, y_train)\n",
    "\n",
    "# # Make predictions on the test data\n",
    "# y_pred = best_clf.predict(X_test)\n",
    "\n",
    "# # Calculate accuracy and ROC AUC\n",
    "# accuracy = accuracy_score(y_test, y_pred)\n",
    "# y_prob = best_clf.predict_proba(X_test)\n",
    "# roc_auc = roc_auc_score(y_test, y_prob, multi_class='ovr')\n",
    "\n",
    "# print(f\"Accuracy: {accuracy}\")\n",
    "# print(f\"ROC AUC: {roc_auc}\")\n",
    "\n",
    "# # Plot the learning curve\n",
    "# def plot_learning_curve(estimator, X, y):\n",
    "#     train_sizes, train_scores, valid_scores = learning_curve(\n",
    "#         estimator, X, y, train_sizes=np.linspace(0.1, 1.0, 10), cv=5, scoring='accuracy'\n",
    "#     )\n",
    "\n",
    "#     train_mean = np.mean(train_scores, axis=1)\n",
    "#     train_std = np.std(train_scores, axis=1)\n",
    "#     valid_mean = np.mean(valid_scores, axis=1)\n",
    "#     valid_std = np.std(valid_scores, axis=1)\n",
    "\n",
    "#     plt.figure(figsize=(10, 6))\n",
    "#     plt.plot(train_sizes, train_mean, marker='o', label='Training Accuracy', color='b')\n",
    "#     plt.fill_between(train_sizes, train_mean - train_std, train_mean + train_std, alpha=0.15, color='b')\n",
    "#     plt.plot(train_sizes, valid_mean, marker='o', label='Validation Accuracy', color='g')\n",
    "#     plt.fill_between(train_sizes, valid_mean - valid_std, valid_mean + valid_std, alpha=0.15, color='g')\n",
    "\n",
    "#     plt.title('Learning Curve')\n",
    "#     plt.xlabel('Training Examples')\n",
    "#     plt.ylabel('Accuracy')\n",
    "#     plt.legend(loc='best')\n",
    "#     plt.grid()\n",
    "#     plt.show()\n",
    "\n",
    "# # Plot the learning curve for the best LightGBM classifier\n",
    "# plot_learning_curve(best_clf, X_train, y_train)"
   ]
  },
  {
   "cell_type": "markdown",
   "metadata": {},
   "source": [
    "# light GBM with optuna"
   ]
  },
  {
   "cell_type": "code",
   "execution_count": null,
   "metadata": {
    "execution": {
     "iopub.execute_input": "2023-09-26T06:38:52.318232Z",
     "iopub.status.busy": "2023-09-26T06:38:52.317803Z",
     "iopub.status.idle": "2023-09-26T06:38:52.331263Z",
     "shell.execute_reply": "2023-09-26T06:38:52.3305Z",
     "shell.execute_reply.started": "2023-09-26T06:38:52.318195Z"
    }
   },
   "outputs": [],
   "source": [
    "from sklearn.model_selection import cross_val_score, StratifiedKFold\n",
    "\n",
    "def plot_learning_curve(estimator, X, y):\n",
    "    train_sizes, train_scores, valid_scores = learning_curve(\n",
    "        estimator, X, y, train_sizes=np.linspace(0.1, 1.0, 10), cv=5, scoring='accuracy'\n",
    "    )\n",
    "\n",
    "    train_mean = np.mean(train_scores, axis=1)\n",
    "    train_std = np.std(train_scores, axis=1)\n",
    "    valid_mean = np.mean(valid_scores, axis=1)\n",
    "    valid_std = np.std(valid_scores, axis=1)\n",
    "\n",
    "    plt.figure(figsize=(10, 6))\n",
    "    plt.plot(train_sizes, train_mean, marker='o', label='Training Accuracy', color='b')\n",
    "    plt.fill_between(train_sizes, train_mean - train_std, train_mean + train_std, alpha=0.15, color='b')\n",
    "    plt.plot(train_sizes, valid_mean, marker='o', label='Validation Accuracy', color='g')\n",
    "    plt.fill_between(train_sizes, valid_mean - valid_std, valid_mean + valid_std, alpha=0.15, color='g')\n",
    "\n",
    "    plt.title('Learning Curve')\n",
    "    plt.xlabel('Training Examples')\n",
    "    plt.ylabel('Accuracy')\n",
    "    plt.legend(loc='best')\n",
    "    plt.grid()\n",
    "    plt.show()"
   ]
  },
  {
   "cell_type": "code",
   "execution_count": null,
   "metadata": {
    "execution": {
     "iopub.execute_input": "2023-09-26T06:38:52.344187Z",
     "iopub.status.busy": "2023-09-26T06:38:52.343685Z",
     "iopub.status.idle": "2023-09-26T06:38:52.360123Z",
     "shell.execute_reply": "2023-09-26T06:38:52.359189Z",
     "shell.execute_reply.started": "2023-09-26T06:38:52.344156Z"
    }
   },
   "outputs": [],
   "source": [
    "\n",
    "\n",
    "    # Split the data into training and testing sets\n",
    "    X_train, X_test, y_train, y_test = train_test_split(X, y, test_size=0.3, random_state=42)\n",
    "    k_best = SelectKBest(score_func=f_classif, k='all')\n",
    "    X_train_best = k_best.fit_transform(X_train, y_train)\n",
    "    X_test_best = k_best.transform(X_test)\n",
    "    tt = k_best.transform(X_test_scaled)\n",
    "    "
   ]
  },
  {
   "cell_type": "code",
   "execution_count": null,
   "metadata": {
    "execution": {
     "iopub.execute_input": "2023-09-26T06:38:52.363243Z",
     "iopub.status.busy": "2023-09-26T06:38:52.362643Z",
     "iopub.status.idle": "2023-09-26T06:38:52.370512Z",
     "shell.execute_reply": "2023-09-26T06:38:52.369927Z",
     "shell.execute_reply.started": "2023-09-26T06:38:52.363209Z"
    }
   },
   "outputs": [],
   "source": [
    "def objective(trial):\n",
    "    params = {\n",
    "        'objective': 'multiclass',\n",
    "        'num_class': 3,\n",
    "        'boosting_type': 'gbdt',\n",
    "        'metric': 'multi_logloss',\n",
    "        'num_leaves': trial.suggest_int('num_leaves', 31, 100),\n",
    "        'max_depth': -1,\n",
    "        'learning_rate': trial.suggest_float('learning_rate', 0.05, 0.1),\n",
    "        'feature_fraction': 1.0,\n",
    "        'bagging_fraction': trial.suggest_float('bagging_fraction', 0.5, 1.0),\n",
    "        'bagging_freq': 5,\n",
    "        'verbose': -1,\n",
    "        'seed': 42,\n",
    "    }\n",
    "\n",
    "    # Create a LightGBM classifier with the trial parameters\n",
    "    clf = lgb.LGBMClassifier(**params)\n",
    "\n",
    "    # Use 5-fold cross-validation to evaluate the model\n",
    "    cv = StratifiedKFold(n_splits=5, shuffle=True, random_state=42)\n",
    "    scores = cross_val_score(clf, X, y, cv=cv, scoring='accuracy')\n",
    "\n",
    "    # Calculate the mean accuracy from cross-validation\n",
    "    accuracy = np.mean(scores)\n",
    "\n",
    "    return accuracy\n"
   ]
  },
  {
   "cell_type": "code",
   "execution_count": null,
   "metadata": {
    "_kg_hide-output": true,
    "execution": {
     "iopub.execute_input": "2023-09-26T06:38:52.372581Z",
     "iopub.status.busy": "2023-09-26T06:38:52.371902Z",
     "iopub.status.idle": "2023-09-26T06:41:40.866804Z",
     "shell.execute_reply": "2023-09-26T06:41:40.866007Z",
     "shell.execute_reply.started": "2023-09-26T06:38:52.37255Z"
    }
   },
   "outputs": [],
   "source": [
    "# Optuna study and optimize the objective function\n",
    "study = optuna.create_study(direction='maximize')\n",
    "study.optimize(objective, n_trials=100)  # You can adjust the number of trials\n",
    "\n",
    "#the best hyperparameters\n",
    "best_params = study.best_params\n",
    "best_accuracy = study.best_value\n",
    "print(\"Best Hyperparameters:\", best_params)\n",
    "print(\"Best Accuracy:\", best_accuracy)"
   ]
  },
  {
   "cell_type": "code",
   "execution_count": null,
   "metadata": {
    "_kg_hide-output": true,
    "execution": {
     "iopub.execute_input": "2023-09-26T06:41:40.873016Z",
     "iopub.status.busy": "2023-09-26T06:41:40.87051Z",
     "iopub.status.idle": "2023-09-26T06:41:51.079402Z",
     "shell.execute_reply": "2023-09-26T06:41:51.07854Z",
     "shell.execute_reply.started": "2023-09-26T06:41:40.872971Z"
    }
   },
   "outputs": [],
   "source": [
    "#  LightGBM classifier with the best hyperparameters\n",
    "best_clf = lgb.LGBMClassifier(**best_params)\n",
    "\n",
    "\n",
    "\n",
    "\n",
    "# Train classifier on the training data\n",
    "best_clf.fit(X_train_best, y_train)\n",
    "\n",
    "# Make predictions on the test data\n",
    "y_pred = best_clf.predict(X_test_best)\n",
    "\n",
    "# Calculate accuracy \n",
    "accuracy = accuracy_score(y_test, y_pred)\n",
    "print(f\"Accuracy: {accuracy}\")\n",
    "\n",
    "# Plot the learning curve\n",
    "plot_learning_curve(best_clf, X_train_best, y_train)"
   ]
  },
  {
   "cell_type": "code",
   "execution_count": null,
   "metadata": {
    "execution": {
     "iopub.execute_input": "2023-09-26T06:41:51.08141Z",
     "iopub.status.busy": "2023-09-26T06:41:51.080853Z",
     "iopub.status.idle": "2023-09-26T06:41:51.086496Z",
     "shell.execute_reply": "2023-09-26T06:41:51.085072Z",
     "shell.execute_reply.started": "2023-09-26T06:41:51.081374Z"
    }
   },
   "outputs": [],
   "source": [
    "# feature_importances = best_clf.feature_importances_\n",
    "\n",
    "# #  store and display feature importances\n",
    "# importance_df = pd.DataFrame({'Feature': X_train.columns, 'Importance': feature_importances})\n",
    "\n",
    "# # Sort by importance in descending order\n",
    "# importance_df = importance_df.sort_values(by='Importance', ascending=False)"
   ]
  },
  {
   "cell_type": "code",
   "execution_count": null,
   "metadata": {
    "execution": {
     "iopub.execute_input": "2023-09-26T06:41:51.088439Z",
     "iopub.status.busy": "2023-09-26T06:41:51.087957Z",
     "iopub.status.idle": "2023-09-26T06:41:51.098904Z",
     "shell.execute_reply": "2023-09-26T06:41:51.09791Z",
     "shell.execute_reply.started": "2023-09-26T06:41:51.088407Z"
    }
   },
   "outputs": [],
   "source": [
    "# importance_df"
   ]
  },
  {
   "cell_type": "code",
   "execution_count": null,
   "metadata": {
    "execution": {
     "iopub.execute_input": "2023-09-26T06:41:51.100631Z",
     "iopub.status.busy": "2023-09-26T06:41:51.100129Z",
     "iopub.status.idle": "2023-09-26T06:41:51.114746Z",
     "shell.execute_reply": "2023-09-26T06:41:51.113659Z",
     "shell.execute_reply.started": "2023-09-26T06:41:51.100585Z"
    }
   },
   "outputs": [],
   "source": [
    "# perm_importance = permutation_importance(best_clf, X_test, y_test, n_repeats=30, random_state=42)\n",
    "\n",
    "# # Visualize the feature importances\n",
    "# sorted_idx = perm_importance.importances_mean.argsort()[::-1]\n",
    "# plt.figure(figsize=(10, 6))\n",
    "# plt.bar(range(X_test.shape[1]), perm_importance.importances_mean[sorted_idx])\n",
    "# plt.xticks(range(X_test.shape[1]), sorted_idx)\n",
    "# plt.xlabel(\"Feature Index\")\n",
    "# plt.ylabel(\"Permutation Importance\")\n",
    "# plt.title(\"Permutation Feature Importance\")\n",
    "# plt.show()"
   ]
  },
  {
   "cell_type": "code",
   "execution_count": null,
   "metadata": {
    "execution": {
     "iopub.execute_input": "2023-09-26T06:41:51.118068Z",
     "iopub.status.busy": "2023-09-26T06:41:51.117813Z",
     "iopub.status.idle": "2023-09-26T06:41:51.762619Z",
     "shell.execute_reply": "2023-09-26T06:41:51.7618Z",
     "shell.execute_reply.started": "2023-09-26T06:41:51.118045Z"
    }
   },
   "outputs": [],
   "source": [
    "best_clf.fit(X ,y)\n",
    "trialll = best_clf.predict(tt)"
   ]
  },
  {
   "cell_type": "code",
   "execution_count": null,
   "metadata": {
    "execution": {
     "iopub.execute_input": "2023-09-26T06:41:51.768319Z",
     "iopub.status.busy": "2023-09-26T06:41:51.766493Z",
     "iopub.status.idle": "2023-09-26T06:41:51.773386Z",
     "shell.execute_reply": "2023-09-26T06:41:51.772495Z",
     "shell.execute_reply.started": "2023-09-26T06:41:51.768289Z"
    }
   },
   "outputs": [],
   "source": [
    "# final = best_clf.predict(X_test_scaled)"
   ]
  },
  {
   "cell_type": "code",
   "execution_count": null,
   "metadata": {
    "execution": {
     "iopub.execute_input": "2023-09-26T06:41:51.776487Z",
     "iopub.status.busy": "2023-09-26T06:41:51.775913Z",
     "iopub.status.idle": "2023-09-26T06:41:51.790548Z",
     "shell.execute_reply": "2023-09-26T06:41:51.789674Z",
     "shell.execute_reply.started": "2023-09-26T06:41:51.776463Z"
    }
   },
   "outputs": [],
   "source": [
    "submission = pd.DataFrame({'id': test['id'], 'outcome': trialll})\n",
    "submission['outcome'] = submission['outcome'].map({1:'died',0:'euthanized',2:'lived'})\n",
    "submission.to_csv('submission.csv',index=False)"
   ]
  },
  {
   "cell_type": "code",
   "execution_count": null,
   "metadata": {},
   "outputs": [],
   "source": []
  },
  {
   "cell_type": "markdown",
   "metadata": {},
   "source": [
    "# XGB"
   ]
  },
  {
   "cell_type": "code",
   "execution_count": null,
   "metadata": {
    "execution": {
     "iopub.execute_input": "2023-09-26T06:41:51.79203Z",
     "iopub.status.busy": "2023-09-26T06:41:51.791717Z",
     "iopub.status.idle": "2023-09-26T06:41:51.800907Z",
     "shell.execute_reply": "2023-09-26T06:41:51.799903Z",
     "shell.execute_reply.started": "2023-09-26T06:41:51.791998Z"
    }
   },
   "outputs": [],
   "source": [
    "# from hyperopt import fmin, tpe, hp\n",
    "# from sklearn.model_selection import train_test_split, cross_val_score\n",
    "# from mlxtend.feature_selection import PermutationImportance"
   ]
  },
  {
   "cell_type": "code",
   "execution_count": null,
   "metadata": {
    "execution": {
     "iopub.execute_input": "2023-09-26T06:41:51.80303Z",
     "iopub.status.busy": "2023-09-26T06:41:51.802553Z",
     "iopub.status.idle": "2023-09-26T06:41:51.81258Z",
     "shell.execute_reply": "2023-09-26T06:41:51.811997Z",
     "shell.execute_reply.started": "2023-09-26T06:41:51.802998Z"
    }
   },
   "outputs": [],
   "source": [
    "\n",
    "# X_train, X_test, y_train, y_test = train_test_split(X, y, test_size=0.2, random_state=42)\n",
    "\n",
    "\n",
    "# space = {\n",
    "#     'n_estimators': hp.choice('n_estimators', range(100, 1000)),\n",
    "#     'max_depth': hp.choice('max_depth', range(1, 20)),\n",
    "#     'learning_rate': hp.loguniform('learning_rate', np.log(0.01), np.log(0.3)),\n",
    "#     'subsample': hp.uniform('subsample', 0.5, 1),\n",
    "#     'min_child_weight': hp.choice('min_child_weight', range(1, 10)),\n",
    "# }\n",
    "\n",
    "\n",
    "# def objective(params):\n",
    "#     model = xgb.XGBClassifier(\n",
    "#         n_estimators=params['n_estimators'],\n",
    "#         max_depth=params['max_depth'],\n",
    "#         learning_rate=params['learning_rate'],\n",
    "#         subsample=params['subsample'],\n",
    "#         min_child_weight=params['min_child_weight'],\n",
    "#         random_state=42,\n",
    "#         tree_method='gpu_hist',  # Use GPU acceleration\n",
    "#         gpu_id=0,  # Specify GPU device ID\n",
    "#     )\n",
    "#     score = cross_val_score(model, X_train, y_train, cv=5, scoring='accuracy').mean()\n",
    "#     return -score  \n",
    "\n",
    "# # Hyperparameter tuning with hyperopt\n",
    "# best = fmin(fn=objective, space=space, algo=tpe.suggest, max_evals=50, rstate=np.random.seed(42))\n",
    "\n",
    "\n",
    "# model = xgb.XGBClassifier(\n",
    "#     n_estimators=best['n_estimators'],\n",
    "#     max_depth=best['max_depth'],\n",
    "#     learning_rate=best['learning_rate'],\n",
    "#     subsample=best['subsample'],\n",
    "#     min_child_weight=best['min_child_weight'],\n",
    "#     random_state=42,\n",
    "#     tree_method='gpu_hist', \n",
    "#     gpu_id=0,  \n",
    "# )\n",
    "\n",
    "\n",
    "# model.fit(X_train, y_train)\n",
    "\n",
    "\n",
    "# y_pred = model.predict(X_test)\n",
    "\n",
    "\n",
    "# accuracy = accuracy_score(y_test, y_pred)\n",
    "# print(\"Accuracy:\", accuracy)\n",
    "\n",
    "\n",
    "# train_sizes, train_scores, test_scores = learning_curve(\n",
    "#     model, X_train, y_train, cv=5, scoring='accuracy', n_jobs=-1)\n",
    "# train_mean = np.mean(train_scores, axis=1)\n",
    "# train_std = np.std(train_scores, axis=1)\n",
    "# test_mean = np.mean(test_scores, axis=1)\n",
    "# test_std = np.std(test_scores, axis=1)\n",
    "\n",
    "# plt.figure(figsize=(10, 6))\n",
    "# plt.plot(train_sizes, train_mean, label='Training Accuracy', marker='o', linestyle='-')\n",
    "# plt.fill_between(train_sizes, train_mean + train_std, train_mean - train_std, alpha=0.15)\n",
    "# plt.plot(train_sizes, test_mean, label='Validation Accuracy', marker='o', linestyle='-')\n",
    "# plt.fill_between(train_sizes, test_mean + test_std, test_mean - test_std, alpha=0.15)\n",
    "# plt.xlabel('Number of Training Samples')\n",
    "# plt.ylabel('Accuracy')\n",
    "# plt.legend()\n",
    "# plt.grid()\n",
    "# plt.title('Learning Curve')\n",
    "# plt.show()\n",
    "\n",
    "\n",
    "# plt.figure(figsize=(10, 6))\n",
    "# xgb.plot_importance(model, importance_type='weight', xlabel='Weight')\n",
    "# plt.title('Feature Importance (Weight)')\n",
    "# plt.show()\n",
    "\n",
    "\n",
    "# permuter = PermutationImportance(model, scoring='accuracy', n_iter=10, random_state=42)\n",
    "# permuter.fit(X_test, y_test)\n",
    "# feature_names = X_test.columns.tolist()\n",
    "# perm_importance = permutation_importance(model, X_test, y_test, n_repeats=10, random_state=42)\n",
    "# # Get feature importances\n",
    "# perm_importance_scores = perm_importance.importances_mean\n",
    "\n",
    "# # Plot permutation feature importance\n",
    "# plt.figure(figsize=(10, 6))\n",
    "# plt.barh(feature_names, perm_importance_scores)\n",
    "# plt.xlabel('Permutation Importance (Accuracy)')\n",
    "# plt.title('Permutation Feature Importance')\n",
    "# plt.show()"
   ]
  },
  {
   "cell_type": "code",
   "execution_count": null,
   "metadata": {
    "execution": {
     "iopub.execute_input": "2023-09-26T06:41:51.814832Z",
     "iopub.status.busy": "2023-09-26T06:41:51.81378Z",
     "iopub.status.idle": "2023-09-26T06:41:51.828179Z",
     "shell.execute_reply": "2023-09-26T06:41:51.82743Z",
     "shell.execute_reply.started": "2023-09-26T06:41:51.814802Z"
    }
   },
   "outputs": [],
   "source": [
    "# resultss=model.predict(X_test_scaled)"
   ]
  },
  {
   "cell_type": "code",
   "execution_count": null,
   "metadata": {
    "execution": {
     "iopub.execute_input": "2023-09-26T06:41:51.831811Z",
     "iopub.status.busy": "2023-09-26T06:41:51.829213Z",
     "iopub.status.idle": "2023-09-26T06:41:51.839431Z",
     "shell.execute_reply": "2023-09-26T06:41:51.838855Z",
     "shell.execute_reply.started": "2023-09-26T06:41:51.83178Z"
    }
   },
   "outputs": [],
   "source": [
    "# submission = pd.DataFrame({'id': test['id'], 'outcome': resultss})\n",
    "# submission['outcome'] = submission['outcome'].map({1:'died',0:'euthanized',2:'lived'})\n",
    "# submission.to_csv('xgbb.csv',index=False)"
   ]
  },
  {
   "cell_type": "markdown",
   "metadata": {},
   "source": [
    "#  scikit learn HistGradientBoostingClassifier "
   ]
  },
  {
   "cell_type": "code",
   "execution_count": null,
   "metadata": {
    "_kg_hide-output": true,
    "execution": {
     "iopub.execute_input": "2023-09-26T06:41:51.841678Z",
     "iopub.status.busy": "2023-09-26T06:41:51.840962Z",
     "iopub.status.idle": "2023-09-26T06:41:51.853021Z",
     "shell.execute_reply": "2023-09-26T06:41:51.852031Z",
     "shell.execute_reply.started": "2023-09-26T06:41:51.841647Z"
    }
   },
   "outputs": [],
   "source": [
    "# from sklearn.experimental import enable_hist_gradient_boosting\n",
    "# from sklearn.ensemble import HistGradientBoostingClassifier\n",
    "# # Step 1: Import the necessary libraries\n",
    "\n",
    "# # Step 2: Split your data into training and testing sets\n",
    "# X_train, X_test, y_train, y_test = train_test_split(X, y, test_size=0.2, random_state=42)\n",
    "\n",
    "# # Step 3: Define the objective function for Optuna\n",
    "# def objective(trial):\n",
    "#     params = {\n",
    "#         'max_iter': trial.suggest_categorical('max_iter', [100, 200, 300]),\n",
    "#         'learning_rate': trial.suggest_float('learning_rate', 0.01, 0.2),\n",
    "#         'max_depth': trial.suggest_categorical('max_depth', [3, 4, 5]),\n",
    "#         'min_samples_leaf': trial.suggest_categorical('min_samples_leaf', [1, 2, 4]),\n",
    "#     }\n",
    "    \n",
    "#     clf = HistGradientBoostingClassifier(random_state=42, **params)\n",
    "#     clf.fit(X_train, y_train)\n",
    "    \n",
    "#     y_pred = clf.predict(X_test)\n",
    "#     accuracy = accuracy_score(y_test, y_pred)\n",
    "    \n",
    "#     return accuracy\n",
    "\n",
    "# # Step 4: Create and run the Optuna study\n",
    "# study = optuna.create_study(direction='maximize')\n",
    "# study.optimize(objective, n_trials=100)  # You can adjust the number of trials\n",
    "\n",
    "# # Step 5: Get the best hyperparameters and create the best model\n",
    "# best_params = study.best_params\n",
    "# best_model = HistGradientBoostingClassifier(random_state=42, **best_params)\n",
    "\n",
    "# # Step 6: Fit the best model on the full training data\n",
    "# best_model.fit(X_train, y_train)\n",
    "\n",
    "# # Step 7: Calculate and print the accuracy on the test set\n",
    "# y_pred = best_model.predict(X_test)\n",
    "# accuracy = accuracy_score(y_test, y_pred)\n",
    "# print(\"Best Hyperparameters:\", best_params)\n",
    "# print(\"Accuracy on Test Set:\", accuracy)\n",
    "\n",
    "# # Step 8: Plot the learning curve\n",
    "# def plot_learning_curve(estimator, X, y, title=None, ylim=None, cv=None,\n",
    "#                         n_jobs=None, train_sizes=np.linspace(.1, 1.0, 5)):\n",
    "#     plt.figure()\n",
    "#     if title is not None:\n",
    "#         plt.title(title)\n",
    "#     if ylim is not None:\n",
    "#         plt.ylim(*ylim)\n",
    "#     plt.xlabel(\"Training examples\")\n",
    "#     plt.ylabel(\"Score\")\n",
    "\n",
    "#     train_sizes, train_scores, test_scores = learning_curve(\n",
    "#         estimator, X, y, cv=cv, n_jobs=n_jobs, train_sizes=train_sizes, scoring='accuracy')\n",
    "    \n",
    "#     train_scores_mean = np.mean(train_scores, axis=1)\n",
    "#     train_scores_std = np.std(train_scores, axis=1)\n",
    "#     test_scores_mean = np.mean(test_scores, axis=1)\n",
    "#     test_scores_std = np.std(test_scores, axis=1)\n",
    "\n",
    "#     plt.grid()\n",
    "\n",
    "#     plt.fill_between(train_sizes, train_scores_mean - train_scores_std,\n",
    "#                      train_scores_mean + train_scores_std, alpha=0.1,\n",
    "#                      color=\"r\")\n",
    "#     plt.fill_between(train_sizes, test_scores_mean - test_scores_std,\n",
    "#                      test_scores_mean + test_scores_std, alpha=0.1, color=\"g\")\n",
    "#     plt.plot(train_sizes, train_scores_mean, 'o-', color=\"r\",\n",
    "#              label=\"Training score\")\n",
    "#     plt.plot(train_sizes, test_scores_mean, 'o-', color=\"g\",\n",
    "#              label=\"Cross-validation score\")\n",
    "\n",
    "#     plt.legend(loc=\"best\")\n",
    "#     return plt\n",
    "\n",
    "# plot_learning_curve(best_model, X_train, y_train, cv=3)\n",
    "# plt.show()"
   ]
  },
  {
   "cell_type": "code",
   "execution_count": null,
   "metadata": {
    "execution": {
     "iopub.execute_input": "2023-09-26T06:41:51.854765Z",
     "iopub.status.busy": "2023-09-26T06:41:51.85437Z",
     "iopub.status.idle": "2023-09-26T06:41:51.868164Z",
     "shell.execute_reply": "2023-09-26T06:41:51.86726Z",
     "shell.execute_reply.started": "2023-09-26T06:41:51.854735Z"
    }
   },
   "outputs": [],
   "source": [
    "# resultssss = best_model.predict(X_test_scaled)"
   ]
  },
  {
   "cell_type": "code",
   "execution_count": null,
   "metadata": {
    "execution": {
     "iopub.execute_input": "2023-09-26T06:41:51.871947Z",
     "iopub.status.busy": "2023-09-26T06:41:51.871005Z",
     "iopub.status.idle": "2023-09-26T06:41:51.880536Z",
     "shell.execute_reply": "2023-09-26T06:41:51.879525Z",
     "shell.execute_reply.started": "2023-09-26T06:41:51.871917Z"
    }
   },
   "outputs": [],
   "source": [
    "# submission = pd.DataFrame({'id': test['id'], 'outcome': resultssss})\n",
    "# submission['outcome'] = submission['outcome'].map({1:'died',0:'euthanized',2:'lived'})\n",
    "# submission.to_csv('asd.csv',index=False)"
   ]
  },
  {
   "cell_type": "markdown",
   "metadata": {},
   "source": [
    "# simple model  ensemble"
   ]
  },
  {
   "cell_type": "code",
   "execution_count": null,
   "metadata": {
    "_kg_hide-output": true,
    "execution": {
     "iopub.execute_input": "2023-09-26T06:41:51.884231Z",
     "iopub.status.busy": "2023-09-26T06:41:51.883972Z",
     "iopub.status.idle": "2023-09-26T06:41:51.891825Z",
     "shell.execute_reply": "2023-09-26T06:41:51.890786Z",
     "shell.execute_reply.started": "2023-09-26T06:41:51.884209Z"
    }
   },
   "outputs": [],
   "source": [
    "\n",
    "\n",
    "# from sklearn.ensemble import (\n",
    "#     RandomForestClassifier,\n",
    "#     GradientBoostingClassifier,\n",
    "#     AdaBoostClassifier,\n",
    "#     VotingClassifier,\n",
    "# )\n",
    "\n",
    "\n",
    "# from sklearn.svm import SVC\n",
    "# from sklearn.linear_model import LogisticRegression\n",
    "# from sklearn.tree import DecisionTreeClassifier\n",
    "# import lightgbm as lgb\n",
    "\n",
    "\n",
    "\n",
    "\n",
    "# X_train, X_test, y_train, y_test = train_test_split(X, y, test_size=0.2, random_state=42)\n",
    "\n",
    "# def objective(trial):\n",
    " \n",
    "#     n_estimators = trial.suggest_int(\"n_estimators\", 50, 300)\n",
    "#     max_depth = trial.suggest_int(\"max_depth\", 2, 32, log=True)\n",
    "#     learning_rate = trial.suggest_float(\"learning_rate\", 0.01, 1.0, log=True)\n",
    "\n",
    "\n",
    "#     model = GradientBoostingClassifier(\n",
    "#         n_estimators=n_estimators,\n",
    "#         max_depth=max_depth,\n",
    "#         learning_rate=learning_rate,\n",
    "#         random_state=42,\n",
    "#     )\n",
    "\n",
    " \n",
    "#     model.fit(X_train, y_train)\n",
    "\n",
    " \n",
    "#     y_pred = model.predict(X_test)\n",
    "#     accuracy = accuracy_score(y_test, y_pred)\n",
    "\n",
    "#     return accuracy\n",
    "\n",
    "# study = optuna.create_study(direction=\"maximize\")\n",
    "# study.optimize(objective, n_trials=100) \n",
    "\n",
    "\n",
    "# best_params = study.best_params\n",
    "# print(\"Best Hyperparameters:\", best_params)\n",
    "\n",
    "# rf = RandomForestClassifier(n_estimators=best_params[\"n_estimators\"], random_state=42)\n",
    "# svc = SVC(probability=True)\n",
    "# lr = LogisticRegression(max_iter=1000)\n",
    "# dt = DecisionTreeClassifier(max_depth=best_params[\"max_depth\"], random_state=42)\n",
    "# lgbm = lgb.LGBMClassifier(\n",
    "#     n_estimators=best_params[\"n_estimators\"],\n",
    "#     max_depth=best_params[\"max_depth\"],\n",
    "#     learning_rate=best_params[\"learning_rate\"],\n",
    "#     random_state=41,\n",
    "# )\n",
    "\n",
    "\n",
    "# ensemble = VotingClassifier(\n",
    "#     estimators=[\n",
    "#         (\"rf\", rf),\n",
    "#         (\"svc\", svc),\n",
    "#         (\"lr\", lr),\n",
    "#         (\"dt\", dt),\n",
    "#         (\"lgbm\", lgbm),\n",
    "#     ],\n",
    "#     voting=\"soft\",  \n",
    "# )\n",
    "\n",
    "# ensemble.fit(X_train, y_train)\n",
    "# ensemble_preds = ensemble.predict(X_test)\n",
    "# ensemble_accuracy = accuracy_score(y_test, ensemble_preds)\n",
    "# print(\"Ensemble Accuracy:\", ensemble_accuracy)"
   ]
  },
  {
   "cell_type": "code",
   "execution_count": null,
   "metadata": {
    "execution": {
     "iopub.execute_input": "2023-09-26T06:41:51.895397Z",
     "iopub.status.busy": "2023-09-26T06:41:51.895062Z",
     "iopub.status.idle": "2023-09-26T06:41:51.907818Z",
     "shell.execute_reply": "2023-09-26T06:41:51.906927Z",
     "shell.execute_reply.started": "2023-09-26T06:41:51.895361Z"
    }
   },
   "outputs": [],
   "source": [
    "# yz = ensemble.predict(X_test_scaled)"
   ]
  },
  {
   "cell_type": "code",
   "execution_count": null,
   "metadata": {
    "execution": {
     "iopub.execute_input": "2023-09-26T06:41:51.909532Z",
     "iopub.status.busy": "2023-09-26T06:41:51.909069Z",
     "iopub.status.idle": "2023-09-26T06:41:51.92048Z",
     "shell.execute_reply": "2023-09-26T06:41:51.919574Z",
     "shell.execute_reply.started": "2023-09-26T06:41:51.909493Z"
    }
   },
   "outputs": [],
   "source": [
    "# submission = pd.DataFrame({'id': test['id'], 'outcome': yz})\n",
    "# submission['outcome'] = submission['outcome'].map({1:'died',0:'euthanized',2:'lived'})\n",
    "# submission.to_csv('asd3.csv',index=False)"
   ]
  },
  {
   "cell_type": "markdown",
   "metadata": {},
   "source": [
    "# meta ensmeble"
   ]
  },
  {
   "cell_type": "markdown",
   "metadata": {},
   "source": [
    "****this meta ensemble is working \"just fine\" but i will keep working on trying different models with different optimizations****"
   ]
  },
  {
   "cell_type": "code",
   "execution_count": null,
   "metadata": {
    "_kg_hide-output": true,
    "execution": {
     "iopub.execute_input": "2023-09-26T06:41:51.923313Z",
     "iopub.status.busy": "2023-09-26T06:41:51.922666Z",
     "iopub.status.idle": "2023-09-26T06:41:51.938635Z",
     "shell.execute_reply": "2023-09-26T06:41:51.937592Z",
     "shell.execute_reply.started": "2023-09-26T06:41:51.923282Z"
    }
   },
   "outputs": [],
   "source": [
    "# from sklearn.ensemble import VotingClassifier, StackingClassifier\n",
    "# from sklearn.neighbors import KNeighborsClassifier\n",
    "# from sklearn.naive_bayes import GaussianNB\n",
    "# from sklearn.neural_network import MLPClassifier\n",
    "# from xgboost import XGBClassifier\n",
    "# from sklearn.linear_model import LogisticRegression\n",
    "# from sklearn.svm import SVC\n",
    "\n",
    "\n",
    "# def objective(trial):\n",
    "  \n",
    "#     svc_c = trial.suggest_loguniform('svc_c', 1e-3, 1e3)\n",
    "#     lr_C = trial.suggest_loguniform('lr_C', 1e-3, 1e3)\n",
    "#     xgb_n_estimators = trial.suggest_int('xgb_n_estimators', 10, 500)\n",
    "#     lgbm_num_leaves = trial.suggest_int('lgbm_num_leaves', 2, 50)\n",
    "\n",
    "   \n",
    "#     svc = SVC(C=svc_c, probability=True)\n",
    "#     lr = LogisticRegression(C=lr_C)\n",
    "#     xgb = XGBClassifier(n_estimators=xgb_n_estimators)\n",
    "#     lgbm = LGBMClassifier(num_leaves=lgbm_num_leaves)\n",
    "\n",
    "   \n",
    "#     base_ensemble_1 = VotingClassifier(\n",
    "#         estimators=[\n",
    "#             (\"svc\", svc),\n",
    "#             (\"lr\", lr),\n",
    "#             (\"xgb\", xgb)\n",
    "#         ],\n",
    "#         voting=\"soft\"\n",
    "#     )\n",
    "\n",
    "#     base_ensemble_2 = VotingClassifier(\n",
    "#         estimators=[\n",
    "#             (\"lgbm\", lgbm)\n",
    "#         ],\n",
    "#         voting=\"soft\"\n",
    "#     )\n",
    "\n",
    "\n",
    "#     meta_ensemble = StackingClassifier(\n",
    "#         estimators=[\n",
    "#             (\"base_ensemble_1\", base_ensemble_1),\n",
    "#             (\"base_ensemble_2\", base_ensemble_2),\n",
    "          \n",
    "#         ],\n",
    "#         final_estimator=LogisticRegression()\n",
    "#     )\n",
    "\n",
    "\n",
    "#     meta_ensemble.fit(X_train, y_train)\n",
    "\n",
    "  \n",
    "#     meta_ensemble_preds = meta_ensemble.predict(X_val)\n",
    "\n",
    "   \n",
    "#     meta_ensemble_accuracy = accuracy_score(y_val, meta_ensemble_preds)\n",
    "\n",
    "#     return meta_ensemble_accuracy\n",
    "\n",
    "\n",
    "# study = optuna.create_study(direction='maximize')\n",
    "# study.optimize(objective, n_trials=100)  \n",
    "\n",
    "# best_params = study.best_params\n",
    "# print(\"Best Hyperparameters:\", best_params)\n",
    "\n",
    "\n",
    "# svc = SVC(C=best_params['svc_c'], probability=True)\n",
    "# lr = LogisticRegression(C=best_params['lr_C'])\n",
    "# xgb = XGBClassifier(n_estimators=best_params['xgb_n_estimators'])\n",
    "# lgbm = LGBMClassifier(num_leaves=best_params['lgbm_num_leaves'])\n",
    "\n",
    "\n",
    "# meta_ensemble.fit(X_train, y_train)\n",
    "\n",
    "\n",
    "# meta_ensemble_preds = meta_ensemble.predict(X_test)\n",
    "\n",
    "\n",
    "# meta_ensemble_accuracy = accuracy_score(y_test, meta_ensemble_preds)\n",
    "# print(\"Meta-Ensemble Accuracy:\", meta_ensemble_accuracy)"
   ]
  },
  {
   "cell_type": "code",
   "execution_count": null,
   "metadata": {
    "execution": {
     "iopub.execute_input": "2023-09-26T06:41:51.940509Z",
     "iopub.status.busy": "2023-09-26T06:41:51.940112Z",
     "iopub.status.idle": "2023-09-26T06:41:51.954489Z",
     "shell.execute_reply": "2023-09-26T06:41:51.953653Z",
     "shell.execute_reply.started": "2023-09-26T06:41:51.940473Z"
    }
   },
   "outputs": [],
   "source": [
    "# me=meta_ensemble.predict(X_test_scaled)"
   ]
  },
  {
   "cell_type": "code",
   "execution_count": null,
   "metadata": {
    "execution": {
     "iopub.execute_input": "2023-09-26T06:41:51.957711Z",
     "iopub.status.busy": "2023-09-26T06:41:51.957449Z",
     "iopub.status.idle": "2023-09-26T06:41:51.968252Z",
     "shell.execute_reply": "2023-09-26T06:41:51.967074Z",
     "shell.execute_reply.started": "2023-09-26T06:41:51.957688Z"
    }
   },
   "outputs": [],
   "source": [
    "# submission = pd.DataFrame({'id': test['id'], 'outcome': me})\n",
    "# submission['outcome'] = submission['outcome'].map({1:'died',0:'euthanized',2:'lived'})\n",
    "# submission.to_csv('meta6.csv',index=False)"
   ]
  },
  {
   "cell_type": "code",
   "execution_count": null,
   "metadata": {},
   "outputs": [],
   "source": []
  }
 ],
 "metadata": {
  "kernelspec": {
   "display_name": "Python 3 (ipykernel)",
   "language": "python",
   "name": "python3"
  },
  "language_info": {
   "codemirror_mode": {
    "name": "ipython",
    "version": 3
   },
   "file_extension": ".py",
   "mimetype": "text/x-python",
   "name": "python",
   "nbconvert_exporter": "python",
   "pygments_lexer": "ipython3",
   "version": "3.10.12"
  }
 },
 "nbformat": 4,
 "nbformat_minor": 4
}
