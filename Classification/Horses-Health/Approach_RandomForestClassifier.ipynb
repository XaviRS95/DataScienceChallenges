{
 "cells": [
  {
   "cell_type": "code",
   "execution_count": 35,
   "id": "aee6b3e1-e711-4a15-9b77-7b8a78bbff52",
   "metadata": {},
   "outputs": [],
   "source": [
    "import numpy as np\n",
    "import pandas as pd\n",
    "pd.set_option('display.max_rows', None)\n",
    "pd.set_option('display.max_columns', None)\n",
    "from sklearn.model_selection import GridSearchCV\n",
    "from sklearn.metrics import f1_score, make_scorer\n",
    "from imblearn.over_sampling import RandomOverSampler\n",
    "from sklearn.preprocessing import MinMaxScaler, LabelEncoder\n",
    "\n",
    "from sklearn.svm import SVC\n",
    "from sklearn.model_selection import train_test_split\n",
    "from sklearn.ensemble import RandomForestClassifier, GradientBoostingClassifier\n",
    "from sklearn.metrics import precision_score, accuracy_score, f1_score, classification_report\n",
    "from sklearn.metrics import f1_score"
   ]
  },
  {
   "cell_type": "markdown",
   "id": "7b3be5a2-14d4-4e44-82ce-c9886ab31cb9",
   "metadata": {},
   "source": [
    "### Obtaining and understanding data:"
   ]
  },
  {
   "cell_type": "code",
   "execution_count": 36,
   "id": "7e4ecf79-b4f8-4405-8672-d7ebcdbef86c",
   "metadata": {},
   "outputs": [],
   "source": [
    "data = pd.read_csv('data/train.csv')\n",
    "add_data = pd.read_csv('data/horse.csv')"
   ]
  },
  {
   "cell_type": "code",
   "execution_count": 37,
   "id": "ca817407-1514-4d88-b7f5-06bacf075ef5",
   "metadata": {},
   "outputs": [],
   "source": [
    "data.drop(['id', 'hospital_number', 'abdomen'], axis = 1, inplace = True)\n",
    "add_data.drop(['hospital_number', 'abdomen'], axis = 1, inplace = True)\n",
    "data = pd.concat([data, add_data])"
   ]
  },
  {
   "cell_type": "code",
   "execution_count": 38,
   "id": "d8c96878-177d-47b8-a407-9fad705f1cbb",
   "metadata": {},
   "outputs": [],
   "source": [
    "float_columns = data.select_dtypes(include=['float64']).columns\n",
    "object_columns = data.select_dtypes(include=['object']).columns"
   ]
  },
  {
   "cell_type": "code",
   "execution_count": 39,
   "id": "e468f284-222b-43c1-a3c9-95d857fe0cb8",
   "metadata": {},
   "outputs": [
    {
     "data": {
      "text/plain": [
       "rectal_temp               60\n",
       "pulse                     24\n",
       "respiratory_rate          58\n",
       "nasogastric_reflux_ph    246\n",
       "packed_cell_volume        29\n",
       "total_protein             33\n",
       "abdomo_protein           198\n",
       "dtype: int64"
      ]
     },
     "execution_count": 39,
     "metadata": {},
     "output_type": "execute_result"
    }
   ],
   "source": [
    "data[float_columns].isnull().sum()"
   ]
  },
  {
   "cell_type": "code",
   "execution_count": 40,
   "id": "e0a6c158-56d9-4ece-b6c4-b30d2a87e8e8",
   "metadata": {},
   "outputs": [
    {
     "data": {
      "text/plain": [
       "surgery                    0\n",
       "age                        0\n",
       "temp_of_extremities       95\n",
       "peripheral_pulse         129\n",
       "mucous_membrane           68\n",
       "capillary_refill_time     38\n",
       "pain                      99\n",
       "peristalsis               64\n",
       "abdominal_distention      79\n",
       "nasogastric_tube         184\n",
       "nasogastric_reflux       127\n",
       "rectal_exam_feces        292\n",
       "abdomo_appearance        213\n",
       "surgical_lesion            0\n",
       "cp_data                    0\n",
       "outcome                    0\n",
       "dtype: int64"
      ]
     },
     "execution_count": 40,
     "metadata": {},
     "output_type": "execute_result"
    }
   ],
   "source": [
    "data[object_columns].isnull().sum()"
   ]
  },
  {
   "cell_type": "markdown",
   "id": "c44821ef-d412-4496-8cc7-d28dcd166812",
   "metadata": {},
   "source": [
    "### Preprocessing the data"
   ]
  },
  {
   "cell_type": "code",
   "execution_count": 41,
   "id": "55033c96-bd80-41ff-9bf7-fffc074f2a5b",
   "metadata": {},
   "outputs": [],
   "source": [
    "def clean_data(clean_data):\n",
    "\n",
    "    #clean_data.drop(columns = ['pain', 'age' , 'nasogastric_reflux', 'lesion_1', 'lesion_2', 'lesion_3', 'rectal_temp', 'mucous_membrane', 'cp_data', 'nasogastric_tube'], inplace = True)\n",
    "    \n",
    "    clean_data['temp_of_extremities'].fillna('cool', inplace = True)\n",
    "    clean_data['mucous_membrane'].fillna('other', inplace = True)\n",
    "    clean_data['mucous_membrane'] = clean_data['mucous_membrane'].apply(lambda x: 'other' if x in ['absent', 'increased'] else x)\n",
    "    clean_data['capillary_refill_time'].fillna('less_3_sec', inplace = True)\n",
    "    clean_data['capillary_refill_time'] = clean_data['capillary_refill_time'].str.replace(pat = '3', repl = 'less_3_sec')\n",
    "    clean_data['pain'].fillna('pain', inplace = True)\n",
    "    clean_data['pain'] = clean_data['pain'].str.replace(pat = 'slight', repl = 'severe_pain')\n",
    "    clean_data['peristalsis'].fillna('absent', inplace = True)\n",
    "    clean_data['abdominal_distention'].fillna('severe', inplace = True)\n",
    "    clean_data['nasogastric_tube'].fillna('missing', inplace = True)\n",
    "    clean_data['nasogastric_reflux'] = clean_data['nasogastric_reflux'].str.replace(pat = 'slight', repl = 'missing')\n",
    "    clean_data['nasogastric_reflux'].fillna('missing', inplace = True)\n",
    "    clean_data['rectal_exam_feces'].fillna('missing', inplace = True)\n",
    "    clean_data['rectal_exam_feces'] = clean_data['rectal_exam_feces'].str.replace(pat = 'serosanguious', repl = 'missing')\n",
    "    clean_data['abdomo_appearance'].fillna('missing', inplace = True)\n",
    "\n",
    "    for column in float_columns:\n",
    "        data[column].fillna(data[column].median(skipna = True), inplace = True)\n",
    "    \n",
    "    data.outcome = data.outcome.map({'died': 0, 'euthanized': 1, 'lived': 2})\n",
    "\n",
    "    return clean_data"
   ]
  },
  {
   "cell_type": "code",
   "execution_count": 42,
   "id": "83372e9d-474e-4016-87ed-822a169a1060",
   "metadata": {},
   "outputs": [],
   "source": [
    "data = clean_data(data)\n",
    "\n",
    "minmax_scaler = MinMaxScaler()\n",
    "minmax_scaler.fit(data[float_columns])\n",
    "data[float_columns] = minmax_scaler.transform(data[float_columns])\n",
    "label_encoders = {x: LabelEncoder() for x in object_columns}\n",
    "\n",
    "for column in object_columns:\n",
    "    label_encoders[column].fit(data[column])\n",
    "    data[column] = label_encoders[column].transform(data[column])\n",
    "\n",
    "y_train = data['outcome']\n",
    "x_train = data.drop(columns = ['outcome'])\n",
    "x_train = pd.get_dummies(x_train, columns = object_columns.drop('outcome'), dtype=np.int8)"
   ]
  },
  {
   "cell_type": "code",
   "execution_count": 43,
   "id": "83594e4b-f30a-4b47-8356-c224bb57ec6c",
   "metadata": {},
   "outputs": [],
   "source": [
    "ros = RandomOverSampler(random_state=42)\n",
    "X_res, y_res = ros.fit_resample(x_train, y_train)"
   ]
  },
  {
   "cell_type": "code",
   "execution_count": 44,
   "id": "f46570ae-43fe-443b-9235-eb3edaf426ec",
   "metadata": {},
   "outputs": [
    {
     "name": "stdout",
     "output_type": "stream",
     "text": [
      "RandomForest:\n",
      "              precision    recall  f1-score   support\n",
      "\n",
      "           0       0.89      0.78      0.83       165\n",
      "           1       0.94      0.88      0.91       160\n",
      "           2       0.70      0.87      0.77       127\n",
      "\n",
      "    accuracy                           0.84       452\n",
      "   macro avg       0.84      0.84      0.84       452\n",
      "weighted avg       0.85      0.84      0.84       452\n",
      "\n",
      "0.838495575221239\n"
     ]
    }
   ],
   "source": [
    "y = data['outcome']\n",
    "data.drop(columns = ['outcome'], inplace = True)\n",
    "\n",
    "X_train, X_test, y_train, y_test = train_test_split(X_res, y_res, test_size=0.2)\n",
    "#Because of the low number of rows, bootstrap will be set to False.\n",
    "\n",
    "custom_scorer = make_scorer(f1_score, greater_is_better=True)\n",
    "param_grid = {'n_estimators': [50, 100, 150, 200, 250, 300],  # being the number of trees in the forest.\n",
    "                  'min_samples_leaf': [3, 5, 10, 20],  # number of minimum samples required at a leaf node.\n",
    "                  'min_samples_split': [3, 6, 9],  # number of minimum samples required to split an internal node.\n",
    "                  'criterion': ['entropy'],  # measures the quality of a split. Can use gini's impurity or entropy.\n",
    "                  # 'subsample':[0.5,0.8,1]#buscar con mas detalle\n",
    "                  # 'reg_lambda':[1,10,100]#buscar con mas detalle\n",
    "                  }\n",
    "\n",
    "clf = GridSearchCV(\n",
    "# Evaluates the performance of different groups of parameters for a model based on cross-validation.\n",
    "    RandomForestClassifier(class_weight='balanced', bootstrap=False, random_state=1234),\n",
    "    param_grid,  # dict of parameters.\n",
    "    cv=10,  # Specified number of folds in the Cross-Validation(K-Fold).\n",
    "    scoring='f1_micro')\n",
    "        # clf = GridSearchCV(DecisionTreeClassifier(max_leaf_nodes=3, random_state=0), param_grid2)\n",
    "clf.fit(X_train, y_train)\n",
    "        # print(\"Best estimator found by grid search:\")\n",
    "        # print(clf.best_estimator_)\n",
    "model = clf.best_estimator_  # Estimator that was chosen by the search, i.e. estimator which gave highest score (or smallest loss if specified) on the left out data        model.fit(X_train, y_train)\n",
    "\n",
    "\n",
    "print('RandomForest:')\n",
    "y_pred_rf = model.predict(X_test)\n",
    "print(classification_report(y_pred_rf, y_test))\n",
    "print(f1_score(y_test, y_pred_rf, average='micro'))"
   ]
  },
  {
   "cell_type": "code",
   "execution_count": null,
   "id": "89bc68af-12b7-4017-821e-6824931261f7",
   "metadata": {},
   "outputs": [],
   "source": []
  }
 ],
 "metadata": {
  "kernelspec": {
   "display_name": "Python 3 (ipykernel)",
   "language": "python",
   "name": "python3"
  },
  "language_info": {
   "codemirror_mode": {
    "name": "ipython",
    "version": 3
   },
   "file_extension": ".py",
   "mimetype": "text/x-python",
   "name": "python",
   "nbconvert_exporter": "python",
   "pygments_lexer": "ipython3",
   "version": "3.10.12"
  }
 },
 "nbformat": 4,
 "nbformat_minor": 5
}
