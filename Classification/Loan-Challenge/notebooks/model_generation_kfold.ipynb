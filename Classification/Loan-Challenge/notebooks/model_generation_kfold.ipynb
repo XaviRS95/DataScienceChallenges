{
 "cells": [
  {
   "cell_type": "code",
   "id": "initial_id",
   "metadata": {
    "collapsed": true,
    "ExecuteTime": {
     "end_time": "2025-06-08T11:12:24.192152Z",
     "start_time": "2025-06-08T11:12:24.189699Z"
    }
   },
   "source": [
    "import pandas as pd\n",
    "import mlflow\n",
    "import mlflow.sklearn\n",
    "from sklearn.model_selection import train_test_split\n",
    "from sklearn.metrics import classification_report\n",
    "from sklearn.model_selection import StratifiedKFold\n",
    "from sklearn.ensemble import RandomForestClassifier, GradientBoostingClassifier\n",
    "from sklearn.linear_model import LogisticRegression\n",
    "from xgboost import XGBClassifier\n",
    "from sklearn.svm import SVC"
   ],
   "outputs": [],
   "execution_count": 19
  },
  {
   "metadata": {
    "ExecuteTime": {
     "end_time": "2025-06-08T11:12:24.379101Z",
     "start_time": "2025-06-08T11:12:24.375229Z"
    }
   },
   "cell_type": "code",
   "source": [
    "TEST_SIZE = 0.2\n",
    "RANDOM_STATE = 42\n",
    "MLFLOW_TRACKING_URI = 'http://127.0.0.1:5000'\n",
    "EXPERIMENT_NAME = 'Loan-Defaulters-Models-Kfold'\n",
    "KFOLD_SPLITS = 10\n",
    "\n",
    "MODELS = {\n",
    "    'RandomForest': {\n",
    "        'model': RandomForestClassifier,\n",
    "        'params': {\n",
    "            'n_estimators': 150,\n",
    "            'class_weight': 'balanced',\n",
    "            'random_state': RANDOM_STATE,\n",
    "            'bootstrap': False\n",
    "        }\n",
    "    },\n",
    "    'LogisticRegression': {\n",
    "        'model': LogisticRegression,\n",
    "        'params': {\n",
    "            'solver': 'liblinear',\n",
    "            'class_weight': 'balanced',\n",
    "            'random_state': RANDOM_STATE\n",
    "        }\n",
    "    },\n",
    "    'GradientBoosting': {\n",
    "        'model': GradientBoostingClassifier,\n",
    "        'params': {\n",
    "            'n_estimators': 100,\n",
    "            'learning_rate': 0.1,\n",
    "            'max_depth': 3,\n",
    "            'random_state': RANDOM_STATE\n",
    "        }\n",
    "    },\n",
    "    'XGBoost': {\n",
    "        'model': XGBClassifier,\n",
    "        'params': {\n",
    "            'n_estimators': 100,\n",
    "            'learning_rate': 0.1,\n",
    "            'use_label_encoder': False,\n",
    "            'eval_metric': 'logloss',\n",
    "            'random_state': RANDOM_STATE\n",
    "        }\n",
    "    },\n",
    "    'SVC': {\n",
    "        'model': SVC,\n",
    "        'params': {\n",
    "            'probability': True,\n",
    "            'kernel': 'rbf',\n",
    "            'C': 1.0,\n",
    "            'class_weight': 'balanced',\n",
    "            'random_state': RANDOM_STATE\n",
    "        }\n",
    "    }\n",
    "}"
   ],
   "id": "ad475cd5d5ade8ea",
   "outputs": [],
   "execution_count": 20
  },
  {
   "metadata": {
    "ExecuteTime": {
     "end_time": "2025-06-08T11:12:24.524492Z",
     "start_time": "2025-06-08T11:12:24.517498Z"
    }
   },
   "cell_type": "code",
   "source": [
    "mlflow.set_tracking_uri(MLFLOW_TRACKING_URI)\n",
    "mlflow.set_experiment(EXPERIMENT_NAME)"
   ],
   "id": "9ac864497b9bdd84",
   "outputs": [
    {
     "data": {
      "text/plain": [
       "<Experiment: artifact_location='mlflow-artifacts:/608014518094895647', creation_time=1749380274966, experiment_id='608014518094895647', last_update_time=1749380274966, lifecycle_stage='active', name='Loan-Defaulters-Models-Kfold', tags={}>"
      ]
     },
     "execution_count": 21,
     "metadata": {},
     "output_type": "execute_result"
    }
   ],
   "execution_count": 21
  },
  {
   "metadata": {
    "ExecuteTime": {
     "end_time": "2025-06-08T11:12:24.970239Z",
     "start_time": "2025-06-08T11:12:24.661545Z"
    }
   },
   "cell_type": "code",
   "source": [
    "data = pd.read_csv('../training_data/balanced_training_data.csv')\n",
    "y = data['loan_status']\n",
    "X = data.drop('loan_status', axis=1)"
   ],
   "id": "305992415702b6ab",
   "outputs": [],
   "execution_count": 22
  },
  {
   "metadata": {
    "ExecuteTime": {
     "end_time": "2025-06-08T11:12:24.996262Z",
     "start_time": "2025-06-08T11:12:24.994555Z"
    }
   },
   "cell_type": "code",
   "source": "skf = StratifiedKFold(n_splits=KFOLD_SPLITS, shuffle=True, random_state=RANDOM_STATE)",
   "id": "b64f73eeb442cb11",
   "outputs": [],
   "execution_count": 23
  },
  {
   "metadata": {
    "jupyter": {
     "is_executing": true
    },
    "ExecuteTime": {
     "start_time": "2025-06-08T11:12:25.062040Z"
    }
   },
   "cell_type": "code",
   "source": [
    "for model_name, config in MODELS.items():\n",
    "    print(model_name)\n",
    "    with mlflow.start_run(run_name=model_name):\n",
    "        ModelClass = config['model']\n",
    "        params = config['params']\n",
    "\n",
    "        y_true_all = []\n",
    "        y_pred_all = []\n",
    "        y_proba_all = []\n",
    "\n",
    "        for fold, (train_idx, val_idx) in enumerate(skf.split(X, y)):\n",
    "            print(f'\\tFold: {fold}')\n",
    "            X_train_fold, X_val_fold = X.iloc[train_idx], X.iloc[val_idx]\n",
    "            y_train_fold, y_val_fold = y.iloc[train_idx], y.iloc[val_idx]\n",
    "\n",
    "            model = ModelClass(**params)\n",
    "            model.fit(X_train_fold, y_train_fold)\n",
    "\n",
    "            y_pred = model.predict(X_val_fold)\n",
    "            y_true_all.extend(y_val_fold)\n",
    "            y_pred_all.extend(y_pred)\n",
    "\n",
    "            if hasattr(model, \"predict_proba\"):\n",
    "                y_proba = model.predict_proba(X_val_fold)[:, 1]\n",
    "                y_proba_all.extend(y_proba)\n",
    "            else:\n",
    "                y_proba_all = None\n",
    "\n",
    "        report_dict = classification_report(y_true_all, y_pred_all, output_dict=True, zero_division=0)\n",
    "\n",
    "        mlflow.log_params(params)\n",
    "        metrics = {\n",
    "            'accuracy': report_dict['accuracy'],\n",
    "            'recall_class_0': report_dict['0']['recall'],\n",
    "            'recall_class_1': report_dict['1']['recall'],\n",
    "            'precision_class_0': report_dict['0']['precision'],\n",
    "            'precision_class_1': report_dict['1']['precision'],\n",
    "            'f1_score_macro': report_dict['macro avg']['f1-score']\n",
    "        }\n",
    "\n",
    "        # F2 Score (approx, using macro avg)\n",
    "        p = report_dict['macro avg']['precision']\n",
    "        r = report_dict['macro avg']['recall']\n",
    "        f2_score = (5 * p * r) / (4 * p + r) if (4 * p + r) > 0 else 0\n",
    "        metrics['f2_score_macro'] = f2_score\n",
    "\n",
    "        mlflow.log_metrics(metrics)\n",
    "\n",
    "        # Fit final model on full data to log\n",
    "        final_model = ModelClass(**params)\n",
    "        final_model.fit(X, y)\n",
    "        mlflow.sklearn.log_model(final_model, artifact_path=f\"{model_name}_model\")"
   ],
   "id": "b5f48f6727b98c8b",
   "outputs": [
    {
     "name": "stdout",
     "output_type": "stream",
     "text": [
      "RandomForest\n",
      "\tFold: 0\n"
     ]
    }
   ],
   "execution_count": null
  },
  {
   "metadata": {},
   "cell_type": "code",
   "outputs": [],
   "execution_count": null,
   "source": "",
   "id": "a3ff88803eb4e5dc"
  }
 ],
 "metadata": {
  "kernelspec": {
   "display_name": "Python 3",
   "language": "python",
   "name": "python3"
  },
  "language_info": {
   "codemirror_mode": {
    "name": "ipython",
    "version": 2
   },
   "file_extension": ".py",
   "mimetype": "text/x-python",
   "name": "python",
   "nbconvert_exporter": "python",
   "pygments_lexer": "ipython2",
   "version": "2.7.6"
  }
 },
 "nbformat": 4,
 "nbformat_minor": 5
}
