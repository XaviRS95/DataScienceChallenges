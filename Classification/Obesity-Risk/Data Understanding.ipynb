{
 "cells": [
  {
   "cell_type": "code",
   "execution_count": 2,
   "id": "e32a8a42-9e2c-47b2-8e12-083e0eda46b3",
   "metadata": {},
   "outputs": [],
   "source": [
    "import pandas as pd"
   ]
  },
  {
   "cell_type": "code",
   "execution_count": 3,
   "id": "c565faae-9c81-4be8-b8d5-3c81c98aa178",
   "metadata": {},
   "outputs": [],
   "source": [
    "train_data = pd.read_csv('data/train.csv')\n",
    "pd.options.display.max_columns = train_data.shape[1]"
   ]
  },
  {
   "cell_type": "markdown",
   "id": "ac298bf4-3028-4c40-a231-a81d6ed1991b",
   "metadata": {},
   "source": [
    "## Understanding the data"
   ]
  },
  {
   "cell_type": "raw",
   "id": "4a8f33d2-cf56-437a-8c15-3c9278a26acb",
   "metadata": {},
   "source": [
    "Dataset with 20758 rows, with data from people between 14 - 60 years from Mexico, Peru and Colombia.\n",
    "Challenge Dataset: https://www.kaggle.com/competitions/playground-series-s4e2/overview\n",
    "Original Dataset: https://www.kaggle.com/datasets/aravindpcoder/obesity-or-cvd-risk-classifyregressorcluster\n",
    "\n",
    "17 features and 1 multicategorical target.\n",
    "No null/nan values found"
   ]
  },
  {
   "cell_type": "raw",
   "id": "9cc89f69-1dac-4634-8777-809d4f226ea1",
   "metadata": {},
   "source": [
    "FEATURES:\n",
    "\n",
    "id : (int64)\n",
    "Gender : (object)\n",
    "Age : (int64)\n",
    "Height: (float64)\n",
    "Weight (float64)\n",
    "family_history_with_overweight : (object) \n",
    "FAVC : (object) Frequent consumption of high caloric food \n",
    "FCVC : (float64) Frequency of consumption of vegetables\n",
    "NCP : (float64) Number of main meals\n",
    "CAEC : (object) Consumption of food between meals \n",
    "SMOKE  : (object) \n",
    "CH2O : (float64) Consumption of water daily\n",
    "SCC : (object) Calories consumption monitoring\n",
    "FAF : (float64) Physical activity frequency\n",
    "TUE : (float64) Time using technology devices\n",
    "CALC : (object) Consumption of alcohol \n",
    "MTRANS : (object) Transportation used\n"
   ]
  },
  {
   "cell_type": "raw",
   "id": "af19865b-9de8-4742-9946-57936db351c8",
   "metadata": {},
   "source": [
    "TARGET:\n",
    "\n",
    "NObeyesdad: (object) : Might represent the body fat percentage by category, it's not stated in the dataset.\n",
    "Possible values and the total cases:\n",
    "Obesity_Type_III       4046\n",
    "Obesity_Type_II        3248\n",
    "Normal_Weight          3082\n",
    "Obesity_Type_I         2910\n",
    "Insufficient_Weight    2523\n",
    "Overweight_Level_II    2522\n",
    "Overweight_Level_I     2427"
   ]
  },
  {
   "cell_type": "code",
   "execution_count": 27,
   "id": "642ab956-fa90-47da-8d7c-7c48720c651c",
   "metadata": {},
   "outputs": [
    {
     "data": {
      "text/plain": [
       "NObeyesdad\n",
       "Obesity_Type_III       4046\n",
       "Obesity_Type_II        3248\n",
       "Normal_Weight          3082\n",
       "Obesity_Type_I         2910\n",
       "Insufficient_Weight    2523\n",
       "Overweight_Level_II    2522\n",
       "Overweight_Level_I     2427\n",
       "Name: count, dtype: int64"
      ]
     },
     "execution_count": 27,
     "metadata": {},
     "output_type": "execute_result"
    }
   ],
   "source": [
    "train_data['NObeyesdad'].value_counts()"
   ]
  },
  {
   "cell_type": "markdown",
   "id": "93ef0183-a845-4ad4-b412-984abebda696",
   "metadata": {
    "jp-MarkdownHeadingCollapsed": true
   },
   "source": [
    "### Understating Gender variable"
   ]
  },
  {
   "cell_type": "code",
   "execution_count": 36,
   "id": "6075cc3b-33cd-4b13-83fd-ce60b05e11a4",
   "metadata": {},
   "outputs": [
    {
     "data": {
      "text/plain": [
       "Gender\n",
       "Female    10422\n",
       "Male      10336\n",
       "Name: count, dtype: int64"
      ]
     },
     "execution_count": 36,
     "metadata": {},
     "output_type": "execute_result"
    }
   ],
   "source": [
    "train_data['Gender'].value_counts()"
   ]
  },
  {
   "cell_type": "markdown",
   "id": "e57a9d26-ce05-47b3-8e87-afd2e965114b",
   "metadata": {},
   "source": [
    "It is very homogenous, will only be necessary to translate female => 0 and male => 1 for the final model"
   ]
  },
  {
   "cell_type": "code",
   "execution_count": 34,
   "id": "89e42821-031d-4120-9499-4d0ce3905755",
   "metadata": {},
   "outputs": [
    {
     "data": {
      "text/plain": [
       "NObeyesdad\n",
       "Insufficient_Weight    1621\n",
       "Normal_Weight          1660\n",
       "Obesity_Type_I         1267\n",
       "Obesity_Type_II           8\n",
       "Obesity_Type_III       4041\n",
       "Overweight_Level_I     1070\n",
       "Overweight_Level_II     755\n",
       "Name: count, dtype: int64"
      ]
     },
     "execution_count": 34,
     "metadata": {},
     "output_type": "execute_result"
    }
   ],
   "source": [
    "train_data[train_data['Gender'] == 'Female']['NObeyesdad'].value_counts().sort_index()"
   ]
  },
  {
   "cell_type": "code",
   "execution_count": 35,
   "id": "9962fb76-956b-4372-990a-17cfe09cc834",
   "metadata": {},
   "outputs": [
    {
     "data": {
      "text/plain": [
       "NObeyesdad\n",
       "Insufficient_Weight     902\n",
       "Normal_Weight          1422\n",
       "Obesity_Type_I         1643\n",
       "Obesity_Type_II        3240\n",
       "Obesity_Type_III          5\n",
       "Overweight_Level_I     1357\n",
       "Overweight_Level_II    1767\n",
       "Name: count, dtype: int64"
      ]
     },
     "execution_count": 35,
     "metadata": {},
     "output_type": "execute_result"
    }
   ],
   "source": [
    "train_data[train_data['Gender'] == 'Male']['NObeyesdad'].value_counts().sort_index()"
   ]
  },
  {
   "cell_type": "markdown",
   "id": "98b88321-9941-4e19-b41b-439be708b5ad",
   "metadata": {},
   "source": [
    "Only 8 cases of Obesity_Type_II in women and 5 in Obesity_Type_III in men. For this challenge, the current classifications must be respected, otherwise merging Obesity_Type_III into Obesity_Type_II could be an interesting approach. "
   ]
  },
  {
   "cell_type": "markdown",
   "id": "31b64e1e-e77f-4b82-8739-73a94808b7b8",
   "metadata": {
    "jp-MarkdownHeadingCollapsed": true
   },
   "source": [
    "### Understanding FAVC"
   ]
  },
  {
   "cell_type": "code",
   "execution_count": 6,
   "id": "14c464ed-fa86-4150-a2f9-0d613a223e34",
   "metadata": {
    "scrolled": true
   },
   "outputs": [
    {
     "data": {
      "text/plain": [
       "FAVC\n",
       "yes    18982\n",
       "no      1776\n",
       "Name: count, dtype: int64"
      ]
     },
     "execution_count": 6,
     "metadata": {},
     "output_type": "execute_result"
    }
   ],
   "source": [
    "train_data['FAVC'].value_counts()"
   ]
  },
  {
   "cell_type": "code",
   "execution_count": 7,
   "id": "9c014136-b345-4384-bd9e-1755fa1c0af9",
   "metadata": {},
   "outputs": [
    {
     "data": {
      "text/plain": [
       "NObeyesdad\n",
       "Insufficient_Weight    2153\n",
       "Normal_Weight          2587\n",
       "Obesity_Type_I         2817\n",
       "Obesity_Type_II        3194\n",
       "Obesity_Type_III       4045\n",
       "Overweight_Level_I     2203\n",
       "Overweight_Level_II    1983\n",
       "Name: count, dtype: int64"
      ]
     },
     "execution_count": 7,
     "metadata": {},
     "output_type": "execute_result"
    }
   ],
   "source": [
    "train_data[train_data['FAVC'] == 'yes']['NObeyesdad'].value_counts().sort_index()"
   ]
  },
  {
   "cell_type": "code",
   "execution_count": 8,
   "id": "ed7762d9-2445-4c96-956c-346ebbf56398",
   "metadata": {},
   "outputs": [
    {
     "data": {
      "text/plain": [
       "NObeyesdad\n",
       "Insufficient_Weight    370\n",
       "Normal_Weight          495\n",
       "Obesity_Type_I          93\n",
       "Obesity_Type_II         54\n",
       "Obesity_Type_III         1\n",
       "Overweight_Level_I     224\n",
       "Overweight_Level_II    539\n",
       "Name: count, dtype: int64"
      ]
     },
     "execution_count": 8,
     "metadata": {},
     "output_type": "execute_result"
    }
   ],
   "source": [
    "train_data[train_data['FAVC'] == 'no']['NObeyesdad'].value_counts().sort_index()"
   ]
  },
  {
   "cell_type": "markdown",
   "id": "5b8c1518-ec9a-46da-8a72-74655d48d179",
   "metadata": {},
   "source": [
    "Most values represent yes and don't seem to be a real indicative of any of the categories. Might be interesting to delete later."
   ]
  },
  {
   "cell_type": "markdown",
   "id": "b08953cd-a89b-4ffd-8230-ce4569e3e392",
   "metadata": {},
   "source": [
    "### Understanding family_history_with_overweight"
   ]
  },
  {
   "cell_type": "code",
   "execution_count": 3,
   "id": "aa613e05-4a53-4c6a-ab1b-c5fc5cad7067",
   "metadata": {
    "scrolled": true
   },
   "outputs": [
    {
     "data": {
      "text/plain": [
       "family_history_with_overweight\n",
       "yes    17014\n",
       "no      3744\n",
       "Name: count, dtype: int64"
      ]
     },
     "execution_count": 3,
     "metadata": {},
     "output_type": "execute_result"
    }
   ],
   "source": [
    "train_data['family_history_with_overweight'].value_counts()"
   ]
  },
  {
   "cell_type": "code",
   "execution_count": 4,
   "id": "eb9bb6c4-7c94-41ec-b8d9-a5f6a6c6f32b",
   "metadata": {
    "scrolled": true
   },
   "outputs": [
    {
     "data": {
      "text/plain": [
       "NObeyesdad\n",
       "Insufficient_Weight    1074\n",
       "Normal_Weight          1790\n",
       "Obesity_Type_I         2862\n",
       "Obesity_Type_II        3243\n",
       "Obesity_Type_III       4045\n",
       "Overweight_Level_I     1671\n",
       "Overweight_Level_II    2329\n",
       "Name: count, dtype: int64"
      ]
     },
     "execution_count": 4,
     "metadata": {},
     "output_type": "execute_result"
    }
   ],
   "source": [
    "train_data[train_data['family_history_with_overweight'] == 'yes']['NObeyesdad'].value_counts().sort_index()"
   ]
  },
  {
   "cell_type": "code",
   "execution_count": 5,
   "id": "767c6738-dd81-4bea-a054-4d03679b5eb0",
   "metadata": {},
   "outputs": [
    {
     "data": {
      "text/plain": [
       "NObeyesdad\n",
       "Insufficient_Weight    1449\n",
       "Normal_Weight          1292\n",
       "Obesity_Type_I           48\n",
       "Obesity_Type_II           5\n",
       "Obesity_Type_III          1\n",
       "Overweight_Level_I      756\n",
       "Overweight_Level_II     193\n",
       "Name: count, dtype: int64"
      ]
     },
     "execution_count": 5,
     "metadata": {},
     "output_type": "execute_result"
    }
   ],
   "source": [
    "train_data[train_data['family_history_with_overweight'] == 'no']['NObeyesdad'].value_counts().sort_index()"
   ]
  },
  {
   "cell_type": "markdown",
   "id": "7b9d8468-08ad-4617-b8cb-5320ac783f4f",
   "metadata": {},
   "source": [
    "family_history_with_overweight == No, seems to indicate that it might be in one of the 2 extremes of this problem, altouugh 'Yes' is much  more uniformly distributed. Might need to study later how eliminating this variable affects the classification result."
   ]
  },
  {
   "cell_type": "markdown",
   "id": "a741c001-1a01-44f3-9b26-a11523bda5cc",
   "metadata": {
    "jp-MarkdownHeadingCollapsed": true
   },
   "source": [
    "### Understanding FCVC"
   ]
  },
  {
   "cell_type": "code",
   "execution_count": 13,
   "id": "1eed7660-d784-4836-af65-c22fcd817d7a",
   "metadata": {},
   "outputs": [
    {
     "data": {
      "text/plain": [
       "count    20758.000000\n",
       "mean         2.445908\n",
       "std          0.533218\n",
       "min          1.000000\n",
       "25%          2.000000\n",
       "50%          2.393837\n",
       "75%          3.000000\n",
       "max          3.000000\n",
       "Name: FCVC, dtype: float64"
      ]
     },
     "execution_count": 13,
     "metadata": {},
     "output_type": "execute_result"
    }
   ],
   "source": [
    "train_data['FCVC'].describe()"
   ]
  },
  {
   "cell_type": "code",
   "execution_count": 15,
   "id": "5a1f8c87-a2fc-443c-a6c1-b5b8a1613cdd",
   "metadata": {},
   "outputs": [
    {
     "data": {
      "image/png": "[encoded data removed]",
      "text/plain": [
       "<Figure size 640x480 with 1 Axes>"
      ]
     },
     "metadata": {},
     "output_type": "display_data"
    }
   ],
   "source": [
    "import matplotlib.pyplot as plt\n",
    "plt.hist(train_data['FCVC'], bins = 4)\n",
    "plt.show()"
   ]
  },
  {
   "cell_type": "code",
   "execution_count": 19,
   "id": "e1e3d384-00f7-4173-8c3a-f89059bed4c7",
   "metadata": {},
   "outputs": [
    {
     "data": {
      "text/plain": [
       "NObeyesdad\n",
       "Insufficient_Weight    261\n",
       "Normal_Weight           96\n",
       "Obesity_Type_I         239\n",
       "Obesity_Type_II        481\n",
       "Overweight_Level_I     191\n",
       "Overweight_Level_II    141\n",
       "Name: count, dtype: int64"
      ]
     },
     "execution_count": 19,
     "metadata": {},
     "output_type": "execute_result"
    }
   ],
   "source": [
    "train_data[train_data['FCVC'] < 2]['NObeyesdad'].value_counts().sort_index()"
   ]
  },
  {
   "cell_type": "code",
   "execution_count": 24,
   "id": "c2b94f13-2144-4068-8f5f-040c30ad44fc",
   "metadata": {},
   "outputs": [
    {
     "data": {
      "text/plain": [
       "NObeyesdad\n",
       "Insufficient_Weight     820\n",
       "Normal_Weight          1742\n",
       "Obesity_Type_I         2258\n",
       "Obesity_Type_II        1169\n",
       "Overweight_Level_I     1516\n",
       "Overweight_Level_II    1752\n",
       "Name: count, dtype: int64"
      ]
     },
     "execution_count": 24,
     "metadata": {},
     "output_type": "execute_result"
    }
   ],
   "source": [
    "train_data.query('FCVC >= 2 and FCVC < 2.5')['NObeyesdad'].value_counts().sort_index()"
   ]
  },
  {
   "cell_type": "code",
   "execution_count": 25,
   "id": "479d2474-f191-4d3b-a3ff-5c4b8a78e808",
   "metadata": {},
   "outputs": [
    {
     "data": {
      "text/plain": [
       "NObeyesdad\n",
       "Insufficient_Weight    1442\n",
       "Normal_Weight          1244\n",
       "Obesity_Type_I          413\n",
       "Obesity_Type_II        1598\n",
       "Obesity_Type_III       4046\n",
       "Overweight_Level_I      720\n",
       "Overweight_Level_II     629\n",
       "Name: count, dtype: int64"
      ]
     },
     "execution_count": 25,
     "metadata": {},
     "output_type": "execute_result"
    }
   ],
   "source": [
    "train_data.query('FCVC >= 2.5')['NObeyesdad'].value_counts().sort_index()"
   ]
  },
  {
   "cell_type": "code",
   "execution_count": null,
   "id": "541529c8-4da8-46e5-9c2d-db24505fd96f",
   "metadata": {},
   "outputs": [],
   "source": []
  }
 ],
 "metadata": {
  "kernelspec": {
   "display_name": "Python 3 (ipykernel)",
   "language": "python",
   "name": "python3"
  },
  "language_info": {
   "codemirror_mode": {
    "name": "ipython",
    "version": 3
   },
   "file_extension": ".py",
   "mimetype": "text/x-python",
   "name": "python",
   "nbconvert_exporter": "python",
   "pygments_lexer": "ipython3",
   "version": "3.10.12"
  }
 },
 "nbformat": 4,
 "nbformat_minor": 5
}
