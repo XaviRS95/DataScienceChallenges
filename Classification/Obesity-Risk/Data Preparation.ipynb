{
 "cells": [
  {
   "cell_type": "code",
   "execution_count": 1,
   "id": "f87e7bad-d02d-407e-86fc-86b99938a75b",
   "metadata": {},
   "outputs": [],
   "source": [
    "import pandas as pd"
   ]
  },
  {
   "cell_type": "code",
   "execution_count": 14,
   "id": "85e01078-6ca2-4c1c-8a53-04953f9315a6",
   "metadata": {},
   "outputs": [],
   "source": [
    "train_data = pd.read_csv('data/train.csv')"
   ]
  },
  {
   "cell_type": "markdown",
   "id": "897b1769-d913-457b-b620-3776c929e033",
   "metadata": {},
   "source": [
    "## Preparing the data"
   ]
  },
  {
   "cell_type": "code",
   "execution_count": 15,
   "id": "e972c101-260d-4dea-abbc-22ed732de5b0",
   "metadata": {},
   "outputs": [],
   "source": [
    "train_data.drop(['id'], axis = 1, inplace = True)"
   ]
  },
  {
   "cell_type": "code",
   "execution_count": 18,
   "id": "a4761f2d-e4ea-4972-a3ff-edbde98d7535",
   "metadata": {},
   "outputs": [],
   "source": [
    "object_columns = train_data.select_dtypes(include=['object']).columns.tolist()\n",
    "for column in object_columns:\n",
    "    unique_values = train_data[column].unique().tolist()\n",
    "    new_categories = [i for i in range(len(unique_values))]\n",
    "    train_data[column] = train_data[column].apply(lambda x: new_categories[unique_values.index(x)])"
   ]
  },
  {
   "cell_type": "code",
   "execution_count": 19,
   "id": "0c596e8d-f473-4fbf-9c66-e89e88a20a5c",
   "metadata": {},
   "outputs": [
    {
     "data": {
      "text/plain": [
       "Gender\n",
       "1    10422\n",
       "0    10336\n",
       "Name: count, dtype: int64"
      ]
     },
     "execution_count": 19,
     "metadata": {},
     "output_type": "execute_result"
    }
   ],
   "source": []
  },
  {
   "cell_type": "code",
   "execution_count": null,
   "id": "3a58ec4e-65d6-4cdb-847b-e51ca8fe6db1",
   "metadata": {},
   "outputs": [],
   "source": []
  }
 ],
 "metadata": {
  "kernelspec": {
   "display_name": "Python 3 (ipykernel)",
   "language": "python",
   "name": "python3"
  },
  "language_info": {
   "codemirror_mode": {
    "name": "ipython",
    "version": 3
   },
   "file_extension": ".py",
   "mimetype": "text/x-python",
   "name": "python",
   "nbconvert_exporter": "python",
   "pygments_lexer": "ipython3",
   "version": "3.10.12"
  }
 },
 "nbformat": 4,
 "nbformat_minor": 5
}
