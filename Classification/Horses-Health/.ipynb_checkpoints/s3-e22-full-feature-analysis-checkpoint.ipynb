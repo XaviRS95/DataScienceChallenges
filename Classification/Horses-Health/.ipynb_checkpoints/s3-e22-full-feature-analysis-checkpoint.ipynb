{
 "cells": [
  {
   "cell_type": "markdown",
   "metadata": {},
   "source": [
    "# <p style=\"font-family: Georgia; letter-spacing: 1px; color:#2F1B25; font-size:110%; text-align:center; padding: 0px; border-bottom: 2px solid #000000; padding-top: 0px; padding-bottom: 5px\"> Initial Setup 🪜</p>"
   ]
  },
  {
   "cell_type": "code",
   "execution_count": null,
   "metadata": {},
   "outputs": [],
   "source": [
    "#https://www.kaggle.com/code/draculcodes/s3-e22-full-feature-analysis/edit"
   ]
  },
  {
   "cell_type": "code",
   "execution_count": null,
   "metadata": {
    "_cell_guid": "b1076dfc-b9ad-4769-8c92-a6c4dae69d19",
    "_kg_hide-input": true,
    "_uuid": "8f2839f25d086af736a60e9eeb907d3b93b6e0e5",
    "execution": {
     "iopub.execute_input": "2023-09-23T10:40:06.089303Z",
     "iopub.status.busy": "2023-09-23T10:40:06.08892Z",
     "iopub.status.idle": "2023-09-23T10:40:07.932966Z",
     "shell.execute_reply": "2023-09-23T10:40:07.932238Z",
     "shell.execute_reply.started": "2023-09-23T10:40:06.089272Z"
    }
   },
   "outputs": [],
   "source": [
    "# Import required libraries\n",
    "import numpy as np \n",
    "import pandas as pd\n",
    "import matplotlib.pyplot as plt\n",
    "import seaborn as sns\n",
    "import os\n",
    "import copy\n",
    "\n",
    "import warnings\n",
    "warnings.filterwarnings('ignore')\n",
    "\n",
    "pd.set_option('display.max_columns', None)\n",
    "# plt.style.use('ggplot')\n",
    "\n",
    "rc_params = {\n",
    "            \"axes.facecolor\": \"#DDF8E8\",\n",
    "            \"figure.facecolor\": \"#DAC9E0\",\n",
    "            \"axes.edgecolor\": \"#008000\",\n",
    "            \"grid.color\": \"#B22222\",\n",
    "            \"font.family\": \"monospace\",\n",
    "            \"axes.labelcolor\": \"#000000\",\n",
    "            \"xtick.color\": \"#000000\",\n",
    "            \"ytick.color\": \"#000000\",\n",
    "            \"grid.alpha\": 0.4\n",
    "}\n",
    "\n",
    "sns.set(rc=rc_params)"
   ]
  },
  {
   "cell_type": "code",
   "execution_count": null,
   "metadata": {
    "execution": {
     "iopub.execute_input": "2023-09-23T10:40:07.935511Z",
     "iopub.status.busy": "2023-09-23T10:40:07.934595Z",
     "iopub.status.idle": "2023-09-23T10:40:07.941509Z",
     "shell.execute_reply": "2023-09-23T10:40:07.940329Z",
     "shell.execute_reply.started": "2023-09-23T10:40:07.935482Z"
    }
   },
   "outputs": [],
   "source": [
    "# Importing data\n",
    "filepaths = []\n",
    "for dirname, _, filenames in os.walk('/kaggle/input'):\n",
    "    for filename in filenames:\n",
    "        filepaths.append(os.path.join(dirname, filename))\n",
    "        \n",
    "sub_path, train_path, test_path = filepaths"
   ]
  },
  {
   "cell_type": "markdown",
   "metadata": {},
   "source": [
    "Let's have a look at train and test datasets"
   ]
  },
  {
   "cell_type": "code",
   "execution_count": null,
   "metadata": {
    "execution": {
     "iopub.execute_input": "2023-09-23T11:10:55.026225Z",
     "iopub.status.busy": "2023-09-23T11:10:55.025855Z",
     "iopub.status.idle": "2023-09-23T11:10:55.076034Z",
     "shell.execute_reply": "2023-09-23T11:10:55.07522Z",
     "shell.execute_reply.started": "2023-09-23T11:10:55.026196Z"
    }
   },
   "outputs": [],
   "source": [
    "# Train data\n",
    "train = pd.read_csv(train_path)\n",
    "train"
   ]
  },
  {
   "cell_type": "code",
   "execution_count": null,
   "metadata": {
    "execution": {
     "iopub.execute_input": "2023-09-23T11:10:57.472331Z",
     "iopub.status.busy": "2023-09-23T11:10:57.471933Z",
     "iopub.status.idle": "2023-09-23T11:10:57.513816Z",
     "shell.execute_reply": "2023-09-23T11:10:57.512731Z",
     "shell.execute_reply.started": "2023-09-23T11:10:57.472302Z"
    }
   },
   "outputs": [],
   "source": [
    "# Test data\n",
    "test = pd.read_csv(test_path)\n",
    "test"
   ]
  },
  {
   "cell_type": "markdown",
   "metadata": {},
   "source": [
    "<div style=\"font-family: Verdana; background-color: #FFC09F; padding: 10px; border-radius: 5px; padding-top: 10px; padding-bottom: 2px;\">\n",
    "    <p style=\"color: #000000; letter-spacing: 0.5px;\">Train data contains 1235 samples while test data have 824. There is very little data to train on in this competition and the test data is also relatively more with the train to test ratio of almost 3:2</p>\n",
    "</div>"
   ]
  },
  {
   "cell_type": "markdown",
   "metadata": {},
   "source": [
    "## <p style=\"font-family: Georgia; letter-spacing: 1px; color:#2F1B25; font-size:110%; text-align:center; padding: 0px; border-bottom: 2px solid #000000; padding-top: 0px; padding-bottom: 5px\"> Visualizing null values </p>\n",
    "\n",
    "Let's visualize the null value contributions for different columns for both the datasets."
   ]
  },
  {
   "cell_type": "code",
   "execution_count": null,
   "metadata": {
    "_kg_hide-input": true,
    "execution": {
     "iopub.execute_input": "2023-09-23T10:40:08.074753Z",
     "iopub.status.busy": "2023-09-23T10:40:08.074458Z",
     "iopub.status.idle": "2023-09-23T10:40:09.032975Z",
     "shell.execute_reply": "2023-09-23T10:40:09.032135Z",
     "shell.execute_reply.started": "2023-09-23T10:40:08.07473Z"
    }
   },
   "outputs": [],
   "source": [
    "train_null = (train.isnull().sum()*100/len(train)).reset_index()\n",
    "train_null['type'] = 'train'\n",
    "test_null = (test.isnull().sum()*100/len(test)).reset_index()\n",
    "test_null['type'] = 'test'\n",
    "null_df = pd.concat([train_null, test_null], ignore_index=True)\n",
    "null_df.columns = ['columns', 'percent', 'type']\n",
    "\n",
    "sns.catplot(data=null_df, y='columns', x='percent', hue='type', kind='bar', height=9, aspect=1)\n",
    "plt.xlabel(\"Missing percent\")\n",
    "plt.title(\"Distribution of null values in train and test data\")\n",
    "plt.show()"
   ]
  },
  {
   "cell_type": "markdown",
   "metadata": {},
   "source": [
    "<div style=\"font-family: Verdana; background-color: #FFC09F; padding: 10px; border-radius: 5px; padding-top: 10px; padding-bottom: 2px;\">\n",
    "    <p style=\"color: #000000; letter-spacing: 0.5px;\">It can be seen from the above plot that some columns have no null values for both train and test data. For the columns that contain null values there are  quite similar percentages of nulls for both train and test data with a little higher null percentage for test data.</p>\n",
    "</div>"
   ]
  },
  {
   "cell_type": "markdown",
   "metadata": {},
   "source": [
    "# <p style=\"font-family: Georgia; letter-spacing: 1px; color:#2F1B25; font-size:110%; text-align:center; padding: 0px; border-bottom: 2px solid #000000; padding-top: 0px; padding-bottom: 5px\"> Domain knowledge🤯 + Feature analysis🔎 + Feature engineering🔨</p>\n",
    "\n",
    "Before moving further to analysis let's first look at each of the features and what they mean in detail. This would be beneficial in feature engineering and feature selection tasks later. There are 28 features (excluding id) and I would do a complete breakdown of every feature in this section. The feature descriptions are taken from -> Source: http://archive.ics.uci.edu/dataset/47/horse+colic"
   ]
  },
  {
   "cell_type": "code",
   "execution_count": null,
   "metadata": {
    "execution": {
     "iopub.execute_input": "2023-09-23T10:40:09.035335Z",
     "iopub.status.busy": "2023-09-23T10:40:09.034232Z",
     "iopub.status.idle": "2023-09-23T10:40:09.046506Z",
     "shell.execute_reply": "2023-09-23T10:40:09.045168Z",
     "shell.execute_reply.started": "2023-09-23T10:40:09.035283Z"
    }
   },
   "outputs": [],
   "source": [
    "train_df, test_df = train.copy(), test.copy()\n",
    "train_df['type'] = 'train'\n",
    "test_df['type'] = 'test'\n",
    "train_df.drop('outcome', axis=1, inplace=True)\n",
    "all_df = pd.concat([train_df, test_df], ignore_index=True)"
   ]
  },
  {
   "cell_type": "code",
   "execution_count": null,
   "metadata": {
    "_kg_hide-input": true,
    "execution": {
     "iopub.execute_input": "2023-09-23T10:40:09.049434Z",
     "iopub.status.busy": "2023-09-23T10:40:09.047898Z",
     "iopub.status.idle": "2023-09-23T10:40:09.058598Z",
     "shell.execute_reply": "2023-09-23T10:40:09.057128Z",
     "shell.execute_reply.started": "2023-09-23T10:40:09.049383Z"
    }
   },
   "outputs": [],
   "source": [
    "# _, (ax1, ax2) = plt.subplots(1, 2, figsize=(11,5))\n",
    "# col = 'temp_of_extremities'\n",
    "# colors = ['#0f000e', '#234552', '#89addc']\n",
    "# sns.histplot(data=train.fillna(\"nan\"), x=col, hue='outcome', multiple='stack', color=colors, alpha=1, ax=ax1)\n",
    "# pcts_train = train[col].value_counts(normalize=True, dropna=False).values*100\n",
    "# patches = ax1.patches\n",
    "# for i in range(len(patches)):\n",
    "#     x = patches[i].get_x() + patches[i].get_width()/2\n",
    "#     y = patches[i].get_height()+.05\n",
    "#     ax1.annotate('{:.1f}%'.format(pcts_train[i]), (x, y), ha='center')\n",
    "# # sns.countplot(data=train.fillna(\"nan\"), x=col, color='green')\n",
    "# # lived = train[train.outcome == 'lived']\n",
    "# # died = train[train.outcome == 'died']\n",
    "# # sns.countplot(data=lived, x=col, color='blue')\n",
    "# # sns.countplot(data=died, x=col, color='red')"
   ]
  },
  {
   "cell_type": "code",
   "execution_count": null,
   "metadata": {
    "_kg_hide-input": true,
    "execution": {
     "iopub.execute_input": "2023-09-23T10:40:09.060457Z",
     "iopub.status.busy": "2023-09-23T10:40:09.060143Z",
     "iopub.status.idle": "2023-09-23T10:40:09.080387Z",
     "shell.execute_reply": "2023-09-23T10:40:09.079056Z",
     "shell.execute_reply.started": "2023-09-23T10:40:09.060433Z"
    }
   },
   "outputs": [],
   "source": [
    "def feature_dist(col, bins=None, rot=None):\n",
    "    if train[col].dtype == 'object':\n",
    "        _, (ax1, ax2) = plt.subplots(1, 2, figsize=(11,5))\n",
    "        # Set the order for the columns\n",
    "        order = train[col].value_counts(dropna=False).index.tolist()\n",
    "        orderx = copy.deepcopy(order)\n",
    "        if np.nan in order:\n",
    "            order[orderx.index(np.nan)] = \"nan\"\n",
    "\n",
    "        sns.countplot(data=train.fillna(\"nan\"), x=col, ax=ax1, order=order, palette='crest')\n",
    "        pcts_train = train[col].value_counts(normalize=True, dropna=False).values*100\n",
    "        patches = ax1.patches\n",
    "        for i in range(len(patches)):\n",
    "            x = patches[i].get_x() + patches[i].get_width()/2\n",
    "            y = patches[i].get_height()+.05\n",
    "            ax1.annotate('{:.1f}%'.format(pcts_train[i]), (x, y), ha='center')\n",
    "\n",
    "        sns.countplot(data=test.fillna(\"nan\"), x=col, ax=ax2, order=order, palette='muted')\n",
    "        pcts_test = test[col].value_counts(normalize=True, dropna=False)[orderx].values*100\n",
    "        patches = ax2.patches\n",
    "        for i in range(len(patches)):\n",
    "            x = patches[i].get_x() + patches[i].get_width()/2\n",
    "            y = patches[i].get_height()+.05\n",
    "            ax2.annotate('{:.1f}%'.format(pcts_test[i]), (x, y), ha='center')\n",
    "        \n",
    "        if rot:\n",
    "            ax1.tick_params(axis='x', labelrotation=rot)\n",
    "            ax2.tick_params(axis='x', labelrotation=rot)\n",
    "        ax1.set_title('train', fontsize=11)\n",
    "        ax2.set_title('test', fontsize=11)\n",
    "        plt.suptitle(f\"Distribution for {col}\", fontsize=15)\n",
    "        plt.show()\n",
    "    else:\n",
    "        plt.figure(figsize=(11,6))\n",
    "        if bins == None:\n",
    "            sns.histplot(data=all_df, x=col, hue='type', kde=True, palette='magma')\n",
    "        else:\n",
    "            sns.histplot(data=all_df, x=col, hue='type', bins=bins, kde=True, palette='magma')\n",
    "        plt.title(f\"Distribution for {col}\")\n",
    "        plt.show()"
   ]
  },
  {
   "cell_type": "markdown",
   "metadata": {},
   "source": [
    "<div style=\"border-radius:20px; border:#746AB0 solid; padding: 20px; background-color: #7FFFD4; font-size:100%; text-align:left; padding-top: 5px; padding-bottom: 5px\">\n",
    "<h2 align=\"left\"><font color='#800080'>Outcome</font></h2>\n",
    "    <p style=\"line-height: 1.5; font-size:100%; font-family: Verdana; letter-spacing: 0.5px;\"><b>What eventually happened to the horse? This is the target variable for this competition</b><br><b>1. lived</b> -> The horse survived <br>\n",
    "        <b>2. died</b> -> The horse died<br>\n",
    "        <b>3. euthanized</b> -> The horse was euthanized</p> </div>"
   ]
  },
  {
   "cell_type": "code",
   "execution_count": null,
   "metadata": {
    "_kg_hide-input": true,
    "execution": {
     "iopub.execute_input": "2023-09-23T10:40:09.08427Z",
     "iopub.status.busy": "2023-09-23T10:40:09.083269Z",
     "iopub.status.idle": "2023-09-23T10:40:09.292808Z",
     "shell.execute_reply": "2023-09-23T10:40:09.291901Z",
     "shell.execute_reply.started": "2023-09-23T10:40:09.084238Z"
    }
   },
   "outputs": [],
   "source": [
    "_, ax = plt.subplots(1, 1, figsize=(11,6))\n",
    "order = train['outcome'].value_counts(dropna=False).index.tolist()\n",
    "sns.countplot(data=train.fillna(\"nan\"), x='outcome', order=order, palette=['seagreen', 'red', 'blue'])\n",
    "pcts_train = train['outcome'].value_counts(normalize=True, dropna=False).values*100\n",
    "patches = ax.patches\n",
    "for i in range(len(patches)):\n",
    "    x = patches[i].get_x() + patches[i].get_width()/2\n",
    "    y = patches[i].get_height()*1.01+.05\n",
    "    ax.annotate('{:.1f}%'.format(pcts_train[i]), (x, y), ha='center')\n",
    "plt.suptitle(f\"Distribution for outcome\", fontsize=15)\n",
    "plt.show()"
   ]
  },
  {
   "cell_type": "markdown",
   "metadata": {},
   "source": [
    "***"
   ]
  },
  {
   "cell_type": "markdown",
   "metadata": {},
   "source": [
    "<div style=\"border-radius:20px; border:#746AB0 solid; padding: 20px; background-color: #7FFFD4; font-size:100%; text-align:left; padding-top: 5px; padding-bottom: 5px\">\n",
    "<h2 align=\"left\"><font color='#800080'>Surgery</font></h2>\n",
    "    <p style=\"line-height: 1.5; font-size:100%; font-family: Verdana; letter-spacing: 0.5px;\"><b>1. yes</b> -> Yes, it had surgery <br>\n",
    "        <b>2. no</b> -> It was treated without surgery</p> </div>"
   ]
  },
  {
   "cell_type": "code",
   "execution_count": null,
   "metadata": {
    "_kg_hide-input": true,
    "execution": {
     "iopub.execute_input": "2023-09-23T10:40:09.294718Z",
     "iopub.status.busy": "2023-09-23T10:40:09.294216Z",
     "iopub.status.idle": "2023-09-23T10:40:09.604036Z",
     "shell.execute_reply": "2023-09-23T10:40:09.603147Z",
     "shell.execute_reply.started": "2023-09-23T10:40:09.294685Z"
    }
   },
   "outputs": [],
   "source": [
    "feature_dist('surgery')"
   ]
  },
  {
   "cell_type": "markdown",
   "metadata": {},
   "source": [
    "***"
   ]
  },
  {
   "cell_type": "markdown",
   "metadata": {},
   "source": [
    "<div style=\"border-radius:20px; border:#746AB0 solid; padding: 20px; background-color: #7FFFD4; font-size:100%; text-align:left; padding-top: 5px; padding-bottom: 5px\">\n",
    "<h2 align=\"left\"><font color='#800080'>Age</font></h2>\n",
    "    <p style=\"line-height: 1.5; font-size:100%; font-family: Verdana; letter-spacing: 0.5px;\"><b>1. adult</b> -> Adult horse <br>\n",
    "        <b>2. young</b> -> Young horse (&lt; 6 months)</p> </div>"
   ]
  },
  {
   "cell_type": "code",
   "execution_count": null,
   "metadata": {
    "_kg_hide-input": true,
    "execution": {
     "iopub.execute_input": "2023-09-23T10:40:09.606037Z",
     "iopub.status.busy": "2023-09-23T10:40:09.60549Z",
     "iopub.status.idle": "2023-09-23T10:40:09.963321Z",
     "shell.execute_reply": "2023-09-23T10:40:09.962054Z",
     "shell.execute_reply.started": "2023-09-23T10:40:09.605984Z"
    }
   },
   "outputs": [],
   "source": [
    "feature_dist('age')"
   ]
  },
  {
   "cell_type": "markdown",
   "metadata": {},
   "source": [
    "***"
   ]
  },
  {
   "cell_type": "markdown",
   "metadata": {},
   "source": [
    "<div style=\"border-radius:20px; border:#746AB0 solid; padding: 20px; background-color: #7FFFD4; font-size:100%; text-align:left; padding-top: 5px; padding-bottom: 5px\">\n",
    "<h2 align=\"left\"><font color='#800080'>Hospital number</font></h2>\n",
    "    <p style=\"line-height: 1.5; font-size:100%; font-family: Verdana; letter-spacing: 0.5px;\"> <b>The case number assigned to the horse</b> (may not be unique if the horse is treated &gt; 1 time) </p> </div>"
   ]
  },
  {
   "cell_type": "code",
   "execution_count": null,
   "metadata": {
    "execution": {
     "iopub.execute_input": "2023-09-23T10:40:09.966221Z",
     "iopub.status.busy": "2023-09-23T10:40:09.965653Z",
     "iopub.status.idle": "2023-09-23T10:40:09.97887Z",
     "shell.execute_reply": "2023-09-23T10:40:09.977737Z",
     "shell.execute_reply.started": "2023-09-23T10:40:09.966166Z"
    }
   },
   "outputs": [],
   "source": [
    "train.groupby('hospital_number').id.count().sort_values(ascending=False)"
   ]
  },
  {
   "cell_type": "markdown",
   "metadata": {},
   "source": [
    "<div style=\"font-family: Verdana; background-color: #FFC09F; padding: 10px; border-radius: 5px; padding-top: 10px; padding-bottom: 2px; letter-spacing: 0.5px\">\n",
    "    <p> I am quite doubtful of this feature. Let's include it for now and remove later if this won't be important</p>\n",
    "    </div>"
   ]
  },
  {
   "cell_type": "markdown",
   "metadata": {},
   "source": [
    "***"
   ]
  },
  {
   "cell_type": "markdown",
   "metadata": {},
   "source": [
    "<div style=\"border-radius:20px; border:#746AB0 solid; padding: 20px; background-color: #7FFFD4; font-size:100%; text-align:left; padding-top: 5px; padding-bottom: 5px\">\n",
    "<h2 align=\"left\"><font color='#800080'>Rectal temperature</font></h2>\n",
    "    <p style=\"line-height: 1.5; font-size:100%; font-family: Verdana; letter-spacing: 0.5px;\"> <b>The temperature of the horse in degree celsius</b></p>\n",
    "</div>"
   ]
  },
  {
   "cell_type": "code",
   "execution_count": null,
   "metadata": {
    "_kg_hide-input": true,
    "execution": {
     "iopub.execute_input": "2023-09-23T10:40:09.981099Z",
     "iopub.status.busy": "2023-09-23T10:40:09.980768Z",
     "iopub.status.idle": "2023-09-23T10:40:10.480805Z",
     "shell.execute_reply": "2023-09-23T10:40:10.479817Z",
     "shell.execute_reply.started": "2023-09-23T10:40:09.981076Z"
    }
   },
   "outputs": [],
   "source": [
    "feature_dist('rectal_temp', bins=40)"
   ]
  },
  {
   "cell_type": "markdown",
   "metadata": {},
   "source": [
    "<div style=\"font-family: Verdana; background-color: #FFC09F; padding: 10px; border-radius: 5px; padding-top: 10px; padding-bottom: 2px; letter-spacing: 0.5px\">\n",
    "    <ul>\n",
    "        <li><b><i>Normal temperature is 37.8 C</i></b></li> \n",
    "        <li><b><i>An elevated temperature may occur due to infection</i></b></li> \n",
    "        <li><b><i>Temperature may be reduced when the animal is in late shock</i></b></li>\n",
    "        <li><b><i>This parameter will usually change as the problem progresses, e.g. may start out normal, then become elevated because of the lesion, passing back through the normal range as the horse goes into shock</i></b></li>\n",
    "    </ul>"
   ]
  },
  {
   "cell_type": "markdown",
   "metadata": {},
   "source": [
    "The normal temperature of a horse is given as 37.8. Let's transform this feature and normalize by subtracting 37.8. Now this will give us the absolute deviation from the normal temperature values."
   ]
  },
  {
   "cell_type": "code",
   "execution_count": null,
   "metadata": {
    "_kg_hide-input": true,
    "execution": {
     "iopub.execute_input": "2023-09-23T10:40:10.487121Z",
     "iopub.status.busy": "2023-09-23T10:40:10.486641Z",
     "iopub.status.idle": "2023-09-23T10:40:10.492873Z",
     "shell.execute_reply": "2023-09-23T10:40:10.491115Z",
     "shell.execute_reply.started": "2023-09-23T10:40:10.487092Z"
    }
   },
   "outputs": [],
   "source": [
    "def median_feature(feat, cat):\n",
    "    print(f\"Median {feat} value for horses that {cat}: {train[train['outcome'] == cat][feat].median()}\")"
   ]
  },
  {
   "cell_type": "code",
   "execution_count": null,
   "metadata": {
    "execution": {
     "iopub.execute_input": "2023-09-23T10:40:10.494933Z",
     "iopub.status.busy": "2023-09-23T10:40:10.494501Z",
     "iopub.status.idle": "2023-09-23T10:40:10.514507Z",
     "shell.execute_reply": "2023-09-23T10:40:10.513676Z",
     "shell.execute_reply.started": "2023-09-23T10:40:10.494891Z"
    }
   },
   "outputs": [],
   "source": [
    "median_feature('rectal_temp', 'lived')\n",
    "median_feature('rectal_temp', 'died')\n",
    "median_feature('rectal_temp', 'euthanized')"
   ]
  },
  {
   "cell_type": "code",
   "execution_count": null,
   "metadata": {
    "execution": {
     "iopub.execute_input": "2023-09-23T10:40:10.518009Z",
     "iopub.status.busy": "2023-09-23T10:40:10.515635Z",
     "iopub.status.idle": "2023-09-23T10:40:10.532495Z",
     "shell.execute_reply": "2023-09-23T10:40:10.530533Z",
     "shell.execute_reply.started": "2023-09-23T10:40:10.517945Z"
    }
   },
   "outputs": [],
   "source": [
    "train['rectal_temp_norm'] = abs(train['rectal_temp'] - 37.8)\n",
    "test['rectal_temp_norm'] = abs(test['rectal_temp'] - 37.8)"
   ]
  },
  {
   "cell_type": "markdown",
   "metadata": {},
   "source": [
    "***"
   ]
  },
  {
   "cell_type": "markdown",
   "metadata": {},
   "source": [
    "<div style=\"border-radius:20px; border:#746AB0 solid; padding: 20px; background-color: #7FFFD4; font-size:100%; text-align:left; padding-top: 5px; padding-bottom: 5px\">\n",
    "<h2 align=\"left\"><font color='#800080'>Pulse</font></h2>\n",
    "    <p style=\"line-height: 1.5; font-size:100%; font-family: Verdana; letter-spacing: 0.5px;\"> <b>Heart rate of the horse in beats per minute</b></p> \n",
    "</div>"
   ]
  },
  {
   "cell_type": "code",
   "execution_count": null,
   "metadata": {
    "_kg_hide-input": true,
    "execution": {
     "iopub.execute_input": "2023-09-23T10:40:10.534622Z",
     "iopub.status.busy": "2023-09-23T10:40:10.534202Z",
     "iopub.status.idle": "2023-09-23T10:40:11.002398Z",
     "shell.execute_reply": "2023-09-23T10:40:11.001414Z",
     "shell.execute_reply.started": "2023-09-23T10:40:10.534584Z"
    }
   },
   "outputs": [],
   "source": [
    "feature_dist('pulse', bins=30)"
   ]
  },
  {
   "cell_type": "markdown",
   "metadata": {},
   "source": [
    "<div style=\"font-family: Verdana; background-color: #FFC09F; padding: 10px; border-radius: 5px; padding-top: 10px; padding-bottom: 2px; letter-spacing: 0.5px\">    \n",
    "    <ul>\n",
    "        <li><b><i>Reflection of the heart condition: 30-40 is normal for adults</i></b></li> \n",
    "        <li><b><i>Rare to have a lower than normal rate although athletic horses may have a rate of 20-25</i></b></li> \n",
    "        <li><b><i>Animals with painful lesions or suffering from circulatory shock may have an elevated heart rate</i></b></li>\n",
    "    </ul>"
   ]
  },
  {
   "cell_type": "code",
   "execution_count": null,
   "metadata": {
    "execution": {
     "iopub.execute_input": "2023-09-23T10:40:11.004176Z",
     "iopub.status.busy": "2023-09-23T10:40:11.003566Z",
     "iopub.status.idle": "2023-09-23T10:40:11.015628Z",
     "shell.execute_reply": "2023-09-23T10:40:11.013982Z",
     "shell.execute_reply.started": "2023-09-23T10:40:11.004143Z"
    }
   },
   "outputs": [],
   "source": [
    "median_feature('pulse', 'lived')\n",
    "median_feature('pulse', 'died')\n",
    "median_feature('pulse', 'euthanized')"
   ]
  },
  {
   "cell_type": "markdown",
   "metadata": {},
   "source": [
    "There is a clear cut difference between pulse of alive horses than the other two categories. This can be a crucial feature. Let's transform this by taking the absolute difference from the median."
   ]
  },
  {
   "cell_type": "code",
   "execution_count": null,
   "metadata": {
    "execution": {
     "iopub.execute_input": "2023-09-23T10:40:11.018372Z",
     "iopub.status.busy": "2023-09-23T10:40:11.017639Z",
     "iopub.status.idle": "2023-09-23T10:40:11.029473Z",
     "shell.execute_reply": "2023-09-23T10:40:11.027952Z",
     "shell.execute_reply.started": "2023-09-23T10:40:11.018338Z"
    }
   },
   "outputs": [],
   "source": [
    "train['pulse_norm'] = abs(train['pulse'] - 60)\n",
    "test['pulse_norm'] = abs(test['pulse'] - 60)"
   ]
  },
  {
   "cell_type": "markdown",
   "metadata": {},
   "source": [
    "***"
   ]
  },
  {
   "cell_type": "markdown",
   "metadata": {},
   "source": [
    "<div style=\"border-radius:20px; border:#746AB0 solid; padding: 20px; background-color: #7FFFD4; font-size:100%; text-align:left; padding-top: 5px; padding-bottom: 5px\">\n",
    "<h2 align=\"left\"><font color='#800080'>Respiratory rate</font></h2>\n",
    "    <p style=\"line-height: 1.5; font-size:100%; font-family: Verdana; letter-spacing: 0.5px;\"> <b>Rate of respiration of the horse</b></p> \n",
    "</div>"
   ]
  },
  {
   "cell_type": "code",
   "execution_count": null,
   "metadata": {
    "_kg_hide-input": true,
    "execution": {
     "iopub.execute_input": "2023-09-23T10:40:11.031441Z",
     "iopub.status.busy": "2023-09-23T10:40:11.030975Z",
     "iopub.status.idle": "2023-09-23T10:40:11.485692Z",
     "shell.execute_reply": "2023-09-23T10:40:11.484225Z",
     "shell.execute_reply.started": "2023-09-23T10:40:11.031404Z"
    }
   },
   "outputs": [],
   "source": [
    "feature_dist('respiratory_rate', bins=30)"
   ]
  },
  {
   "cell_type": "markdown",
   "metadata": {},
   "source": [
    "<div style=\"font-family: Verdana; background-color: #FFC09F; padding: 10px; border-radius: 5px; padding-top: 10px; padding-bottom: 2px; letter-spacing: 0.5px\">    \n",
    "    <ul>\n",
    "        <li><b><i>Normal rate is 8 to 10</i></b></li> \n",
    "        <li><b><i>Usefulness is doubtful due to the great fluctuations</i></b></li> \n",
    "    </ul>"
   ]
  },
  {
   "cell_type": "code",
   "execution_count": null,
   "metadata": {
    "execution": {
     "iopub.execute_input": "2023-09-23T10:40:11.487774Z",
     "iopub.status.busy": "2023-09-23T10:40:11.487427Z",
     "iopub.status.idle": "2023-09-23T10:40:11.498227Z",
     "shell.execute_reply": "2023-09-23T10:40:11.496812Z",
     "shell.execute_reply.started": "2023-09-23T10:40:11.487735Z"
    }
   },
   "outputs": [],
   "source": [
    "median_feature('respiratory_rate', 'lived')\n",
    "median_feature('respiratory_rate', 'died')\n",
    "median_feature('respiratory_rate', 'euthanized')"
   ]
  },
  {
   "cell_type": "markdown",
   "metadata": {},
   "source": [
    "***"
   ]
  },
  {
   "cell_type": "markdown",
   "metadata": {},
   "source": [
    "<div style=\"border-radius:20px; border:#746AB0 solid; padding: 20px; background-color: #7FFFD4; font-size:100%; text-align:left; padding-top: 5px; padding-bottom: 5px\">\n",
    "<h2 align=\"left\"><font color='#800080'>Temperature of extremities</font></h2>\n",
    "    <p style=\"line-height: 1.5; font-size:100%; font-family: Verdana; letter-spacing: 0.5px;\"><b>A subjective indication of peripheral circulation</b><br>\n",
    "        <b>1. normal</b><br>\n",
    "        <b>2. warm</b><br>\n",
    "        <b>3. cool</b><br>\n",
    "        <b>4. cold</b> </p>\n",
    "</div>"
   ]
  },
  {
   "cell_type": "code",
   "execution_count": null,
   "metadata": {
    "_kg_hide-input": true,
    "execution": {
     "iopub.execute_input": "2023-09-23T10:40:11.500911Z",
     "iopub.status.busy": "2023-09-23T10:40:11.500462Z",
     "iopub.status.idle": "2023-09-23T10:40:12.033796Z",
     "shell.execute_reply": "2023-09-23T10:40:12.032471Z",
     "shell.execute_reply.started": "2023-09-23T10:40:11.500885Z"
    }
   },
   "outputs": [],
   "source": [
    "feature_dist('temp_of_extremities')"
   ]
  },
  {
   "cell_type": "markdown",
   "metadata": {},
   "source": [
    "<div style=\"font-family: Verdana; background-color: #FFC09F; padding: 10px; border-radius: 5px; padding-top: 10px; padding-bottom: 2px; letter-spacing: 0.5px\">    \n",
    "    <ul>\n",
    "        <li><b><i>Cool to Cold extremities indicate possible shock</i></b></li>\n",
    "        <li><b><i>Hot extremities should correlate with an elevated rectal temp</i></b></li\n",
    "    </ul>"
   ]
  },
  {
   "cell_type": "markdown",
   "metadata": {},
   "source": [
    "***"
   ]
  },
  {
   "cell_type": "markdown",
   "metadata": {},
   "source": [
    "<div style=\"border-radius:20px; border:#746AB0 solid; padding: 20px; background-color: #7FFFD4; font-size:100%; text-align:left; padding-top: 5px; padding-bottom: 5px\">\n",
    "<h2 align=\"left\"><font color='#800080'>Peripheral pulse</font></h2>\n",
    "    <p style=\"line-height: 1.5; font-size:100%; font-family: Verdana; letter-spacing: 0.5px;\">\n",
    "        <b>1. normal</b><br>\n",
    "        <b>2. increased</b><br>\n",
    "        <b>3. reduced</b><br>\n",
    "        <b>4. absent</b>\n",
    "</p></div>"
   ]
  },
  {
   "cell_type": "code",
   "execution_count": null,
   "metadata": {
    "_kg_hide-input": true,
    "execution": {
     "iopub.execute_input": "2023-09-23T10:40:12.04733Z",
     "iopub.status.busy": "2023-09-23T10:40:12.046978Z",
     "iopub.status.idle": "2023-09-23T10:40:12.482232Z",
     "shell.execute_reply": "2023-09-23T10:40:12.481262Z",
     "shell.execute_reply.started": "2023-09-23T10:40:12.0473Z"
    }
   },
   "outputs": [],
   "source": [
    "feature_dist('peripheral_pulse')"
   ]
  },
  {
   "cell_type": "markdown",
   "metadata": {},
   "source": [
    "<div style=\"font-family: Verdana; background-color: #FFC09F; padding: 10px; border-radius: 5px; padding-top: 10px; padding-bottom: 2px; letter-spacing: 0.5px\"> \n",
    "    <ul>\n",
    "        <li><b><i>Normal or increased p.p. values are indicative of adequate circulation</i></b></li>\n",
    "        <li><b><i>Reduced or absent indicate poor perfusion</i></b></li>\n",
    "    </ul>"
   ]
  },
  {
   "cell_type": "markdown",
   "metadata": {},
   "source": [
    "***"
   ]
  },
  {
   "cell_type": "markdown",
   "metadata": {},
   "source": [
    "<div style=\"border-radius:20px; border:#746AB0 solid; padding: 20px; background-color: #7FFFD4; font-size:100%; text-align:left; padding-top: 5px; padding-bottom: 5px\">\n",
    "<h2 align=\"left\"><font color='#800080'>Mucous membranes</font></h2>\n",
    "    <p style=\"line-height: 1.5; font-size:100%; font-family: Verdana; letter-spacing: 0.5px;\"><b>A subjective measurement of colour</b><br>\n",
    "        <b>1. normal pink</b><br>\n",
    "        <b>2. bright pink</b><br>\n",
    "        <b>3. pale pink</b><br>\n",
    "        <b>4. pale cyanotic</b><br>\n",
    "        <b>5. bright red / injected</b><br>\n",
    "        <b>6. dark cyanotic</b>\n",
    "</p></div>"
   ]
  },
  {
   "cell_type": "code",
   "execution_count": null,
   "metadata": {
    "_kg_hide-input": true,
    "execution": {
     "iopub.execute_input": "2023-09-23T10:40:12.484308Z",
     "iopub.status.busy": "2023-09-23T10:40:12.483651Z",
     "iopub.status.idle": "2023-09-23T10:40:12.979089Z",
     "shell.execute_reply": "2023-09-23T10:40:12.977561Z",
     "shell.execute_reply.started": "2023-09-23T10:40:12.48428Z"
    }
   },
   "outputs": [],
   "source": [
    "feature_dist('mucous_membrane', rot=50)"
   ]
  },
  {
   "cell_type": "markdown",
   "metadata": {},
   "source": [
    "<div style=\"font-family: Verdana; background-color: #FFC09F; padding: 10px; border-radius: 5px; padding-top: 10px; padding-bottom: 2px; letter-spacing: 0.5px\"> \n",
    "    <ul>\n",
    "        <li><b><i>Normal and bright pink probably indicate a normal or slightly increased circulation</i></b>\n",
    "        <li><b><i>Pale pink may occur in early shock</i></b></li>\n",
    "        <li><b><i>Pale cyanotic and dark cyanotic are indicative of serious circulatory compromise</i></b></li>\n",
    "        <li><b><i>Bright red is more indicative of a septicemia</i></b></li>\n",
    "    </ul>"
   ]
  },
  {
   "cell_type": "markdown",
   "metadata": {},
   "source": [
    "***"
   ]
  },
  {
   "cell_type": "markdown",
   "metadata": {},
   "source": [
    "<div style=\"border-radius:20px; border:#746AB0 solid; padding: 20px; background-color: #7FFFD4; font-size:100%; text-align:left; padding-top: 5px; padding-bottom: 5px\">\n",
    "<h2 align=\"left\"><font color='#800080'>Capillary refill time</font></h2>\n",
    "    <p style=\"line-height: 1.5; font-size:100%; font-family: Verdana; letter-spacing: 0.5px;\"><b>A clinical judgement. The longer the refill, the poorer the circulation</b><br>\n",
    "        <b>1. less_3_sec (&lt; 3 seconds)</b><br>\n",
    "        <b>2. more_3_sec (&ge; 3 seconds)</b>"
   ]
  },
  {
   "cell_type": "code",
   "execution_count": null,
   "metadata": {
    "execution": {
     "iopub.execute_input": "2023-09-23T10:40:12.982126Z",
     "iopub.status.busy": "2023-09-23T10:40:12.981088Z",
     "iopub.status.idle": "2023-09-23T10:40:12.991924Z",
     "shell.execute_reply": "2023-09-23T10:40:12.990754Z",
     "shell.execute_reply.started": "2023-09-23T10:40:12.982074Z"
    }
   },
   "outputs": [],
   "source": [
    "train['capillary_refill_time'].value_counts(dropna=False)"
   ]
  },
  {
   "cell_type": "markdown",
   "metadata": {},
   "source": [
    "There are some values with value 3. Let's incorporate the 3 in more_3_sec. "
   ]
  },
  {
   "cell_type": "code",
   "execution_count": null,
   "metadata": {
    "execution": {
     "iopub.execute_input": "2023-09-23T10:40:12.993826Z",
     "iopub.status.busy": "2023-09-23T10:40:12.993519Z",
     "iopub.status.idle": "2023-09-23T10:40:13.00596Z",
     "shell.execute_reply": "2023-09-23T10:40:13.00473Z",
     "shell.execute_reply.started": "2023-09-23T10:40:12.993803Z"
    }
   },
   "outputs": [],
   "source": [
    "# change 3 to more_3_sec\n",
    "train['capillary_refill_time'].replace({'3': 'more_3_sec'}, inplace=True)\n",
    "test['capillary_refill_time'].replace({'3': 'more_3_sec'}, inplace=True)"
   ]
  },
  {
   "cell_type": "code",
   "execution_count": null,
   "metadata": {
    "_kg_hide-input": true,
    "execution": {
     "iopub.execute_input": "2023-09-23T10:40:13.008862Z",
     "iopub.status.busy": "2023-09-23T10:40:13.008483Z",
     "iopub.status.idle": "2023-09-23T10:40:13.411453Z",
     "shell.execute_reply": "2023-09-23T10:40:13.409978Z",
     "shell.execute_reply.started": "2023-09-23T10:40:13.008832Z"
    }
   },
   "outputs": [],
   "source": [
    "feature_dist('capillary_refill_time')"
   ]
  },
  {
   "cell_type": "markdown",
   "metadata": {},
   "source": [
    "***"
   ]
  },
  {
   "cell_type": "markdown",
   "metadata": {},
   "source": [
    "<div style=\"border-radius:20px; border:#746AB0 solid; padding: 20px; background-color: #7FFFD4; font-size:100%; text-align:left; padding-top: 5px; padding-bottom: 5px\">\n",
    "<h2 align=\"left\"><font color='#800080'>Pain</font></h2>\n",
    "    <p style=\"line-height: 1.5; font-size:100%; font-family: Verdana; letter-spacing: 0.5px;\"><b>A subjective judgement of the horse's pain level</b><br>\n",
    "        <b>1. alert (no pain)</b><br>\n",
    "        <b>2. depressed</b><br>\n",
    "        <b>3. mild_pain</b><br>\n",
    "        <b>4. severe_pain</b><br>\n",
    "        <b>5. extreme_pain</b></p>\n",
    "</div>"
   ]
  },
  {
   "cell_type": "code",
   "execution_count": null,
   "metadata": {
    "execution": {
     "iopub.execute_input": "2023-09-23T10:40:13.413179Z",
     "iopub.status.busy": "2023-09-23T10:40:13.412816Z",
     "iopub.status.idle": "2023-09-23T10:40:13.425033Z",
     "shell.execute_reply": "2023-09-23T10:40:13.423707Z",
     "shell.execute_reply.started": "2023-09-23T10:40:13.413151Z"
    }
   },
   "outputs": [],
   "source": [
    "train['pain'].value_counts(dropna=False),\\\n",
    "test['pain'].value_counts(dropna=False)"
   ]
  },
  {
   "cell_type": "markdown",
   "metadata": {},
   "source": [
    "Train data contains one value with slight pain and test contain one value with moderate pain. Let's convert these into the mild_pain category"
   ]
  },
  {
   "cell_type": "code",
   "execution_count": null,
   "metadata": {
    "execution": {
     "iopub.execute_input": "2023-09-23T10:40:13.426612Z",
     "iopub.status.busy": "2023-09-23T10:40:13.426328Z",
     "iopub.status.idle": "2023-09-23T10:40:13.43615Z",
     "shell.execute_reply": "2023-09-23T10:40:13.435241Z",
     "shell.execute_reply.started": "2023-09-23T10:40:13.426589Z"
    }
   },
   "outputs": [],
   "source": [
    "# convert slight and moderate to mild pain category\n",
    "train['pain'].replace({'slight': 'mild_pain'}, inplace=True)\n",
    "test['pain'].replace({'moderate': 'mild_pain'}, inplace=True)"
   ]
  },
  {
   "cell_type": "code",
   "execution_count": null,
   "metadata": {
    "_kg_hide-input": true,
    "execution": {
     "iopub.execute_input": "2023-09-23T10:40:13.438402Z",
     "iopub.status.busy": "2023-09-23T10:40:13.437537Z",
     "iopub.status.idle": "2023-09-23T10:40:13.906913Z",
     "shell.execute_reply": "2023-09-23T10:40:13.905533Z",
     "shell.execute_reply.started": "2023-09-23T10:40:13.438365Z"
    }
   },
   "outputs": [],
   "source": [
    "feature_dist('pain', rot=50)"
   ]
  },
  {
   "cell_type": "markdown",
   "metadata": {},
   "source": [
    "<div style=\"font-family: Verdana; background-color: #FFC09F; padding: 10px; border-radius: 5px; padding-top: 10px; padding-bottom: 2px; letter-spacing: 0.5px\">  \n",
    "    <ul>\n",
    "        <li><b><i>Should NOT be treated as a ordered or discrete variable!</i></b></li>\n",
    "        <li><b><i>In general, the more painful, the more likely it is to require surgery</i></b></li>\n",
    "        <li><b><i>Prior treatment of pain may mask the pain level to some extent</i></b></li>\n",
    "    </ul>"
   ]
  },
  {
   "cell_type": "markdown",
   "metadata": {},
   "source": [
    "***"
   ]
  },
  {
   "cell_type": "markdown",
   "metadata": {},
   "source": [
    "<div style=\"border-radius:20px; border:#746AB0 solid; padding: 20px; background-color: #7FFFD4; font-size:100%; text-align:left; padding-top: 5px; padding-bottom: 5px\">\n",
    "<h2 align=\"left\"><font color='#800080'>Peristalsis</font></h2>\n",
    "    <p style=\"line-height: 1.5; font-size:100%; font-family: Verdana; letter-spacing: 0.5px;\"><b>An indication of the activity in the horse's gut.</b><br>\n",
    "        <b>1. hypermotile</b><br>\n",
    "        <b>2. normal</b><br>\n",
    "        <b>3. hypomotile</b><br>\n",
    "        <b>4. absent</b>\n",
    "</p></div>"
   ]
  },
  {
   "cell_type": "code",
   "execution_count": null,
   "metadata": {
    "execution": {
     "iopub.execute_input": "2023-09-23T10:40:13.908435Z",
     "iopub.status.busy": "2023-09-23T10:40:13.908136Z",
     "iopub.status.idle": "2023-09-23T10:40:13.917973Z",
     "shell.execute_reply": "2023-09-23T10:40:13.916867Z",
     "shell.execute_reply.started": "2023-09-23T10:40:13.908407Z"
    }
   },
   "outputs": [],
   "source": [
    "train['peristalsis'].value_counts(dropna=False)"
   ]
  },
  {
   "cell_type": "markdown",
   "metadata": {},
   "source": [
    "One value in training data has distend_small as the peristalsis type which makes no sense. Let's treat this value as null."
   ]
  },
  {
   "cell_type": "code",
   "execution_count": null,
   "metadata": {
    "_kg_hide-input": true,
    "execution": {
     "iopub.execute_input": "2023-09-23T10:40:13.919812Z",
     "iopub.status.busy": "2023-09-23T10:40:13.919441Z",
     "iopub.status.idle": "2023-09-23T10:40:14.339423Z",
     "shell.execute_reply": "2023-09-23T10:40:14.338214Z",
     "shell.execute_reply.started": "2023-09-23T10:40:13.919777Z"
    }
   },
   "outputs": [],
   "source": [
    "train['peristalsis'].replace({'distend_small': np.nan}, inplace=True)\n",
    "feature_dist('peristalsis')"
   ]
  },
  {
   "cell_type": "markdown",
   "metadata": {},
   "source": [
    "<div style=\"font-family: Verdana; background-color: #FFC09F; padding: 10px; border-radius: 5px; padding-top: 10px; padding-bottom: 10px; letter-spacing: 0.5px\">\n",
    "<b><i>As the gut becomes more distended or the horse becomes more toxic, the activity decreases</i></b>"
   ]
  },
  {
   "cell_type": "markdown",
   "metadata": {},
   "source": [
    "***"
   ]
  },
  {
   "cell_type": "markdown",
   "metadata": {},
   "source": [
    "<div style=\"border-radius:20px; border:#746AB0 solid; padding: 20px; background-color: #7FFFD4; font-size:100%; text-align:left; padding-top: 5px; padding-bottom: 5px\">\n",
    "<h2 align=\"left\"><font color='#800080'>Abdominal distension</font></h2>\n",
    "    <p style=\"line-height: 1.5; font-size:100%; font-family: Verdana; letter-spacing: 0.5px;\"><b>An IMPORTANT parameter</b><br>\n",
    "        <b>1. none</b><br>\n",
    "        <b>2. slight</b><br>\n",
    "        <b>3. moderate</b><br>\n",
    "        <b>4. severe</b>\n",
    "</p></div>"
   ]
  },
  {
   "cell_type": "code",
   "execution_count": null,
   "metadata": {
    "_kg_hide-input": true,
    "execution": {
     "iopub.execute_input": "2023-09-23T10:40:14.341365Z",
     "iopub.status.busy": "2023-09-23T10:40:14.340947Z",
     "iopub.status.idle": "2023-09-23T10:40:14.761803Z",
     "shell.execute_reply": "2023-09-23T10:40:14.760384Z",
     "shell.execute_reply.started": "2023-09-23T10:40:14.341332Z"
    }
   },
   "outputs": [],
   "source": [
    "feature_dist('abdominal_distention')"
   ]
  },
  {
   "cell_type": "markdown",
   "metadata": {},
   "source": [
    "<div style=\"font-family: Verdana; background-color: #FFC09F; padding: 10px; border-radius: 5px; padding-top: 10px; padding-bottom: 2px; letter-spacing: 0.5px\">  \n",
    "    <ul>\n",
    "        <li><b><i>An animal with abdominal distension is likely to be painful and have reduced gut motility</i></b></li>\n",
    "        <li><b><i>A horse with severe abdominal distension is likely to require surgery just to relieve the pressure</i></b></li>\n",
    "    </ul>"
   ]
  },
  {
   "cell_type": "markdown",
   "metadata": {},
   "source": [
    "***"
   ]
  },
  {
   "cell_type": "markdown",
   "metadata": {},
   "source": [
    "<div style=\"border-radius:20px; border:#746AB0 solid; padding: 20px; background-color: #7FFFD4; font-size:100%; text-align:left; padding-top: 5px; padding-bottom: 5px\">\n",
    "<h2 align=\"left\"><font color='#800080'>Nasogastric tube</font></h2>\n",
    "    <p style=\"line-height: 1.5; font-size:100%; font-family: Verdana; letter-spacing: 0.5px;\"><b>This refers to any gas coming out of the tube</b><br>\n",
    "        <b>1. none</b><br>\n",
    "        <b>2. slight</b><br>\n",
    "        <b>3. significant</b>\n",
    "</p></div>"
   ]
  },
  {
   "cell_type": "code",
   "execution_count": null,
   "metadata": {
    "_kg_hide-input": true,
    "execution": {
     "iopub.execute_input": "2023-09-23T10:40:14.763411Z",
     "iopub.status.busy": "2023-09-23T10:40:14.763108Z",
     "iopub.status.idle": "2023-09-23T10:40:15.163374Z",
     "shell.execute_reply": "2023-09-23T10:40:15.161883Z",
     "shell.execute_reply.started": "2023-09-23T10:40:14.763387Z"
    }
   },
   "outputs": [],
   "source": [
    "feature_dist('nasogastric_tube')"
   ]
  },
  {
   "cell_type": "markdown",
   "metadata": {},
   "source": [
    "<div style=\"font-family: Verdana; background-color: #FFC09F; padding: 10px; border-radius: 5px; padding-top: 10px; padding-bottom: 10px; letter-spacing: 0.5px\">\n",
    "<b><i>A large gas cap in the stomach is likely to give the horse discomfort</i></b>"
   ]
  },
  {
   "cell_type": "markdown",
   "metadata": {},
   "source": [
    "***"
   ]
  },
  {
   "cell_type": "markdown",
   "metadata": {},
   "source": [
    "<div style=\"border-radius:20px; border:#746AB0 solid; padding: 20px; background-color: #7FFFD4; font-size:100%; text-align:left; padding-top: 5px; padding-bottom: 5px\">\n",
    "<h2 align=\"left\"><font color='#800080'>Nasogastric reflux</font></h2>\n",
    "    <p style=\"line-height: 1.5; font-size:100%; font-family: Verdana; letter-spacing: 0.5px;\">\n",
    "        <b>1. none</b><br>\n",
    "        <b>2. less_1_liter (&lt; 1 liter)</b><br>\n",
    "        <b>3. more_1_liter (&gt; 1 liter)</b>\n",
    "</p></div>"
   ]
  },
  {
   "cell_type": "code",
   "execution_count": null,
   "metadata": {
    "execution": {
     "iopub.execute_input": "2023-09-23T10:40:15.164887Z",
     "iopub.status.busy": "2023-09-23T10:40:15.164615Z",
     "iopub.status.idle": "2023-09-23T10:40:15.17403Z",
     "shell.execute_reply": "2023-09-23T10:40:15.172982Z",
     "shell.execute_reply.started": "2023-09-23T10:40:15.164864Z"
    }
   },
   "outputs": [],
   "source": [
    "train['nasogastric_reflux'].value_counts(dropna=False)"
   ]
  },
  {
   "cell_type": "markdown",
   "metadata": {},
   "source": [
    "In this column too an outlier is present with value slight. Let's change this to nan."
   ]
  },
  {
   "cell_type": "code",
   "execution_count": null,
   "metadata": {
    "_kg_hide-input": true,
    "execution": {
     "iopub.execute_input": "2023-09-23T10:40:15.175456Z",
     "iopub.status.busy": "2023-09-23T10:40:15.175209Z",
     "iopub.status.idle": "2023-09-23T10:40:15.58411Z",
     "shell.execute_reply": "2023-09-23T10:40:15.583175Z",
     "shell.execute_reply.started": "2023-09-23T10:40:15.175434Z"
    }
   },
   "outputs": [],
   "source": [
    "train['nasogastric_reflux'].replace({'slight': np.nan}, inplace=True)\n",
    "feature_dist('nasogastric_reflux')"
   ]
  },
  {
   "cell_type": "markdown",
   "metadata": {},
   "source": [
    "<div style=\"font-family: Verdana; background-color: #FFC09F; padding: 10px; border-radius: 5px; padding-top: 10px; padding-bottom: 10px; letter-spacing: 0.5px\">\n",
    "<b><i>The greater amount of reflux, the more likelihood that there is some serious obstruction to the fluid passage from the rest of the intestine</i></b>"
   ]
  },
  {
   "cell_type": "markdown",
   "metadata": {},
   "source": [
    "***"
   ]
  },
  {
   "cell_type": "markdown",
   "metadata": {},
   "source": [
    "<div style=\"border-radius:20px; border:#746AB0 solid; padding: 20px; background-color: #7FFFD4; font-size:100%; text-align:left; padding-top: 5px; padding-bottom: 5px\">\n",
    "<h2 align=\"left\"><font color='#800080'>Nasogastric reflux ph</font></h2>\n",
    "    <p style=\"line-height: 1.5; font-size:100%; font-family: Verdana; letter-spacing: 0.5px;\">\n",
    "</p></div>"
   ]
  },
  {
   "cell_type": "code",
   "execution_count": null,
   "metadata": {
    "_kg_hide-input": true,
    "execution": {
     "iopub.execute_input": "2023-09-23T10:40:15.585725Z",
     "iopub.status.busy": "2023-09-23T10:40:15.585299Z",
     "iopub.status.idle": "2023-09-23T10:40:15.976897Z",
     "shell.execute_reply": "2023-09-23T10:40:15.975724Z",
     "shell.execute_reply.started": "2023-09-23T10:40:15.585693Z"
    }
   },
   "outputs": [],
   "source": [
    "feature_dist('nasogastric_reflux_ph')"
   ]
  },
  {
   "cell_type": "markdown",
   "metadata": {},
   "source": [
    "<div style=\"font-family: Verdana; background-color: #FFC09F; padding: 10px; border-radius: 5px; padding-top: 10px; padding-bottom: 2px; letter-spacing: 0.5px\">  \n",
    "    <ul>\n",
    "        <li><b><i>Scale is from 0 to 14 with 7 being neutral</i></b></li>\n",
    "        <li><b><i>Normal values are in the 3 to 4 range</i></b></li>\n",
    "    </ul>"
   ]
  },
  {
   "cell_type": "code",
   "execution_count": null,
   "metadata": {
    "execution": {
     "iopub.execute_input": "2023-09-23T10:47:36.424899Z",
     "iopub.status.busy": "2023-09-23T10:47:36.42457Z",
     "iopub.status.idle": "2023-09-23T10:47:36.437739Z",
     "shell.execute_reply": "2023-09-23T10:47:36.435708Z",
     "shell.execute_reply.started": "2023-09-23T10:47:36.424874Z"
    }
   },
   "outputs": [],
   "source": [
    "median_feature('nasogastric_reflux_ph', 'lived')\n",
    "median_feature('nasogastric_reflux_ph', 'died')\n",
    "median_feature('nasogastric_reflux_ph', 'euthanized')"
   ]
  },
  {
   "cell_type": "code",
   "execution_count": null,
   "metadata": {
    "execution": {
     "iopub.execute_input": "2023-09-23T10:49:46.967815Z",
     "iopub.status.busy": "2023-09-23T10:49:46.967465Z",
     "iopub.status.idle": "2023-09-23T10:49:46.976854Z",
     "shell.execute_reply": "2023-09-23T10:49:46.975576Z",
     "shell.execute_reply.started": "2023-09-23T10:49:46.967787Z"
    }
   },
   "outputs": [],
   "source": [
    "train['ph_norm'] = abs(train['nasogastric_reflux_ph'] - 4)\n",
    "test['ph_norm'] = abs(test['nasogastric_reflux_ph'] - 4)"
   ]
  },
  {
   "cell_type": "markdown",
   "metadata": {},
   "source": [
    "***"
   ]
  },
  {
   "cell_type": "markdown",
   "metadata": {},
   "source": [
    "<div style=\"border-radius:20px; border:#746AB0 solid; padding: 20px; background-color: #7FFFD4; font-size:100%; text-align:left; padding-top: 5px; padding-bottom: 5px\">\n",
    "<h2 align=\"left\"><font color='#800080'>Rectal examination feces</font></h2>\n",
    "    <p style=\"line-height: 1.5; font-size:100%; font-family: Verdana; letter-spacing: 0.5px;\">\n",
    "        <b>1. normal</b><br>\n",
    "        <b>2. increased</b><br>\n",
    "        <b>3. decreased</b><br>\n",
    "        <b>4. absent</b>\n",
    "</p></div>"
   ]
  },
  {
   "cell_type": "code",
   "execution_count": null,
   "metadata": {
    "execution": {
     "iopub.execute_input": "2023-09-23T10:40:15.978469Z",
     "iopub.status.busy": "2023-09-23T10:40:15.978159Z",
     "iopub.status.idle": "2023-09-23T10:40:15.987744Z",
     "shell.execute_reply": "2023-09-23T10:40:15.986711Z",
     "shell.execute_reply.started": "2023-09-23T10:40:15.978445Z"
    }
   },
   "outputs": [],
   "source": [
    "train['rectal_exam_feces'].value_counts(dropna=False)"
   ]
  },
  {
   "cell_type": "markdown",
   "metadata": {},
   "source": [
    "Another value making no sense at all. Let's convert this to null as well."
   ]
  },
  {
   "cell_type": "code",
   "execution_count": null,
   "metadata": {
    "_kg_hide-input": true,
    "execution": {
     "iopub.execute_input": "2023-09-23T10:40:15.989248Z",
     "iopub.status.busy": "2023-09-23T10:40:15.988968Z",
     "iopub.status.idle": "2023-09-23T10:40:16.404674Z",
     "shell.execute_reply": "2023-09-23T10:40:16.402735Z",
     "shell.execute_reply.started": "2023-09-23T10:40:15.989225Z"
    }
   },
   "outputs": [],
   "source": [
    "train['rectal_exam_feces'].replace({'serosanguious': np.nan}, inplace=True)\n",
    "feature_dist('rectal_exam_feces')"
   ]
  },
  {
   "cell_type": "markdown",
   "metadata": {},
   "source": [
    "<div style=\"font-family: Verdana; background-color: #FFC09F; padding: 10px; border-radius: 5px; padding-top: 10px; padding-bottom: 10px; letter-spacing: 0.5px\">\n",
    "<b><i>Absent feces probably indicates an obstruction</i></b>"
   ]
  },
  {
   "cell_type": "markdown",
   "metadata": {},
   "source": [
    "***"
   ]
  },
  {
   "cell_type": "markdown",
   "metadata": {},
   "source": [
    "<div style=\"border-radius:20px; border:#746AB0 solid; padding: 20px; background-color: #7FFFD4; font-size:100%; text-align:left; padding-top: 5px; padding-bottom: 5px\">\n",
    "<h2 align=\"left\"><font color='#800080'>Abdomen</font></h2>\n",
    "    <p style=\"line-height: 1.5; font-size:100%; font-family: Verdana; letter-spacing: 0.5px;\">\n",
    "        <b>1. normal</b><br>\n",
    "        <b>2. other</b><br>\n",
    "        <b>3. firm</b><br>\n",
    "        <b>4. distend_small</b><br>\n",
    "        <b>5. distend_large</b>\n",
    "</p></div>"
   ]
  },
  {
   "cell_type": "code",
   "execution_count": null,
   "metadata": {
    "_kg_hide-input": true,
    "execution": {
     "iopub.execute_input": "2023-09-23T10:40:16.412814Z",
     "iopub.status.busy": "2023-09-23T10:40:16.412448Z",
     "iopub.status.idle": "2023-09-23T10:40:16.989343Z",
     "shell.execute_reply": "2023-09-23T10:40:16.988228Z",
     "shell.execute_reply.started": "2023-09-23T10:40:16.412783Z"
    }
   },
   "outputs": [],
   "source": [
    "feature_dist('abdomen', rot=45)"
   ]
  },
  {
   "cell_type": "markdown",
   "metadata": {},
   "source": [
    "<div style=\"font-family: Verdana; background-color: #FFC09F; padding: 10px; border-radius: 5px; padding-top: 10px; padding-bottom: 2px; letter-spacing: 0.5px\"> \n",
    "    <ul>\n",
    "        <li><b><i>firm is probably an obstruction caused by a mechanical impaction and is normally treated medically</i></b></li>\n",
    "        <li><b><i>distend_small and distend_large indicate a surgical lesion</i></b></li>\n",
    "    </ul>"
   ]
  },
  {
   "cell_type": "markdown",
   "metadata": {},
   "source": [
    "***"
   ]
  },
  {
   "cell_type": "markdown",
   "metadata": {},
   "source": [
    "<div style=\"border-radius:20px; border:#746AB0 solid; padding: 20px; background-color: #7FFFD4; font-size:100%; text-align:left; padding-top: 5px; padding-bottom: 5px\">\n",
    "<h2 align=\"left\"><font color='#800080'>Packed cell volume</font></h2>\n",
    "    <p style=\"line-height: 1.5; font-size:100%; font-family: Verdana; letter-spacing: 0.5px;\"><b>The number of red cells by volume in the blood</b>\n",
    "</p></div>"
   ]
  },
  {
   "cell_type": "code",
   "execution_count": null,
   "metadata": {
    "_kg_hide-input": true,
    "execution": {
     "iopub.execute_input": "2023-09-23T10:40:16.991459Z",
     "iopub.status.busy": "2023-09-23T10:40:16.990358Z",
     "iopub.status.idle": "2023-09-23T10:40:17.403078Z",
     "shell.execute_reply": "2023-09-23T10:40:17.402178Z",
     "shell.execute_reply.started": "2023-09-23T10:40:16.991427Z"
    }
   },
   "outputs": [],
   "source": [
    "feature_dist('packed_cell_volume')"
   ]
  },
  {
   "cell_type": "markdown",
   "metadata": {},
   "source": [
    "<div style=\"font-family: Verdana; background-color: #FFC09F; padding: 10px; border-radius: 5px; padding-top: 10px; padding-bottom: 2px; letter-spacing: 0.5px\"> \n",
    "    <ul>\n",
    "        <li><b><i>Normal range is 30 to 50</i></b></li>\n",
    "        <li><b><i>The level rises as the circulation becomes compromised or as the animal becomes dehydrated</i></b></li>\n",
    "    </ul>"
   ]
  },
  {
   "cell_type": "markdown",
   "metadata": {},
   "source": [
    "***"
   ]
  },
  {
   "cell_type": "markdown",
   "metadata": {},
   "source": [
    "<div style=\"border-radius:20px; border:#746AB0 solid; padding: 20px; background-color: #7FFFD4; font-size:100%; text-align:left; padding-top: 5px; padding-bottom: 5px\">\n",
    "<h2 align=\"left\"><font color='#800080'>Total protein</font></h2>\n",
    "    <p style=\"line-height: 1.5; font-size:100%; font-family: Verdana; letter-spacing: 0.5px;\">\n",
    "</p></div>"
   ]
  },
  {
   "cell_type": "code",
   "execution_count": null,
   "metadata": {
    "_kg_hide-input": true,
    "execution": {
     "iopub.execute_input": "2023-09-23T10:40:17.40442Z",
     "iopub.status.busy": "2023-09-23T10:40:17.4042Z",
     "iopub.status.idle": "2023-09-23T10:40:18.009225Z",
     "shell.execute_reply": "2023-09-23T10:40:18.008128Z",
     "shell.execute_reply.started": "2023-09-23T10:40:17.4044Z"
    }
   },
   "outputs": [],
   "source": [
    "feature_dist('total_protein', bins=100)"
   ]
  },
  {
   "cell_type": "markdown",
   "metadata": {},
   "source": [
    "<div style=\"font-family: Verdana; background-color: #FFC09F; padding: 10px; border-radius: 5px; padding-top: 10px; padding-bottom: 2px; letter-spacing: 0.5px\"> \n",
    "    <ul>\n",
    "        <li><b><i>Normal values lie in the 6-7.5 (gms/dL) range but the distribution says otherwise. Either this could be a useful feature or not at all.</i></b></li>\n",
    "        <li><b><i>The higher the value the greater the dehydration</i></b></li>\n",
    "    </ul>"
   ]
  },
  {
   "cell_type": "code",
   "execution_count": null,
   "metadata": {
    "execution": {
     "iopub.execute_input": "2023-09-23T11:06:27.304901Z",
     "iopub.status.busy": "2023-09-23T11:06:27.304566Z",
     "iopub.status.idle": "2023-09-23T11:06:27.319892Z",
     "shell.execute_reply": "2023-09-23T11:06:27.318435Z",
     "shell.execute_reply.started": "2023-09-23T11:06:27.304877Z"
    }
   },
   "outputs": [],
   "source": [
    "median_feature('total_protein', 'lived')\n",
    "median_feature('total_protein', 'died')\n",
    "median_feature('total_protein', 'euthanized')"
   ]
  },
  {
   "cell_type": "markdown",
   "metadata": {},
   "source": [
    "***"
   ]
  },
  {
   "cell_type": "markdown",
   "metadata": {},
   "source": [
    "<div style=\"border-radius:20px; border:#746AB0 solid; padding: 20px; background-color: #7FFFD4; font-size:100%; text-align:left; padding-top: 5px; padding-bottom: 5px\">\n",
    "<h2 align=\"left\"><font color='#800080'>Abdominocentesis appearance</font></h2>\n",
    "    <p style=\"line-height: 1.5; font-size:100%; font-family: Verdana; letter-spacing: 0.5px;\"><b>A needle is put in the horse's abdomen and fluid is obtained from the abdominal cavity</b><br>\n",
    "        <b>1. clear</b><br>\n",
    "        <b>2. cloudy</b><br>\n",
    "        <b>3. serosanguinous</b>\n",
    "</p></div>"
   ]
  },
  {
   "cell_type": "code",
   "execution_count": null,
   "metadata": {
    "_kg_hide-input": true,
    "execution": {
     "iopub.execute_input": "2023-09-23T10:40:18.011524Z",
     "iopub.status.busy": "2023-09-23T10:40:18.011183Z",
     "iopub.status.idle": "2023-09-23T10:40:18.39689Z",
     "shell.execute_reply": "2023-09-23T10:40:18.395615Z",
     "shell.execute_reply.started": "2023-09-23T10:40:18.011496Z"
    }
   },
   "outputs": [],
   "source": [
    "feature_dist('abdomo_appearance')"
   ]
  },
  {
   "cell_type": "markdown",
   "metadata": {},
   "source": [
    "<div style=\"font-family: Verdana; background-color: #FFC09F; padding: 10px; border-radius: 5px; padding-top: 10px; padding-bottom: 10px; letter-spacing: 0.5px\"> \n",
    "    <b><i>Normal fluid is clear while cloudy or serosanguinous indicates a compromised gut</i></b>"
   ]
  },
  {
   "cell_type": "markdown",
   "metadata": {},
   "source": [
    "***"
   ]
  },
  {
   "cell_type": "markdown",
   "metadata": {},
   "source": [
    "<div style=\"border-radius:20px; border:#746AB0 solid; padding: 20px; background-color: #7FFFD4; font-size:100%; text-align:left; padding-top: 5px; padding-bottom: 5px\">\n",
    "<h2 align=\"left\"><font color='#800080'>Abdomcentesis total protein</font></h2>\n",
    "    <p style=\"line-height: 1.5; font-size:100%; font-family: Verdana; letter-spacing: 0.5px;\">\n",
    "</p></div>"
   ]
  },
  {
   "cell_type": "code",
   "execution_count": null,
   "metadata": {
    "_kg_hide-input": true,
    "execution": {
     "iopub.execute_input": "2023-09-23T10:40:18.398376Z",
     "iopub.status.busy": "2023-09-23T10:40:18.398067Z",
     "iopub.status.idle": "2023-09-23T10:40:18.822949Z",
     "shell.execute_reply": "2023-09-23T10:40:18.82204Z",
     "shell.execute_reply.started": "2023-09-23T10:40:18.398351Z"
    }
   },
   "outputs": [],
   "source": [
    "feature_dist('abdomo_protein')"
   ]
  },
  {
   "cell_type": "markdown",
   "metadata": {},
   "source": [
    "<div style=\"font-family: Verdana; background-color: #FFC09F; padding: 10px; border-radius: 5px; padding-top: 10px; padding-bottom: 10px; letter-spacing: 0.5px\"> \n",
    "    <b><i>The higher the level of protein the more likely it is to have a compromised gut. Values are in gms/dL</i></b>"
   ]
  },
  {
   "cell_type": "markdown",
   "metadata": {},
   "source": [
    "***"
   ]
  },
  {
   "cell_type": "markdown",
   "metadata": {},
   "source": [
    "<div style=\"border-radius:20px; border:#746AB0 solid; padding: 20px; background-color: #7FFFD4; font-size:100%; text-align:left; padding-top: 5px; padding-bottom: 5px\">\n",
    "<h2 align=\"left\"><font color='#800080'>Surgical lesion</font></h2>\n",
    "    <p style=\"line-height: 1.5; font-size:100%; font-family: Verdana; letter-spacing: 0.5px;\"><b>Retrospectively, was the problem (lesion) surgical?</b><br>\n",
    "        <b>1. yes</b><br>\n",
    "        <b>2. no</b>\n",
    "</p></div>"
   ]
  },
  {
   "cell_type": "code",
   "execution_count": null,
   "metadata": {
    "_kg_hide-input": true,
    "execution": {
     "iopub.execute_input": "2023-09-23T10:40:18.824235Z",
     "iopub.status.busy": "2023-09-23T10:40:18.823955Z",
     "iopub.status.idle": "2023-09-23T10:40:19.13448Z",
     "shell.execute_reply": "2023-09-23T10:40:19.133029Z",
     "shell.execute_reply.started": "2023-09-23T10:40:18.824212Z"
    }
   },
   "outputs": [],
   "source": [
    "feature_dist('surgical_lesion')"
   ]
  },
  {
   "cell_type": "markdown",
   "metadata": {},
   "source": [
    "<div style=\"font-family: Verdana; background-color: #FFC09F; padding: 10px; border-radius: 5px; padding-top: 10px; padding-bottom: 10px; letter-spacing: 0.5px\"> \n",
    "    <b><i>All cases are either operated upon or autopsied so that this value and the lesion type are always known</i></b>"
   ]
  },
  {
   "cell_type": "markdown",
   "metadata": {},
   "source": [
    "***"
   ]
  },
  {
   "cell_type": "markdown",
   "metadata": {},
   "source": [
    "<div style=\"border-radius:20px; border:#746AB0 solid; padding: 20px; background-color: #7FFFD4; font-size:100%; text-align:left; padding-top: 5px; padding-bottom: 5px\">\n",
    "<h2 align=\"left\"><font color='#800080'>Type of lesion</font></h2>\n",
    "    <p style=\"line-height: 1.5; font-size:100%; font-family: Verdana; letter-spacing: 0.5px;\"><b>The lesion_1 looks like a numeric feature but is not. This feature contains 4 numbers typically which are<br> i) site of lesion<br> ii) type of lesion<br> iii) subtype of lesion<br> iv) specific code.<br> Each of these are described below:</b></p>\n",
    "        <h3 align=\"left\"><font color='#800080'>Site</font></h3>\n",
    "    <b>1 = gastric</b><br>\n",
    "    <b>2 = sm intestine</b><br>\n",
    "    <b>3 = lg colon</b><br>\n",
    "    <b>4 = lg colon and cecum</b><br>\n",
    "    <b>5 = cecum</b><br>\n",
    "    <b>6 = transverse colon</b><br>\n",
    "    <b>7 = retum/descending colon</b><br>\n",
    "    <b>8 = uterus</b><br>\n",
    "    <b>9 = bladder</b><br>\n",
    "    <b>11 = all intestinal sites</b><br>\n",
    "        <b>00 = none</b>\n",
    "    \n",
    "<h3 align=\"left\"><font color='#800080'>Type</font></h3>\n",
    "    <b>1 = simple</b><br>\n",
    "    <b>2 = strangulation</b><br>\n",
    "    <b>3 = inflammation</b><br>\n",
    "    <b>4 = other</b><br>\n",
    "    <b>0 = n/a</b>\n",
    " \n",
    "<h3 align=\"left\"><font color='#800080'>Subtype</font></h3>\n",
    "    <body><b>1 = mechanical</b><br>\n",
    "    <b>2 = paralytic</b><br>\n",
    "    <b>0 = n/a</b>\n",
    "        \n",
    "<h3 align=\"left\"><font color='#800080'>Specific code</font></h3>\n",
    "    <b>1 = obturation</b><br>\n",
    "    <b>2 = intrinsic</b><br>\n",
    "    <b>3 = extrinsic</b><br>\n",
    "    <b>4 = adynamic</b><br>\n",
    "    <b>5 = volvulus/torsion</b><br>\n",
    "    <b>6 = intussuption</b><br>\n",
    "    <b>7 = thromboembolic</b><br>\n",
    "    <b>8 = hernia</b><br>\n",
    "    <b>9 = lipoma/slenic incarceration</b><br>\n",
    "    <b>10 = displacement</b><br>\n",
    "    <b>0 = n/a</b>"
   ]
  },
  {
   "cell_type": "markdown",
   "metadata": {},
   "source": [
    "This could be the most valuable feature if we engineer it nicely. Domain knowledge plays a crucial part here."
   ]
  },
  {
   "cell_type": "code",
   "execution_count": null,
   "metadata": {
    "execution": {
     "iopub.execute_input": "2023-09-23T10:40:19.135966Z",
     "iopub.status.busy": "2023-09-23T10:40:19.135652Z",
     "iopub.status.idle": "2023-09-23T10:40:19.145953Z",
     "shell.execute_reply": "2023-09-23T10:40:19.144619Z",
     "shell.execute_reply.started": "2023-09-23T10:40:19.13594Z"
    }
   },
   "outputs": [],
   "source": [
    "print(f\"Percentage of 0s in lesion_2 feature:{train[train.lesion_2 == 0].shape[0]/len(train)*100:.2f}%\")\n",
    "print(f\"Percentage of 0s in lesion_3 feature:{train[train.lesion_3 == 0].shape[0]/len(train)*100:.2f}%\")"
   ]
  },
  {
   "cell_type": "markdown",
   "metadata": {},
   "source": [
    "Most of the values in the lesion_2 and lesion_3 are zero and these don't look like any valuable features so let's drop these and divide lesion_1 column in 4 separate features as given in the description"
   ]
  },
  {
   "cell_type": "code",
   "execution_count": null,
   "metadata": {
    "execution": {
     "iopub.execute_input": "2023-09-23T11:19:07.91692Z",
     "iopub.status.busy": "2023-09-23T11:19:07.916356Z",
     "iopub.status.idle": "2023-09-23T11:19:07.942114Z",
     "shell.execute_reply": "2023-09-23T11:19:07.940778Z",
     "shell.execute_reply.started": "2023-09-23T11:19:07.916887Z"
    }
   },
   "outputs": [],
   "source": [
    "# Feature transformations\n",
    "# train_df, test_df = train.copy(), test.copy()\n",
    "def clean_and_transform(df):\n",
    "    # change 3 to more_3_sec\n",
    "    df['capillary_refill_time'].replace({'3': 'more_3_sec'}, inplace=True)\n",
    "    # convert slight and moderate to mild pain category\n",
    "    df['pain'].replace({'slight': 'mild_pain'}, inplace=True)\n",
    "    df['pain'].replace({'moderate': 'mild_pain'}, inplace=True)\n",
    "    # clean below 3 columns\n",
    "    df['peristalsis'].replace({'distend_small': np.nan}, inplace=True)\n",
    "    df['nasogastric_reflux'].replace({'slight': np.nan}, inplace=True)\n",
    "    df['rectal_exam_feces'].replace({'serosanguious': np.nan}, inplace=True)\n",
    "    \n",
    "    df['rectal_temp'] = df['rectal_temp'] - 37.8\n",
    "    df['total_protein_cat'] = df['total_protein'] > 40\n",
    "    df['lesion_1'] = df['lesion_1'].astype('str')\n",
    "    df['lesion1'] = df['lesion_1'].apply(lambda x: x+'0'*(4-len(x)) if len(x) <= 4 else x)\n",
    "    df['lesion_site'] = df['lesion1'].apply(lambda x: x[:2] if len(x) == 5 and x[0] == '1' else x[0])\n",
    "    df['lesion_type'] = df['lesion1'].apply(lambda x: x[2] if len(x) == 5 and x[0] == '1' else x[1])\n",
    "    df['lesion_subtype'] = df['lesion1'].apply(lambda x: x[3] if len(x) == 5 and x[0] == '1' else x[2])\n",
    "    df['lesion_code'] = df['lesion1'].apply(lambda x: x[-2:] if len(x) == 5 and x[0] != '1' else x[-1])\n",
    "    df = df.drop(['id', 'lesion1', 'lesion_1', 'lesion_2', 'lesion_3'], axis=1)\n",
    "    return df\n",
    "train_df = clean_and_transform(train)\n",
    "test_df = clean_and_transform(test)"
   ]
  },
  {
   "cell_type": "code",
   "execution_count": null,
   "metadata": {
    "execution": {
     "iopub.execute_input": "2023-09-23T11:20:35.512058Z",
     "iopub.status.busy": "2023-09-23T11:20:35.511498Z",
     "iopub.status.idle": "2023-09-23T11:20:35.519988Z",
     "shell.execute_reply": "2023-09-23T11:20:35.518803Z",
     "shell.execute_reply.started": "2023-09-23T11:20:35.512028Z"
    }
   },
   "outputs": [],
   "source": [
    "# Replacing value 7 with 0 for test_df as it is not present in train_df\n",
    "test_df.lesion_type.replace({'7': '0'}, inplace=True)"
   ]
  },
  {
   "cell_type": "markdown",
   "metadata": {},
   "source": [
    "***"
   ]
  },
  {
   "cell_type": "markdown",
   "metadata": {},
   "source": [
    "<div style=\"border-radius:20px; border:#746AB0 solid; padding: 20px; background-color: #7FFFD4; font-size:100%; text-align:left; padding-top: 5px; padding-bottom: 5px\">\n",
    "<h2 align=\"left\"><font color='#800080'>Cp data</font></h2>\n",
    "    <p style=\"line-height: 1.5; font-size:100%; font-family: Verdana; letter-spacing: 0.5px;\"><b>Is pathology data present for this case?</b><br>\n",
    "        <b>1. yes</b><br>\n",
    "        <b>2. no</b>\n",
    "</p></div>"
   ]
  },
  {
   "cell_type": "code",
   "execution_count": null,
   "metadata": {
    "_kg_hide-input": true,
    "execution": {
     "iopub.execute_input": "2023-09-23T10:40:19.194207Z",
     "iopub.status.busy": "2023-09-23T10:40:19.193142Z",
     "iopub.status.idle": "2023-09-23T10:40:19.542118Z",
     "shell.execute_reply": "2023-09-23T10:40:19.541145Z",
     "shell.execute_reply.started": "2023-09-23T10:40:19.194166Z"
    }
   },
   "outputs": [],
   "source": [
    "feature_dist('cp_data')"
   ]
  },
  {
   "cell_type": "markdown",
   "metadata": {},
   "source": [
    "<div style=\"font-family: Verdana; background-color: #FFC09F; padding: 10px; border-radius: 5px; padding-top: 10px; padding-bottom: 10px; letter-spacing: 0.5px\"> \n",
    "    <b><i>This variable is of no significance since pathology data is not included or collected for these cases(original description). But let us keep this for the time being and see this feature's importance after training.</i></b>"
   ]
  },
  {
   "cell_type": "markdown",
   "metadata": {},
   "source": [
    "# <p style=\"font-family: Georgia; letter-spacing: 1px; color:#2F1B25; font-size:110%; text-align:center; padding: 0px; border-bottom: 2px solid #000000; padding-top: 0px; padding-bottom: 5px\"> Feature Selection🧺</p>"
   ]
  },
  {
   "cell_type": "markdown",
   "metadata": {},
   "source": [
    "In this section I will be focusing on feature selection techniques to eliminate redundant and uninformative features."
   ]
  },
  {
   "cell_type": "code",
   "execution_count": null,
   "metadata": {
    "execution": {
     "iopub.execute_input": "2023-09-23T10:40:19.543378Z",
     "iopub.status.busy": "2023-09-23T10:40:19.543114Z",
     "iopub.status.idle": "2023-09-23T10:40:22.00128Z",
     "shell.execute_reply": "2023-09-23T10:40:21.999783Z",
     "shell.execute_reply.started": "2023-09-23T10:40:19.543355Z"
    }
   },
   "outputs": [],
   "source": [
    "# Loading required libraries\n",
    "from sklearn.preprocessing import LabelEncoder, StandardScaler\n",
    "from sklearn.feature_selection import mutual_info_classif\n",
    "from sklearn.inspection import permutation_importance\n",
    "from sklearn.model_selection import train_test_split, StratifiedKFold\n",
    "from sklearn.metrics import f1_score, accuracy_score\n",
    "from sklearn.ensemble import RandomForestClassifier, GradientBoostingClassifier, ExtraTreesClassifier\n",
    "from xgboost import XGBClassifier\n",
    "from lightgbm import LGBMClassifier\n",
    "from catboost import CatBoostClassifier"
   ]
  },
  {
   "cell_type": "code",
   "execution_count": null,
   "metadata": {
    "execution": {
     "iopub.execute_input": "2023-09-23T11:20:42.95146Z",
     "iopub.status.busy": "2023-09-23T11:20:42.950571Z",
     "iopub.status.idle": "2023-09-23T11:20:42.980818Z",
     "shell.execute_reply": "2023-09-23T11:20:42.980063Z",
     "shell.execute_reply.started": "2023-09-23T11:20:42.951427Z"
    }
   },
   "outputs": [],
   "source": [
    "# Encoding categorical features to numerical values\n",
    "numeric_cols = train_df.select_dtypes(include='number').columns.tolist()\n",
    "cat_cols = train_df.select_dtypes(include='object').columns.tolist()\n",
    "label_encoders = {}\n",
    "for col in cat_cols:\n",
    "    label_encoders[col] = LabelEncoder()\n",
    "    train_df[col + '_encoded'] = label_encoders[col].fit_transform(train_df[col])\n",
    "    if col != 'outcome':\n",
    "        test_df[col + '_encoded'] = label_encoders[col].transform(test_df[col])"
   ]
  },
  {
   "cell_type": "markdown",
   "metadata": {},
   "source": [
    "## <p style=\"font-family: Georgia; letter-spacing: 1px; color:#2F1B25; font-size:110%; text-align:center; padding: 0px; border-bottom: 2px solid #000000; padding-top: 0px; padding-bottom: 5px\">Mutual Information</p>"
   ]
  },
  {
   "cell_type": "code",
   "execution_count": null,
   "metadata": {
    "execution": {
     "iopub.execute_input": "2023-09-23T11:20:45.666461Z",
     "iopub.status.busy": "2023-09-23T11:20:45.665418Z",
     "iopub.status.idle": "2023-09-23T11:20:46.319545Z",
     "shell.execute_reply": "2023-09-23T11:20:46.318675Z",
     "shell.execute_reply.started": "2023-09-23T11:20:45.666425Z"
    }
   },
   "outputs": [],
   "source": [
    "X = train_df.drop(cat_cols+['outcome_encoded'], axis=1)\n",
    "y = train_df['outcome_encoded']\n",
    "mi_scores = pd.DataFrame({'Feature': X.columns, 'MI_score': mutual_info_classif(X, y)})\n",
    "mi_scores = mi_scores.sort_values('MI_score', ascending=False)\n",
    "plt.figure(figsize=(10,8))\n",
    "sns.barplot(data=mi_scores, x='MI_score', y='Feature', palette='coolwarm')\n",
    "plt.title(\"Mutual information scores\", fontsize=15)\n",
    "plt.show()"
   ]
  },
  {
   "cell_type": "markdown",
   "metadata": {},
   "source": [
    "<div style=\"font-family: Verdana; background-color: #FFC09F; padding: 10px; border-radius: 5px; padding-top: 10px; padding-bottom: 10px; letter-spacing: 0.5px\"> \n",
    "    Most of the highly informative features are the numerical features according to the MI scores.</div>"
   ]
  },
  {
   "cell_type": "code",
   "execution_count": null,
   "metadata": {
    "_kg_hide-input": true,
    "execution": {
     "iopub.execute_input": "2023-09-23T10:40:22.691206Z",
     "iopub.status.busy": "2023-09-23T10:40:22.690905Z",
     "iopub.status.idle": "2023-09-23T10:40:22.696943Z",
     "shell.execute_reply": "2023-09-23T10:40:22.695404Z",
     "shell.execute_reply.started": "2023-09-23T10:40:22.691181Z"
    }
   },
   "outputs": [],
   "source": [
    "# for i in range(1, len(mi_scores)+1):\n",
    "#     mi_cols = mi_scores[:i].Feature.tolist()\n",
    "#     print(f\"----------Model scores with top {i} features based on Mutual Information----------\")\n",
    "#     make_predictions(mi_cols)\n",
    "#     print(\"*\"*50)"
   ]
  },
  {
   "cell_type": "markdown",
   "metadata": {},
   "source": [
    "## <p style=\"font-family: Georgia; letter-spacing: 1px; color:#2F1B25; font-size:110%; text-align:center; padding: 0px; border-bottom: 2px solid #000000; padding-top: 0px; padding-bottom: 5px\">Correlation</p>"
   ]
  },
  {
   "cell_type": "code",
   "execution_count": null,
   "metadata": {
    "execution": {
     "iopub.execute_input": "2023-09-23T11:21:18.8203Z",
     "iopub.status.busy": "2023-09-23T11:21:18.819749Z",
     "iopub.status.idle": "2023-09-23T11:21:19.660625Z",
     "shell.execute_reply": "2023-09-23T11:21:19.659667Z",
     "shell.execute_reply.started": "2023-09-23T11:21:18.820269Z"
    }
   },
   "outputs": [],
   "source": [
    "# Plotting correlation heatmap \n",
    "plt.figure(figsize=(10,8))\n",
    "sns.heatmap(train_df.drop(cat_cols, axis=1).corr(), cmap='Blues')\n",
    "plt.title(\"Correlation Heatmap\", fontsize=18)\n",
    "plt.show()"
   ]
  },
  {
   "cell_type": "markdown",
   "metadata": {},
   "source": [
    "Let's now see the correlation of the features with outcome."
   ]
  },
  {
   "cell_type": "code",
   "execution_count": null,
   "metadata": {
    "execution": {
     "iopub.execute_input": "2023-09-23T11:21:23.075448Z",
     "iopub.status.busy": "2023-09-23T11:21:23.075103Z",
     "iopub.status.idle": "2023-09-23T11:21:23.600569Z",
     "shell.execute_reply": "2023-09-23T11:21:23.599543Z",
     "shell.execute_reply.started": "2023-09-23T11:21:23.075422Z"
    }
   },
   "outputs": [],
   "source": [
    "corrs = abs(train_df.drop(cat_cols, axis=1).corr()).outcome_encoded.sort_values(ascending=False)[1:].reset_index()\n",
    "corrs.columns = ['Feature', 'Correlation_with_outcome']\n",
    "plt.figure(figsize=(10,8))\n",
    "sns.barplot(data=corrs, x='Correlation_with_outcome', y='Feature', palette='hls')\n",
    "plt.title(\"Correlation of features with outcome\", fontsize=15)\n",
    "plt.show()"
   ]
  },
  {
   "cell_type": "code",
   "execution_count": null,
   "metadata": {
    "execution": {
     "iopub.execute_input": "2023-09-23T11:21:34.671178Z",
     "iopub.status.busy": "2023-09-23T11:21:34.670807Z",
     "iopub.status.idle": "2023-09-23T11:21:34.676222Z",
     "shell.execute_reply": "2023-09-23T11:21:34.675285Z",
     "shell.execute_reply.started": "2023-09-23T11:21:34.671152Z"
    }
   },
   "outputs": [],
   "source": [
    "# Select features based on correlation threshold\n",
    "def select_features(df, thresh):\n",
    "    df = df[df['Correlation_with_outcome'] > thresh]\n",
    "    return df['Feature'].values.tolist()"
   ]
  },
  {
   "cell_type": "markdown",
   "metadata": {},
   "source": [
    "Let's now make a baseline model with the selected features and see the difference in model scores for different thresholds. [Micro-averaged F1-score](https://en.wikipedia.org/wiki/F-score) is the evaluation metric."
   ]
  },
  {
   "cell_type": "code",
   "execution_count": null,
   "metadata": {
    "execution": {
     "iopub.execute_input": "2023-09-23T11:21:36.331735Z",
     "iopub.status.busy": "2023-09-23T11:21:36.330598Z",
     "iopub.status.idle": "2023-09-23T11:21:38.758773Z",
     "shell.execute_reply": "2023-09-23T11:21:38.758059Z",
     "shell.execute_reply.started": "2023-09-23T11:21:36.331685Z"
    }
   },
   "outputs": [],
   "source": [
    "# Make predictions with baseline Random Forest with selected features\n",
    "def make_predictions(cols):\n",
    "    # Separate X and y\n",
    "    X = train_df[cols]\n",
    "    y = train_df['outcome_encoded']\n",
    "    # Split into train and validation sets\n",
    "    X_train, X_test, y_train, y_test = train_test_split(X, y, test_size=0.2, stratify=y, random_state=24)\n",
    "    # Initialized oob_score to True for easy cross-validation\n",
    "    rf = RandomForestClassifier(oob_score=True, n_jobs=-1, random_state=24)\n",
    "    # Fit the model\n",
    "    rf.fit(X_train, y_train)\n",
    "    print(\"Out of Bag score:\", rf.oob_score_)\n",
    "    # make predictions\n",
    "    y_preds = rf.predict(X_test)\n",
    "    # Calculate micro F1-score\n",
    "    microF = f1_score(y_test, y_preds, average='micro')\n",
    "    print(\"Micro-averaged F1-Score:\", microF)\n",
    "\n",
    "# Evaluating model on different thresholds\n",
    "thresholds = [0.0, 0.05, 0.1, 0.15, 0.2, 0.25, 0.3]\n",
    "for thresh in thresholds:\n",
    "    imp_cols = select_features(corrs, thresh=thresh)\n",
    "    print(f\"Model scores with {thresh} correlation threshold:\")\n",
    "    make_predictions(imp_cols)\n",
    "    print(\"*\"*50)"
   ]
  },
  {
   "cell_type": "markdown",
   "metadata": {},
   "source": [
    "<div style=\"font-family: Verdana; background-color: #FFC09F; padding: 10px; border-radius: 5px; padding-top: 10px; padding-bottom: 2px; letter-spacing: 0.5px\">\n",
    "    <p> The model performs better when all or most of the features are included.</p>\n",
    "    </div>"
   ]
  },
  {
   "cell_type": "code",
   "execution_count": null,
   "metadata": {
    "execution": {
     "iopub.execute_input": "2023-09-23T11:25:48.448976Z",
     "iopub.status.busy": "2023-09-23T11:25:48.448307Z",
     "iopub.status.idle": "2023-09-23T11:25:49.280822Z",
     "shell.execute_reply": "2023-09-23T11:25:49.279612Z",
     "shell.execute_reply.started": "2023-09-23T11:25:48.448943Z"
    }
   },
   "outputs": [],
   "source": [
    "# Fit Random Forest model to data\n",
    "rf_imp_cols = select_features(corrs, thresh=0.0)\n",
    "X = train_df[rf_imp_cols]\n",
    "y = train_df['outcome_encoded']\n",
    "X_train, X_test, y_train, y_test = train_test_split(X, y, test_size=0.2, stratify=y, random_state=24)\n",
    "rf = RandomForestClassifier(oob_score=True, n_jobs=-1, random_state=24)\n",
    "rf.fit(X_train, y_train)\n",
    "\n",
    "# Feature importances using Random Forest\n",
    "rf_imps = pd.DataFrame({\"Feature\": X_train.columns, \"Importance\": rf.feature_importances_})\n",
    "rf_imps = rf_imps.sort_values('Importance', ascending=False)\n",
    "plt.figure(figsize=(10,8))\n",
    "sns.barplot(data=rf_imps, x=\"Importance\", y=\"Feature\", palette='icefire')\n",
    "plt.title(\"Random Forest feature importances\", fontsize=15)\n",
    "plt.show()"
   ]
  },
  {
   "cell_type": "markdown",
   "metadata": {},
   "source": [
    "Let's now make predictions one by one adding features to the data and see how it performs."
   ]
  },
  {
   "cell_type": "code",
   "execution_count": null,
   "metadata": {
    "execution": {
     "iopub.execute_input": "2023-09-23T11:26:06.444318Z",
     "iopub.status.busy": "2023-09-23T11:26:06.443949Z",
     "iopub.status.idle": "2023-09-23T11:26:17.584258Z",
     "shell.execute_reply": "2023-09-23T11:26:17.582704Z",
     "shell.execute_reply.started": "2023-09-23T11:26:06.44429Z"
    }
   },
   "outputs": [],
   "source": [
    "# Make predictions adding features one by one \n",
    "for i in range(1, len(rf_imps)+1):\n",
    "    rf_imp_cols = rf_imps[:i].Feature.tolist()\n",
    "    print(f\"----------Model scores with top {i} features----------\")\n",
    "    make_predictions(rf_imp_cols)\n",
    "    print(\"*\"*50)"
   ]
  },
  {
   "cell_type": "markdown",
   "metadata": {},
   "source": [
    "<div style=\"font-family: Verdana; background-color: #FFC09F; padding: 10px; border-radius: 5px; padding-top: 10px; padding-bottom: 2px; letter-spacing: 0.5px\">\n",
    "    <p> The model performed better at the end when using most of the features The best score came by selecting 26 and 27 features.</p>\n",
    "    </div>"
   ]
  },
  {
   "cell_type": "markdown",
   "metadata": {},
   "source": [
    "Let's try to model with the top 27 features. This is one less than the total features we have. Excluding the most informative feature according to our model and retraining."
   ]
  },
  {
   "cell_type": "code",
   "execution_count": null,
   "metadata": {
    "execution": {
     "iopub.execute_input": "2023-09-23T11:22:45.964979Z",
     "iopub.status.busy": "2023-09-23T11:22:45.964624Z",
     "iopub.status.idle": "2023-09-23T11:22:46.341469Z",
     "shell.execute_reply": "2023-09-23T11:22:46.340509Z",
     "shell.execute_reply.started": "2023-09-23T11:22:45.964952Z"
    }
   },
   "outputs": [],
   "source": [
    "# Modeling with top 28 features\n",
    "imp_cols = rf_imp_cols\n",
    "X = train_df[imp_cols]\n",
    "y = train_df['outcome_encoded']\n",
    "rf = RandomForestClassifier(oob_score = True, n_jobs=-1, random_state=24)\n",
    "rf.fit(X, y)"
   ]
  },
  {
   "cell_type": "code",
   "execution_count": null,
   "metadata": {
    "execution": {
     "iopub.execute_input": "2023-09-23T10:54:04.766306Z",
     "iopub.status.busy": "2023-09-23T10:54:04.765905Z",
     "iopub.status.idle": "2023-09-23T10:54:04.831267Z",
     "shell.execute_reply": "2023-09-23T10:54:04.830387Z",
     "shell.execute_reply.started": "2023-09-23T10:54:04.766275Z"
    }
   },
   "outputs": [],
   "source": [
    "X_final = test_df[imp_cols]\n",
    "preds = rf.predict(X_final)\n",
    "preds = label_encoders['outcome'].inverse_transform(preds)\n",
    "sub = pd.read_csv(sub_path)\n",
    "sub['outcome'] = preds\n",
    "sub.to_csv(\"horse_submission.csv\", index=False)"
   ]
  },
  {
   "cell_type": "code",
   "execution_count": null,
   "metadata": {
    "_kg_hide-input": true,
    "execution": {
     "iopub.execute_input": "2023-09-23T10:40:38.952756Z",
     "iopub.status.busy": "2023-09-23T10:40:38.951892Z",
     "iopub.status.idle": "2023-09-23T10:40:38.963856Z",
     "shell.execute_reply": "2023-09-23T10:40:38.962054Z",
     "shell.execute_reply.started": "2023-09-23T10:40:38.952723Z"
    }
   },
   "outputs": [],
   "source": [
    "# X = train_df.drop('outcome', axis=1)\n",
    "# # Encoding categorical features\n",
    "# X = pd.get_dummies(X)\n",
    "# y = train_df['outcome']\n",
    "# y = y.map({'died': 1, 'lived': 2, 'euthanized': 0})"
   ]
  },
  {
   "cell_type": "code",
   "execution_count": null,
   "metadata": {
    "_kg_hide-input": true,
    "execution": {
     "iopub.execute_input": "2023-09-23T10:40:38.96598Z",
     "iopub.status.busy": "2023-09-23T10:40:38.965157Z",
     "iopub.status.idle": "2023-09-23T10:40:38.97709Z",
     "shell.execute_reply": "2023-09-23T10:40:38.976207Z",
     "shell.execute_reply.started": "2023-09-23T10:40:38.96595Z"
    }
   },
   "outputs": [],
   "source": [
    "# X_train, X_test, y_train, y_test = train_test_split(X, y, test_size=0.25, random_state=24)\n",
    "# rf = RandomForestClassifier(oob_score=True, n_jobs=-1, random_state=24)\n",
    "# rf.fit(X_train, y_train)\n",
    "# print(\"Out of Bag score:\", rf.oob_score_)\n",
    "# y_preds = rf.predict(X_test)\n",
    "# microF = f1_score(y_test, y_preds, average='micro')\n",
    "# print(\"Validation accuracy:\", accuracy_score(y_test, y_preds))\n",
    "# print(\"Micro-averaged F1-Score:\", microF)"
   ]
  },
  {
   "cell_type": "code",
   "execution_count": null,
   "metadata": {
    "_kg_hide-input": true,
    "execution": {
     "iopub.execute_input": "2023-09-23T11:26:31.406474Z",
     "iopub.status.busy": "2023-09-23T11:26:31.404092Z",
     "iopub.status.idle": "2023-09-23T11:26:31.760406Z",
     "shell.execute_reply": "2023-09-23T11:26:31.759769Z",
     "shell.execute_reply.started": "2023-09-23T11:26:31.406425Z"
    }
   },
   "outputs": [],
   "source": [
    "xgb = XGBClassifier(random_state=24)\n",
    "xgb.fit(X_train, y_train)\n",
    "y_preds = xgb.predict(X_test)\n",
    "microF = f1_score(y_test, y_preds, average='micro')\n",
    "print(\"Validation accuracy:\", accuracy_score(y_test, y_preds))\n",
    "print(\"Micro-averaged F1-Score:\", microF)"
   ]
  },
  {
   "cell_type": "code",
   "execution_count": null,
   "metadata": {
    "_kg_hide-input": true,
    "execution": {
     "iopub.execute_input": "2023-09-23T11:24:03.031506Z",
     "iopub.status.busy": "2023-09-23T11:24:03.031159Z",
     "iopub.status.idle": "2023-09-23T11:24:03.520222Z",
     "shell.execute_reply": "2023-09-23T11:24:03.518292Z",
     "shell.execute_reply.started": "2023-09-23T11:24:03.031479Z"
    }
   },
   "outputs": [],
   "source": [
    "feature_imp = pd.DataFrame({'feature': X_train.columns, 'Importance': xgb.feature_importances_}) \n",
    "feature_imp = feature_imp.sort_values('Importance', ascending=False)\n",
    "sns.barplot(data=feature_imp, x='Importance', y='feature', palette='winter')"
   ]
  },
  {
   "cell_type": "code",
   "execution_count": null,
   "metadata": {},
   "outputs": [],
   "source": []
  },
  {
   "cell_type": "markdown",
   "metadata": {},
   "source": [
    "## *TO BE CONTINUED....*"
   ]
  }
 ],
 "metadata": {
  "kernelspec": {
   "display_name": "Python 3 (ipykernel)",
   "language": "python",
   "name": "python3"
  },
  "language_info": {
   "codemirror_mode": {
    "name": "ipython",
    "version": 3
   },
   "file_extension": ".py",
   "mimetype": "text/x-python",
   "name": "python",
   "nbconvert_exporter": "python",
   "pygments_lexer": "ipython3",
   "version": "3.10.12"
  }
 },
 "nbformat": 4,
 "nbformat_minor": 4
}
