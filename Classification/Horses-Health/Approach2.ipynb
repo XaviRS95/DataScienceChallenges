{
 "cells": [
  {
   "cell_type": "code",
   "execution_count": 1,
   "id": "aee6b3e1-e711-4a15-9b77-7b8a78bbff52",
   "metadata": {},
   "outputs": [],
   "source": [
    "import numpy as np\n",
    "import pandas as pd\n",
    "pd.set_option('display.max_rows', None)\n",
    "pd.set_option('display.max_columns', None)\n",
    "from sklearn.model_selection import GridSearchCV\n",
    "from sklearn.metrics import f1_score, make_scorer\n",
    "from imblearn.over_sampling import RandomOverSampler\n",
    "from sklearn.preprocessing import MinMaxScaler, LabelEncoder"
   ]
  },
  {
   "cell_type": "code",
   "execution_count": 2,
   "id": "7e4ecf79-b4f8-4405-8672-d7ebcdbef86c",
   "metadata": {},
   "outputs": [],
   "source": [
    "data = pd.read_csv('train.csv')"
   ]
  },
  {
   "cell_type": "code",
   "execution_count": 3,
   "id": "ca817407-1514-4d88-b7f5-06bacf075ef5",
   "metadata": {},
   "outputs": [],
   "source": [
    "data.drop(['id', 'hospital_number', 'abdomen'], axis = 1, inplace = True)"
   ]
  },
  {
   "cell_type": "code",
   "execution_count": 4,
   "id": "55033c96-bd80-41ff-9bf7-fffc074f2a5b",
   "metadata": {},
   "outputs": [],
   "source": [
    "def clean_data(clean_data):\n",
    "    clean_data['temp_of_extremities'].fillna('cool', inplace = True)\n",
    "    clean_data['mucous_membrane'].fillna('other', inplace = True)\n",
    "    clean_data['mucous_membrane'] = clean_data['mucous_membrane'].apply(lambda x: 'other' if x in ['absent', 'increased'] else x)\n",
    "    clean_data['capillary_refill_time'].fillna('less_3_sec', inplace = True)\n",
    "    clean_data['capillary_refill_time'] = clean_data['capillary_refill_time'].str.replace(pat = '3', repl = 'less_3_sec')\n",
    "    clean_data['pain'].fillna('pain', inplace = True)\n",
    "    clean_data['pain'] = clean_data['pain'].str.replace(pat = 'slight', repl = 'severe_pain')\n",
    "    clean_data['peristalsis'].fillna('absent', inplace = True)\n",
    "    clean_data['abdominal_distention'].fillna('severe', inplace = True)\n",
    "    clean_data['nasogastric_tube'].fillna('missing', inplace = True)\n",
    "    clean_data['nasogastric_reflux'] = clean_data['nasogastric_reflux'].str.replace(pat = 'slight', repl = 'missing')\n",
    "    clean_data['nasogastric_reflux'].fillna('missing', inplace = True)\n",
    "    clean_data['rectal_exam_feces'] = clean_data['rectal_exam_feces'].str.replace(pat = 'serosanguious', repl = 'missing')\n",
    "    clean_data['rectal_exam_feces'].fillna('missing', inplace = True)\n",
    "    clean_data['abdomo_appearance'].fillna('missing', inplace = True)\n",
    "\n",
    "    return clean_data"
   ]
  },
  {
   "cell_type": "code",
   "execution_count": 5,
   "id": "83372e9d-474e-4016-87ed-822a169a1060",
   "metadata": {},
   "outputs": [],
   "source": [
    "data = clean_data(data)\n",
    "\n",
    "data.drop(columns = ['pain', 'age' , 'nasogastric_reflux', 'lesion_1', 'lesion_2', 'lesion_3', 'rectal_temp', 'mucous_membrane', 'cp_data', 'nasogastric_tube'], inplace = True)\n",
    "\n",
    "\n",
    "\n",
    "\n",
    "float_columns = data.select_dtypes(include=['float64']).columns\n",
    "object_columns = data.select_dtypes(include=['object']).columns\n",
    "\n",
    "for column in float_columns:\n",
    "    data[column].fillna(data[column].median(skipna = True), inplace = True)\n",
    "\n",
    "minmax_scaler = MinMaxScaler()\n",
    "minmax_scaler.fit(data[float_columns])\n",
    "data[float_columns] = minmax_scaler.transform(data[float_columns])\n",
    "\n",
    "label_encoders = {x: LabelEncoder() for x in object_columns}\n",
    "\n",
    "for column in object_columns:\n",
    "    label_encoders[column].fit(data[column])\n",
    "    data[column] = label_encoders[column].transform(data[column])\n",
    "\n",
    "y = data['outcome']\n",
    "data.drop(columns = ['outcome'], inplace = True)\n",
    "data = pd.get_dummies(data, columns = object_columns.drop('outcome'), dtype=np.int8)"
   ]
  },
  {
   "cell_type": "code",
   "execution_count": 6,
   "id": "83594e4b-f30a-4b47-8356-c224bb57ec6c",
   "metadata": {},
   "outputs": [],
   "source": [
    "data['outcome'] = y\n",
    "y_to_oversample = data.query('outcome != 2')['outcome']\n",
    "features_to_oversample = data.query('outcome != 2').drop('outcome', axis = 1)\n",
    "ros = RandomOverSampler(random_state=42)\n",
    "\n",
    "X_res, y_res = ros.fit_resample(features_to_oversample, y_to_oversample)\n",
    "\n",
    "data.query('outcome == 2', inplace = True)\n",
    "X_res['outcome'] = y_res\n",
    "data = pd.concat([data, X_res])\n",
    "data.to_csv('train_data_to_use.csv', index = False)"
   ]
  },
  {
   "cell_type": "code",
   "execution_count": 7,
   "id": "1da1ecb3-96ab-48bf-9f95-4b684d1c02df",
   "metadata": {},
   "outputs": [],
   "source": [
    "from sklearn.svm import SVC\n",
    "from sklearn.model_selection import train_test_split\n",
    "from sklearn.ensemble import RandomForestClassifier, GradientBoostingClassifier\n",
    "from sklearn.metrics import precision_score, accuracy_score, f1_score, classification_report"
   ]
  },
  {
   "cell_type": "code",
   "execution_count": 11,
   "id": "f46570ae-43fe-443b-9235-eb3edaf426ec",
   "metadata": {},
   "outputs": [
    {
     "name": "stdout",
     "output_type": "stream",
     "text": [
      "RandomForest:\n",
      "              precision    recall  f1-score   support\n",
      "\n",
      "           0       0.78      0.64      0.70        99\n",
      "           1       0.82      0.89      0.86        84\n",
      "           2       0.70      0.78      0.74        96\n",
      "\n",
      "    accuracy                           0.76       279\n",
      "   macro avg       0.77      0.77      0.77       279\n",
      "weighted avg       0.77      0.76      0.76       279\n",
      "\n",
      "-------------------------------\n"
     ]
    }
   ],
   "source": [
    "y = data['outcome']\n",
    "data.drop(columns = ['outcome'], inplace = True)\n",
    "\n",
    "X_train, X_test, y_train, y_test = train_test_split(data, y, test_size=0.2)\n",
    "#Because of the low number of rows, bootstrap will be set to False.\n",
    "\n",
    "custom_scorer = make_scorer(f1_score, greater_is_better=True)\n",
    "param_grid = {'n_estimators': [50, 100, 150, 200, 250, 300],  # being the number of trees in the forest.\n",
    "                  'min_samples_leaf': [3, 5, 10, 20],  # number of minimum samples required at a leaf node.\n",
    "                  'min_samples_split': [3, 6, 9],  # number of minimum samples required to split an internal node.\n",
    "                  'criterion': ['entropy'],  # measures the quality of a split. Can use gini's impurity or entropy.\n",
    "                  # 'subsample':[0.5,0.8,1]#buscar con mas detalle\n",
    "                  # 'reg_lambda':[1,10,100]#buscar con mas detalle\n",
    "                  }\n",
    "\n",
    "clf = GridSearchCV(\n",
    "# Evaluates the performance of different groups of parameters for a model based on cross-validation.\n",
    "    RandomForestClassifier(class_weight='balanced', bootstrap=False, random_state=1234),\n",
    "    param_grid,  # dict of parameters.\n",
    "    cv=10,  # Specified number of folds in the Cross-Validation(K-Fold).\n",
    "    scoring='f1_micro')\n",
    "        # clf = GridSearchCV(DecisionTreeClassifier(max_leaf_nodes=3, random_state=0), param_grid2)\n",
    "clf.fit(X_train, y_train)\n",
    "        # print(\"Best estimator found by grid search:\")\n",
    "        # print(clf.best_estimator_)\n",
    "model = clf.best_estimator_  # Estimator that was chosen by the search, i.e. estimator which gave highest score (or smallest loss if specified) on the left out data        model.fit(X_train, y_train)\n",
    "\n",
    "\n",
    "print('RandomForest:')\n",
    "y_pred_rf = model.predict(X_test)\n",
    "print(classification_report(y_pred_rf, y_test))\n",
    "print('-------------------------------')\n",
    "\n",
    "\n"
   ]
  },
  {
   "cell_type": "markdown",
   "id": "33029607-6997-452e-92ca-1c702ed568f1",
   "metadata": {
    "jp-MarkdownHeadingCollapsed": true
   },
   "source": [
    "### XGBRegressor"
   ]
  },
  {
   "cell_type": "code",
   "execution_count": null,
   "id": "90d565a6-0200-475d-8b26-ccea306e1ba7",
   "metadata": {},
   "outputs": [],
   "source": [
    "import xgboost as xgb\n",
    "from scipy.stats import uniform, randint\n",
    "from sklearn.model_selection import cross_val_score, GridSearchCV, KFold, RandomizedSearchCV\n",
    "\n",
    "def report_best_scores(results, n_top=3):\n",
    "    for i in range(1, n_top + 1):\n",
    "        candidates = np.flatnonzero(results['rank_test_score'] == i)\n",
    "        for candidate in candidates:\n",
    "            print(\"Model with rank: {0}\".format(i))\n",
    "            print(\"Mean validation score: {0:.3f} (std: {1:.3f})\".format(\n",
    "                  results['mean_test_score'][candidate],\n",
    "                  results['std_test_score'][candidate]))\n",
    "            print(\"Parameters: {0}\".format(results['params'][candidate]))\n",
    "            print(\"\")\n",
    "\n",
    "params = {\n",
    "    \"colsample_bytree\": uniform(0.7, 0.3),\n",
    "    \"gamma\": uniform(0, 0.5),\n",
    "    \"learning_rate\": uniform(0.03, 0.3), # default 0.1 \n",
    "    \"max_depth\": randint(2, 6), # default 3\n",
    "    \"n_estimators\": randint(100, 300), # default 100\n",
    "    \"subsample\": uniform(0.6, 0.4)\n",
    "}\n",
    "\n",
    "xgb_model = xgb.XGBRegressor()\n",
    "\n",
    "search = RandomizedSearchCV(xgb_model, param_distributions=params, random_state=42, n_iter=200, cv=3, verbose=1, n_jobs=1, return_train_score=True)\n",
    "\n",
    "search.fit(X_train, y_train)"
   ]
  },
  {
   "cell_type": "code",
   "execution_count": null,
   "id": "eef0eec1-3961-4704-bd65-7a70a97807c2",
   "metadata": {},
   "outputs": [],
   "source": [
    "report_best_scores(search.cv_results_, 1)"
   ]
  },
  {
   "cell_type": "code",
   "execution_count": null,
   "id": "b6eca34a-6245-4c67-894f-a6fca8feadac",
   "metadata": {},
   "outputs": [],
   "source": [
    "xgb_model = xgb.XGBClassifier(objective=\"multi:softprob\", random_state=42)\n",
    "xgb_model.fit(X_train, y_train)\n",
    "\n",
    "y_pred_xgb = xgb_model.predict(X_test)\n",
    "\n",
    "print(classification_report(y_test, y_pred))"
   ]
  },
  {
   "cell_type": "markdown",
   "id": "6df93d8c-ce35-44c8-b8d8-a354b98f3f39",
   "metadata": {
    "jp-MarkdownHeadingCollapsed": true
   },
   "source": [
    "### Test section"
   ]
  },
  {
   "cell_type": "code",
   "execution_count": null,
   "id": "a7d7b0f4-e835-4329-aef7-61726ba5c556",
   "metadata": {},
   "outputs": [],
   "source": [
    "test_data = pd.read_csv('test.csv')"
   ]
  },
  {
   "cell_type": "code",
   "execution_count": null,
   "id": "6f651c36-89e3-4719-9883-c524efd8b221",
   "metadata": {},
   "outputs": [],
   "source": [
    "ids = test_data['id']\n",
    "test_data.drop(['id', 'hospital_number', 'abdomen'], axis = 1, inplace = True)\n",
    "clean_test_data = clean_data(test_data)\n",
    "clean_test_data['pain'] = clean_test_data['pain'].apply(lambda x: 'pain' if x == 'moderate' else x)"
   ]
  },
  {
   "cell_type": "code",
   "execution_count": null,
   "id": "8500769f-dd59-4008-ac67-7d19e65b2662",
   "metadata": {},
   "outputs": [],
   "source": [
    "float_columns = clean_test_data.select_dtypes(include=['float64']).columns\n",
    "object_columns = clean_test_data.select_dtypes(include=['object']).columns"
   ]
  },
  {
   "cell_type": "code",
   "execution_count": null,
   "id": "a9c21326-ebdb-49c8-9f44-25961cc1e333",
   "metadata": {},
   "outputs": [],
   "source": [
    "clean_test_data[float_columns] = minmax_scaler.transform(clean_test_data[float_columns])\n",
    "for column in object_columns:\n",
    "    #print(column)\n",
    "    clean_test_data[column] = label_encoders[column].transform(clean_test_data[column])"
   ]
  },
  {
   "cell_type": "code",
   "execution_count": null,
   "id": "64d64300-909d-4125-b859-6f5b4cdcdb5e",
   "metadata": {},
   "outputs": [],
   "source": [
    "y_hat = rf.predict(clean_test_data).astype(str)"
   ]
  },
  {
   "cell_type": "code",
   "execution_count": null,
   "id": "39aecf14-ea37-4e70-a474-26202ff477e5",
   "metadata": {},
   "outputs": [],
   "source": [
    "y_hat[y_hat == '0'] = 'died'\n",
    "y_hat[y_hat == '1'] = 'euthanized'\n",
    "y_hat[y_hat == '2'] = 'lived'"
   ]
  },
  {
   "cell_type": "code",
   "execution_count": null,
   "id": "a788a4d0-f399-4827-82fd-636b9411eab2",
   "metadata": {},
   "outputs": [],
   "source": [
    "submission = pd.DataFrame({'id':ids, 'outcome':y_hat})\n",
    "submission.to_csv('submission.csv', index = False)"
   ]
  }
 ],
 "metadata": {
  "kernelspec": {
   "display_name": "Python 3 (ipykernel)",
   "language": "python",
   "name": "python3"
  },
  "language_info": {
   "codemirror_mode": {
    "name": "ipython",
    "version": 3
   },
   "file_extension": ".py",
   "mimetype": "text/x-python",
   "name": "python",
   "nbconvert_exporter": "python",
   "pygments_lexer": "ipython3",
   "version": "3.10.12"
  }
 },
 "nbformat": 4,
 "nbformat_minor": 5
}
